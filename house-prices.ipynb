{
 "cells": [
  {
   "cell_type": "markdown",
   "metadata": {},
   "source": [
    "## Fetching data"
   ]
  },
  {
   "cell_type": "code",
   "execution_count": 1,
   "metadata": {
    "scrolled": true
   },
   "outputs": [
    {
     "data": {
      "text/html": [
       "<div>\n",
       "<style scoped>\n",
       "    .dataframe tbody tr th:only-of-type {\n",
       "        vertical-align: middle;\n",
       "    }\n",
       "\n",
       "    .dataframe tbody tr th {\n",
       "        vertical-align: top;\n",
       "    }\n",
       "\n",
       "    .dataframe thead th {\n",
       "        text-align: right;\n",
       "    }\n",
       "</style>\n",
       "<table border=\"1\" class=\"dataframe\">\n",
       "  <thead>\n",
       "    <tr style=\"text-align: right;\">\n",
       "      <th></th>\n",
       "      <th>Id</th>\n",
       "      <th>MSSubClass</th>\n",
       "      <th>MSZoning</th>\n",
       "      <th>LotFrontage</th>\n",
       "      <th>LotArea</th>\n",
       "      <th>Street</th>\n",
       "      <th>Alley</th>\n",
       "      <th>LotShape</th>\n",
       "      <th>LandContour</th>\n",
       "      <th>Utilities</th>\n",
       "      <th>...</th>\n",
       "      <th>PoolArea</th>\n",
       "      <th>PoolQC</th>\n",
       "      <th>Fence</th>\n",
       "      <th>MiscFeature</th>\n",
       "      <th>MiscVal</th>\n",
       "      <th>MoSold</th>\n",
       "      <th>YrSold</th>\n",
       "      <th>SaleType</th>\n",
       "      <th>SaleCondition</th>\n",
       "      <th>SalePrice</th>\n",
       "    </tr>\n",
       "  </thead>\n",
       "  <tbody>\n",
       "    <tr>\n",
       "      <th>0</th>\n",
       "      <td>1</td>\n",
       "      <td>60</td>\n",
       "      <td>RL</td>\n",
       "      <td>65.0</td>\n",
       "      <td>8450</td>\n",
       "      <td>Pave</td>\n",
       "      <td>NaN</td>\n",
       "      <td>Reg</td>\n",
       "      <td>Lvl</td>\n",
       "      <td>AllPub</td>\n",
       "      <td>...</td>\n",
       "      <td>0</td>\n",
       "      <td>NaN</td>\n",
       "      <td>NaN</td>\n",
       "      <td>NaN</td>\n",
       "      <td>0</td>\n",
       "      <td>2</td>\n",
       "      <td>2008</td>\n",
       "      <td>WD</td>\n",
       "      <td>Normal</td>\n",
       "      <td>208500</td>\n",
       "    </tr>\n",
       "    <tr>\n",
       "      <th>1</th>\n",
       "      <td>2</td>\n",
       "      <td>20</td>\n",
       "      <td>RL</td>\n",
       "      <td>80.0</td>\n",
       "      <td>9600</td>\n",
       "      <td>Pave</td>\n",
       "      <td>NaN</td>\n",
       "      <td>Reg</td>\n",
       "      <td>Lvl</td>\n",
       "      <td>AllPub</td>\n",
       "      <td>...</td>\n",
       "      <td>0</td>\n",
       "      <td>NaN</td>\n",
       "      <td>NaN</td>\n",
       "      <td>NaN</td>\n",
       "      <td>0</td>\n",
       "      <td>5</td>\n",
       "      <td>2007</td>\n",
       "      <td>WD</td>\n",
       "      <td>Normal</td>\n",
       "      <td>181500</td>\n",
       "    </tr>\n",
       "    <tr>\n",
       "      <th>2</th>\n",
       "      <td>3</td>\n",
       "      <td>60</td>\n",
       "      <td>RL</td>\n",
       "      <td>68.0</td>\n",
       "      <td>11250</td>\n",
       "      <td>Pave</td>\n",
       "      <td>NaN</td>\n",
       "      <td>IR1</td>\n",
       "      <td>Lvl</td>\n",
       "      <td>AllPub</td>\n",
       "      <td>...</td>\n",
       "      <td>0</td>\n",
       "      <td>NaN</td>\n",
       "      <td>NaN</td>\n",
       "      <td>NaN</td>\n",
       "      <td>0</td>\n",
       "      <td>9</td>\n",
       "      <td>2008</td>\n",
       "      <td>WD</td>\n",
       "      <td>Normal</td>\n",
       "      <td>223500</td>\n",
       "    </tr>\n",
       "    <tr>\n",
       "      <th>3</th>\n",
       "      <td>4</td>\n",
       "      <td>70</td>\n",
       "      <td>RL</td>\n",
       "      <td>60.0</td>\n",
       "      <td>9550</td>\n",
       "      <td>Pave</td>\n",
       "      <td>NaN</td>\n",
       "      <td>IR1</td>\n",
       "      <td>Lvl</td>\n",
       "      <td>AllPub</td>\n",
       "      <td>...</td>\n",
       "      <td>0</td>\n",
       "      <td>NaN</td>\n",
       "      <td>NaN</td>\n",
       "      <td>NaN</td>\n",
       "      <td>0</td>\n",
       "      <td>2</td>\n",
       "      <td>2006</td>\n",
       "      <td>WD</td>\n",
       "      <td>Abnorml</td>\n",
       "      <td>140000</td>\n",
       "    </tr>\n",
       "    <tr>\n",
       "      <th>4</th>\n",
       "      <td>5</td>\n",
       "      <td>60</td>\n",
       "      <td>RL</td>\n",
       "      <td>84.0</td>\n",
       "      <td>14260</td>\n",
       "      <td>Pave</td>\n",
       "      <td>NaN</td>\n",
       "      <td>IR1</td>\n",
       "      <td>Lvl</td>\n",
       "      <td>AllPub</td>\n",
       "      <td>...</td>\n",
       "      <td>0</td>\n",
       "      <td>NaN</td>\n",
       "      <td>NaN</td>\n",
       "      <td>NaN</td>\n",
       "      <td>0</td>\n",
       "      <td>12</td>\n",
       "      <td>2008</td>\n",
       "      <td>WD</td>\n",
       "      <td>Normal</td>\n",
       "      <td>250000</td>\n",
       "    </tr>\n",
       "  </tbody>\n",
       "</table>\n",
       "<p>5 rows × 81 columns</p>\n",
       "</div>"
      ],
      "text/plain": [
       "   Id  MSSubClass MSZoning  LotFrontage  LotArea Street Alley LotShape  \\\n",
       "0   1          60       RL         65.0     8450   Pave   NaN      Reg   \n",
       "1   2          20       RL         80.0     9600   Pave   NaN      Reg   \n",
       "2   3          60       RL         68.0    11250   Pave   NaN      IR1   \n",
       "3   4          70       RL         60.0     9550   Pave   NaN      IR1   \n",
       "4   5          60       RL         84.0    14260   Pave   NaN      IR1   \n",
       "\n",
       "  LandContour Utilities    ...     PoolArea PoolQC Fence MiscFeature MiscVal  \\\n",
       "0         Lvl    AllPub    ...            0    NaN   NaN         NaN       0   \n",
       "1         Lvl    AllPub    ...            0    NaN   NaN         NaN       0   \n",
       "2         Lvl    AllPub    ...            0    NaN   NaN         NaN       0   \n",
       "3         Lvl    AllPub    ...            0    NaN   NaN         NaN       0   \n",
       "4         Lvl    AllPub    ...            0    NaN   NaN         NaN       0   \n",
       "\n",
       "  MoSold YrSold  SaleType  SaleCondition  SalePrice  \n",
       "0      2   2008        WD         Normal     208500  \n",
       "1      5   2007        WD         Normal     181500  \n",
       "2      9   2008        WD         Normal     223500  \n",
       "3      2   2006        WD        Abnorml     140000  \n",
       "4     12   2008        WD         Normal     250000  \n",
       "\n",
       "[5 rows x 81 columns]"
      ]
     },
     "execution_count": 1,
     "metadata": {},
     "output_type": "execute_result"
    }
   ],
   "source": [
    "import pandas as pd\n",
    "\n",
    "train_data = pd.read_csv('./data/train.csv')\n",
    "test_data = pd.read_csv('./data/test.csv')\n",
    "\n",
    "train_data.head()"
   ]
  },
  {
   "cell_type": "code",
   "execution_count": 2,
   "metadata": {},
   "outputs": [
    {
     "data": {
      "text/plain": [
       "(1460, 81)"
      ]
     },
     "execution_count": 2,
     "metadata": {},
     "output_type": "execute_result"
    }
   ],
   "source": [
    "train_data.shape"
   ]
  },
  {
   "cell_type": "code",
   "execution_count": 3,
   "metadata": {},
   "outputs": [
    {
     "data": {
      "text/plain": [
       "(1459, 80)"
      ]
     },
     "execution_count": 3,
     "metadata": {},
     "output_type": "execute_result"
    }
   ],
   "source": [
    "test_data.shape"
   ]
  },
  {
   "cell_type": "markdown",
   "metadata": {},
   "source": [
    "## Describing data"
   ]
  },
  {
   "cell_type": "code",
   "execution_count": 4,
   "metadata": {},
   "outputs": [
    {
     "data": {
      "text/html": [
       "<div>\n",
       "<style scoped>\n",
       "    .dataframe tbody tr th:only-of-type {\n",
       "        vertical-align: middle;\n",
       "    }\n",
       "\n",
       "    .dataframe tbody tr th {\n",
       "        vertical-align: top;\n",
       "    }\n",
       "\n",
       "    .dataframe thead th {\n",
       "        text-align: right;\n",
       "    }\n",
       "</style>\n",
       "<table border=\"1\" class=\"dataframe\">\n",
       "  <thead>\n",
       "    <tr style=\"text-align: right;\">\n",
       "      <th></th>\n",
       "      <th>Id</th>\n",
       "      <th>MSSubClass</th>\n",
       "      <th>LotFrontage</th>\n",
       "      <th>LotArea</th>\n",
       "      <th>OverallQual</th>\n",
       "      <th>OverallCond</th>\n",
       "      <th>YearBuilt</th>\n",
       "      <th>YearRemodAdd</th>\n",
       "      <th>MasVnrArea</th>\n",
       "      <th>BsmtFinSF1</th>\n",
       "      <th>...</th>\n",
       "      <th>WoodDeckSF</th>\n",
       "      <th>OpenPorchSF</th>\n",
       "      <th>EnclosedPorch</th>\n",
       "      <th>3SsnPorch</th>\n",
       "      <th>ScreenPorch</th>\n",
       "      <th>PoolArea</th>\n",
       "      <th>MiscVal</th>\n",
       "      <th>MoSold</th>\n",
       "      <th>YrSold</th>\n",
       "      <th>SalePrice</th>\n",
       "    </tr>\n",
       "  </thead>\n",
       "  <tbody>\n",
       "    <tr>\n",
       "      <th>count</th>\n",
       "      <td>1460.000000</td>\n",
       "      <td>1460.000000</td>\n",
       "      <td>1201.000000</td>\n",
       "      <td>1460.000000</td>\n",
       "      <td>1460.000000</td>\n",
       "      <td>1460.000000</td>\n",
       "      <td>1460.000000</td>\n",
       "      <td>1460.000000</td>\n",
       "      <td>1452.000000</td>\n",
       "      <td>1460.000000</td>\n",
       "      <td>...</td>\n",
       "      <td>1460.000000</td>\n",
       "      <td>1460.000000</td>\n",
       "      <td>1460.000000</td>\n",
       "      <td>1460.000000</td>\n",
       "      <td>1460.000000</td>\n",
       "      <td>1460.000000</td>\n",
       "      <td>1460.000000</td>\n",
       "      <td>1460.000000</td>\n",
       "      <td>1460.000000</td>\n",
       "      <td>1460.000000</td>\n",
       "    </tr>\n",
       "    <tr>\n",
       "      <th>mean</th>\n",
       "      <td>730.500000</td>\n",
       "      <td>56.897260</td>\n",
       "      <td>70.049958</td>\n",
       "      <td>10516.828082</td>\n",
       "      <td>6.099315</td>\n",
       "      <td>5.575342</td>\n",
       "      <td>1971.267808</td>\n",
       "      <td>1984.865753</td>\n",
       "      <td>103.685262</td>\n",
       "      <td>443.639726</td>\n",
       "      <td>...</td>\n",
       "      <td>94.244521</td>\n",
       "      <td>46.660274</td>\n",
       "      <td>21.954110</td>\n",
       "      <td>3.409589</td>\n",
       "      <td>15.060959</td>\n",
       "      <td>2.758904</td>\n",
       "      <td>43.489041</td>\n",
       "      <td>6.321918</td>\n",
       "      <td>2007.815753</td>\n",
       "      <td>180921.195890</td>\n",
       "    </tr>\n",
       "    <tr>\n",
       "      <th>std</th>\n",
       "      <td>421.610009</td>\n",
       "      <td>42.300571</td>\n",
       "      <td>24.284752</td>\n",
       "      <td>9981.264932</td>\n",
       "      <td>1.382997</td>\n",
       "      <td>1.112799</td>\n",
       "      <td>30.202904</td>\n",
       "      <td>20.645407</td>\n",
       "      <td>181.066207</td>\n",
       "      <td>456.098091</td>\n",
       "      <td>...</td>\n",
       "      <td>125.338794</td>\n",
       "      <td>66.256028</td>\n",
       "      <td>61.119149</td>\n",
       "      <td>29.317331</td>\n",
       "      <td>55.757415</td>\n",
       "      <td>40.177307</td>\n",
       "      <td>496.123024</td>\n",
       "      <td>2.703626</td>\n",
       "      <td>1.328095</td>\n",
       "      <td>79442.502883</td>\n",
       "    </tr>\n",
       "    <tr>\n",
       "      <th>min</th>\n",
       "      <td>1.000000</td>\n",
       "      <td>20.000000</td>\n",
       "      <td>21.000000</td>\n",
       "      <td>1300.000000</td>\n",
       "      <td>1.000000</td>\n",
       "      <td>1.000000</td>\n",
       "      <td>1872.000000</td>\n",
       "      <td>1950.000000</td>\n",
       "      <td>0.000000</td>\n",
       "      <td>0.000000</td>\n",
       "      <td>...</td>\n",
       "      <td>0.000000</td>\n",
       "      <td>0.000000</td>\n",
       "      <td>0.000000</td>\n",
       "      <td>0.000000</td>\n",
       "      <td>0.000000</td>\n",
       "      <td>0.000000</td>\n",
       "      <td>0.000000</td>\n",
       "      <td>1.000000</td>\n",
       "      <td>2006.000000</td>\n",
       "      <td>34900.000000</td>\n",
       "    </tr>\n",
       "    <tr>\n",
       "      <th>25%</th>\n",
       "      <td>365.750000</td>\n",
       "      <td>20.000000</td>\n",
       "      <td>59.000000</td>\n",
       "      <td>7553.500000</td>\n",
       "      <td>5.000000</td>\n",
       "      <td>5.000000</td>\n",
       "      <td>1954.000000</td>\n",
       "      <td>1967.000000</td>\n",
       "      <td>0.000000</td>\n",
       "      <td>0.000000</td>\n",
       "      <td>...</td>\n",
       "      <td>0.000000</td>\n",
       "      <td>0.000000</td>\n",
       "      <td>0.000000</td>\n",
       "      <td>0.000000</td>\n",
       "      <td>0.000000</td>\n",
       "      <td>0.000000</td>\n",
       "      <td>0.000000</td>\n",
       "      <td>5.000000</td>\n",
       "      <td>2007.000000</td>\n",
       "      <td>129975.000000</td>\n",
       "    </tr>\n",
       "    <tr>\n",
       "      <th>50%</th>\n",
       "      <td>730.500000</td>\n",
       "      <td>50.000000</td>\n",
       "      <td>69.000000</td>\n",
       "      <td>9478.500000</td>\n",
       "      <td>6.000000</td>\n",
       "      <td>5.000000</td>\n",
       "      <td>1973.000000</td>\n",
       "      <td>1994.000000</td>\n",
       "      <td>0.000000</td>\n",
       "      <td>383.500000</td>\n",
       "      <td>...</td>\n",
       "      <td>0.000000</td>\n",
       "      <td>25.000000</td>\n",
       "      <td>0.000000</td>\n",
       "      <td>0.000000</td>\n",
       "      <td>0.000000</td>\n",
       "      <td>0.000000</td>\n",
       "      <td>0.000000</td>\n",
       "      <td>6.000000</td>\n",
       "      <td>2008.000000</td>\n",
       "      <td>163000.000000</td>\n",
       "    </tr>\n",
       "    <tr>\n",
       "      <th>75%</th>\n",
       "      <td>1095.250000</td>\n",
       "      <td>70.000000</td>\n",
       "      <td>80.000000</td>\n",
       "      <td>11601.500000</td>\n",
       "      <td>7.000000</td>\n",
       "      <td>6.000000</td>\n",
       "      <td>2000.000000</td>\n",
       "      <td>2004.000000</td>\n",
       "      <td>166.000000</td>\n",
       "      <td>712.250000</td>\n",
       "      <td>...</td>\n",
       "      <td>168.000000</td>\n",
       "      <td>68.000000</td>\n",
       "      <td>0.000000</td>\n",
       "      <td>0.000000</td>\n",
       "      <td>0.000000</td>\n",
       "      <td>0.000000</td>\n",
       "      <td>0.000000</td>\n",
       "      <td>8.000000</td>\n",
       "      <td>2009.000000</td>\n",
       "      <td>214000.000000</td>\n",
       "    </tr>\n",
       "    <tr>\n",
       "      <th>max</th>\n",
       "      <td>1460.000000</td>\n",
       "      <td>190.000000</td>\n",
       "      <td>313.000000</td>\n",
       "      <td>215245.000000</td>\n",
       "      <td>10.000000</td>\n",
       "      <td>9.000000</td>\n",
       "      <td>2010.000000</td>\n",
       "      <td>2010.000000</td>\n",
       "      <td>1600.000000</td>\n",
       "      <td>5644.000000</td>\n",
       "      <td>...</td>\n",
       "      <td>857.000000</td>\n",
       "      <td>547.000000</td>\n",
       "      <td>552.000000</td>\n",
       "      <td>508.000000</td>\n",
       "      <td>480.000000</td>\n",
       "      <td>738.000000</td>\n",
       "      <td>15500.000000</td>\n",
       "      <td>12.000000</td>\n",
       "      <td>2010.000000</td>\n",
       "      <td>755000.000000</td>\n",
       "    </tr>\n",
       "  </tbody>\n",
       "</table>\n",
       "<p>8 rows × 38 columns</p>\n",
       "</div>"
      ],
      "text/plain": [
       "                Id   MSSubClass  LotFrontage        LotArea  OverallQual  \\\n",
       "count  1460.000000  1460.000000  1201.000000    1460.000000  1460.000000   \n",
       "mean    730.500000    56.897260    70.049958   10516.828082     6.099315   \n",
       "std     421.610009    42.300571    24.284752    9981.264932     1.382997   \n",
       "min       1.000000    20.000000    21.000000    1300.000000     1.000000   \n",
       "25%     365.750000    20.000000    59.000000    7553.500000     5.000000   \n",
       "50%     730.500000    50.000000    69.000000    9478.500000     6.000000   \n",
       "75%    1095.250000    70.000000    80.000000   11601.500000     7.000000   \n",
       "max    1460.000000   190.000000   313.000000  215245.000000    10.000000   \n",
       "\n",
       "       OverallCond    YearBuilt  YearRemodAdd   MasVnrArea   BsmtFinSF1  \\\n",
       "count  1460.000000  1460.000000   1460.000000  1452.000000  1460.000000   \n",
       "mean      5.575342  1971.267808   1984.865753   103.685262   443.639726   \n",
       "std       1.112799    30.202904     20.645407   181.066207   456.098091   \n",
       "min       1.000000  1872.000000   1950.000000     0.000000     0.000000   \n",
       "25%       5.000000  1954.000000   1967.000000     0.000000     0.000000   \n",
       "50%       5.000000  1973.000000   1994.000000     0.000000   383.500000   \n",
       "75%       6.000000  2000.000000   2004.000000   166.000000   712.250000   \n",
       "max       9.000000  2010.000000   2010.000000  1600.000000  5644.000000   \n",
       "\n",
       "           ...         WoodDeckSF  OpenPorchSF  EnclosedPorch    3SsnPorch  \\\n",
       "count      ...        1460.000000  1460.000000    1460.000000  1460.000000   \n",
       "mean       ...          94.244521    46.660274      21.954110     3.409589   \n",
       "std        ...         125.338794    66.256028      61.119149    29.317331   \n",
       "min        ...           0.000000     0.000000       0.000000     0.000000   \n",
       "25%        ...           0.000000     0.000000       0.000000     0.000000   \n",
       "50%        ...           0.000000    25.000000       0.000000     0.000000   \n",
       "75%        ...         168.000000    68.000000       0.000000     0.000000   \n",
       "max        ...         857.000000   547.000000     552.000000   508.000000   \n",
       "\n",
       "       ScreenPorch     PoolArea       MiscVal       MoSold       YrSold  \\\n",
       "count  1460.000000  1460.000000   1460.000000  1460.000000  1460.000000   \n",
       "mean     15.060959     2.758904     43.489041     6.321918  2007.815753   \n",
       "std      55.757415    40.177307    496.123024     2.703626     1.328095   \n",
       "min       0.000000     0.000000      0.000000     1.000000  2006.000000   \n",
       "25%       0.000000     0.000000      0.000000     5.000000  2007.000000   \n",
       "50%       0.000000     0.000000      0.000000     6.000000  2008.000000   \n",
       "75%       0.000000     0.000000      0.000000     8.000000  2009.000000   \n",
       "max     480.000000   738.000000  15500.000000    12.000000  2010.000000   \n",
       "\n",
       "           SalePrice  \n",
       "count    1460.000000  \n",
       "mean   180921.195890  \n",
       "std     79442.502883  \n",
       "min     34900.000000  \n",
       "25%    129975.000000  \n",
       "50%    163000.000000  \n",
       "75%    214000.000000  \n",
       "max    755000.000000  \n",
       "\n",
       "[8 rows x 38 columns]"
      ]
     },
     "execution_count": 4,
     "metadata": {},
     "output_type": "execute_result"
    }
   ],
   "source": [
    "import numpy as np\n",
    "\n",
    "train_data.describe(include=[np.number])"
   ]
  },
  {
   "cell_type": "code",
   "execution_count": 5,
   "metadata": {},
   "outputs": [
    {
     "data": {
      "text/html": [
       "<div>\n",
       "<style scoped>\n",
       "    .dataframe tbody tr th:only-of-type {\n",
       "        vertical-align: middle;\n",
       "    }\n",
       "\n",
       "    .dataframe tbody tr th {\n",
       "        vertical-align: top;\n",
       "    }\n",
       "\n",
       "    .dataframe thead th {\n",
       "        text-align: right;\n",
       "    }\n",
       "</style>\n",
       "<table border=\"1\" class=\"dataframe\">\n",
       "  <thead>\n",
       "    <tr style=\"text-align: right;\">\n",
       "      <th></th>\n",
       "      <th>MSZoning</th>\n",
       "      <th>Street</th>\n",
       "      <th>Alley</th>\n",
       "      <th>LotShape</th>\n",
       "      <th>LandContour</th>\n",
       "      <th>Utilities</th>\n",
       "      <th>LotConfig</th>\n",
       "      <th>LandSlope</th>\n",
       "      <th>Neighborhood</th>\n",
       "      <th>Condition1</th>\n",
       "      <th>...</th>\n",
       "      <th>GarageType</th>\n",
       "      <th>GarageFinish</th>\n",
       "      <th>GarageQual</th>\n",
       "      <th>GarageCond</th>\n",
       "      <th>PavedDrive</th>\n",
       "      <th>PoolQC</th>\n",
       "      <th>Fence</th>\n",
       "      <th>MiscFeature</th>\n",
       "      <th>SaleType</th>\n",
       "      <th>SaleCondition</th>\n",
       "    </tr>\n",
       "  </thead>\n",
       "  <tbody>\n",
       "    <tr>\n",
       "      <th>count</th>\n",
       "      <td>1460</td>\n",
       "      <td>1460</td>\n",
       "      <td>91</td>\n",
       "      <td>1460</td>\n",
       "      <td>1460</td>\n",
       "      <td>1460</td>\n",
       "      <td>1460</td>\n",
       "      <td>1460</td>\n",
       "      <td>1460</td>\n",
       "      <td>1460</td>\n",
       "      <td>...</td>\n",
       "      <td>1379</td>\n",
       "      <td>1379</td>\n",
       "      <td>1379</td>\n",
       "      <td>1379</td>\n",
       "      <td>1460</td>\n",
       "      <td>7</td>\n",
       "      <td>281</td>\n",
       "      <td>54</td>\n",
       "      <td>1460</td>\n",
       "      <td>1460</td>\n",
       "    </tr>\n",
       "    <tr>\n",
       "      <th>unique</th>\n",
       "      <td>5</td>\n",
       "      <td>2</td>\n",
       "      <td>2</td>\n",
       "      <td>4</td>\n",
       "      <td>4</td>\n",
       "      <td>2</td>\n",
       "      <td>5</td>\n",
       "      <td>3</td>\n",
       "      <td>25</td>\n",
       "      <td>9</td>\n",
       "      <td>...</td>\n",
       "      <td>6</td>\n",
       "      <td>3</td>\n",
       "      <td>5</td>\n",
       "      <td>5</td>\n",
       "      <td>3</td>\n",
       "      <td>3</td>\n",
       "      <td>4</td>\n",
       "      <td>4</td>\n",
       "      <td>9</td>\n",
       "      <td>6</td>\n",
       "    </tr>\n",
       "    <tr>\n",
       "      <th>top</th>\n",
       "      <td>RL</td>\n",
       "      <td>Pave</td>\n",
       "      <td>Grvl</td>\n",
       "      <td>Reg</td>\n",
       "      <td>Lvl</td>\n",
       "      <td>AllPub</td>\n",
       "      <td>Inside</td>\n",
       "      <td>Gtl</td>\n",
       "      <td>NAmes</td>\n",
       "      <td>Norm</td>\n",
       "      <td>...</td>\n",
       "      <td>Attchd</td>\n",
       "      <td>Unf</td>\n",
       "      <td>TA</td>\n",
       "      <td>TA</td>\n",
       "      <td>Y</td>\n",
       "      <td>Gd</td>\n",
       "      <td>MnPrv</td>\n",
       "      <td>Shed</td>\n",
       "      <td>WD</td>\n",
       "      <td>Normal</td>\n",
       "    </tr>\n",
       "    <tr>\n",
       "      <th>freq</th>\n",
       "      <td>1151</td>\n",
       "      <td>1454</td>\n",
       "      <td>50</td>\n",
       "      <td>925</td>\n",
       "      <td>1311</td>\n",
       "      <td>1459</td>\n",
       "      <td>1052</td>\n",
       "      <td>1382</td>\n",
       "      <td>225</td>\n",
       "      <td>1260</td>\n",
       "      <td>...</td>\n",
       "      <td>870</td>\n",
       "      <td>605</td>\n",
       "      <td>1311</td>\n",
       "      <td>1326</td>\n",
       "      <td>1340</td>\n",
       "      <td>3</td>\n",
       "      <td>157</td>\n",
       "      <td>49</td>\n",
       "      <td>1267</td>\n",
       "      <td>1198</td>\n",
       "    </tr>\n",
       "  </tbody>\n",
       "</table>\n",
       "<p>4 rows × 43 columns</p>\n",
       "</div>"
      ],
      "text/plain": [
       "       MSZoning Street Alley LotShape LandContour Utilities LotConfig  \\\n",
       "count      1460   1460    91     1460        1460      1460      1460   \n",
       "unique        5      2     2        4           4         2         5   \n",
       "top          RL   Pave  Grvl      Reg         Lvl    AllPub    Inside   \n",
       "freq       1151   1454    50      925        1311      1459      1052   \n",
       "\n",
       "       LandSlope Neighborhood Condition1      ...      GarageType  \\\n",
       "count       1460         1460       1460      ...            1379   \n",
       "unique         3           25          9      ...               6   \n",
       "top          Gtl        NAmes       Norm      ...          Attchd   \n",
       "freq        1382          225       1260      ...             870   \n",
       "\n",
       "       GarageFinish GarageQual GarageCond PavedDrive PoolQC  Fence  \\\n",
       "count          1379       1379       1379       1460      7    281   \n",
       "unique            3          5          5          3      3      4   \n",
       "top             Unf         TA         TA          Y     Gd  MnPrv   \n",
       "freq            605       1311       1326       1340      3    157   \n",
       "\n",
       "       MiscFeature SaleType SaleCondition  \n",
       "count           54     1460          1460  \n",
       "unique           4        9             6  \n",
       "top           Shed       WD        Normal  \n",
       "freq            49     1267          1198  \n",
       "\n",
       "[4 rows x 43 columns]"
      ]
     },
     "execution_count": 5,
     "metadata": {},
     "output_type": "execute_result"
    }
   ],
   "source": [
    "train_data.describe(include=[np.object])"
   ]
  },
  {
   "cell_type": "markdown",
   "metadata": {},
   "source": [
    "## Missing values\n",
    "\n",
    "References:\n",
    "\n",
    "- https://towardsdatascience.com/handling-missing-values-in-machine-learning-part-1-dda69d4f88ca\n",
    "- https://www.analyticsindiamag.com/5-ways-handle-missing-values-machine-learning-datasets/\n",
    "- https://stats.stackexchange.com/a/391643/176988\n",
    "- https://towardsdatascience.com/handling-missing-data-for-a-beginner-6d6f5ea53436\n",
    "- http://www.statsmodels.org/dev/imputation.html\n",
    "- https://towardsdatascience.com/the-ultimate-guide-to-data-cleaning-3969843991d4#cbda"
   ]
  },
  {
   "cell_type": "code",
   "execution_count": 6,
   "metadata": {},
   "outputs": [
    {
     "data": {
      "text/html": [
       "<div>\n",
       "<style scoped>\n",
       "    .dataframe tbody tr th:only-of-type {\n",
       "        vertical-align: middle;\n",
       "    }\n",
       "\n",
       "    .dataframe tbody tr th {\n",
       "        vertical-align: top;\n",
       "    }\n",
       "\n",
       "    .dataframe thead th {\n",
       "        text-align: right;\n",
       "    }\n",
       "</style>\n",
       "<table border=\"1\" class=\"dataframe\">\n",
       "  <thead>\n",
       "    <tr style=\"text-align: right;\">\n",
       "      <th></th>\n",
       "      <th>Missing Count</th>\n",
       "      <th>Missing Percent</th>\n",
       "    </tr>\n",
       "  </thead>\n",
       "  <tbody>\n",
       "    <tr>\n",
       "      <th>PoolQC</th>\n",
       "      <td>1453</td>\n",
       "      <td>0.995205</td>\n",
       "    </tr>\n",
       "    <tr>\n",
       "      <th>MiscFeature</th>\n",
       "      <td>1406</td>\n",
       "      <td>0.963014</td>\n",
       "    </tr>\n",
       "    <tr>\n",
       "      <th>Alley</th>\n",
       "      <td>1369</td>\n",
       "      <td>0.937671</td>\n",
       "    </tr>\n",
       "    <tr>\n",
       "      <th>Fence</th>\n",
       "      <td>1179</td>\n",
       "      <td>0.807534</td>\n",
       "    </tr>\n",
       "    <tr>\n",
       "      <th>FireplaceQu</th>\n",
       "      <td>690</td>\n",
       "      <td>0.472603</td>\n",
       "    </tr>\n",
       "    <tr>\n",
       "      <th>LotFrontage</th>\n",
       "      <td>259</td>\n",
       "      <td>0.177397</td>\n",
       "    </tr>\n",
       "    <tr>\n",
       "      <th>GarageType</th>\n",
       "      <td>81</td>\n",
       "      <td>0.055479</td>\n",
       "    </tr>\n",
       "    <tr>\n",
       "      <th>GarageYrBlt</th>\n",
       "      <td>81</td>\n",
       "      <td>0.055479</td>\n",
       "    </tr>\n",
       "    <tr>\n",
       "      <th>GarageFinish</th>\n",
       "      <td>81</td>\n",
       "      <td>0.055479</td>\n",
       "    </tr>\n",
       "    <tr>\n",
       "      <th>GarageQual</th>\n",
       "      <td>81</td>\n",
       "      <td>0.055479</td>\n",
       "    </tr>\n",
       "    <tr>\n",
       "      <th>GarageCond</th>\n",
       "      <td>81</td>\n",
       "      <td>0.055479</td>\n",
       "    </tr>\n",
       "    <tr>\n",
       "      <th>BsmtExposure</th>\n",
       "      <td>38</td>\n",
       "      <td>0.026027</td>\n",
       "    </tr>\n",
       "    <tr>\n",
       "      <th>BsmtFinType2</th>\n",
       "      <td>38</td>\n",
       "      <td>0.026027</td>\n",
       "    </tr>\n",
       "    <tr>\n",
       "      <th>BsmtFinType1</th>\n",
       "      <td>37</td>\n",
       "      <td>0.025342</td>\n",
       "    </tr>\n",
       "    <tr>\n",
       "      <th>BsmtCond</th>\n",
       "      <td>37</td>\n",
       "      <td>0.025342</td>\n",
       "    </tr>\n",
       "    <tr>\n",
       "      <th>BsmtQual</th>\n",
       "      <td>37</td>\n",
       "      <td>0.025342</td>\n",
       "    </tr>\n",
       "    <tr>\n",
       "      <th>MasVnrArea</th>\n",
       "      <td>8</td>\n",
       "      <td>0.005479</td>\n",
       "    </tr>\n",
       "    <tr>\n",
       "      <th>MasVnrType</th>\n",
       "      <td>8</td>\n",
       "      <td>0.005479</td>\n",
       "    </tr>\n",
       "    <tr>\n",
       "      <th>Electrical</th>\n",
       "      <td>1</td>\n",
       "      <td>0.000685</td>\n",
       "    </tr>\n",
       "  </tbody>\n",
       "</table>\n",
       "</div>"
      ],
      "text/plain": [
       "              Missing Count  Missing Percent\n",
       "PoolQC                 1453         0.995205\n",
       "MiscFeature            1406         0.963014\n",
       "Alley                  1369         0.937671\n",
       "Fence                  1179         0.807534\n",
       "FireplaceQu             690         0.472603\n",
       "LotFrontage             259         0.177397\n",
       "GarageType               81         0.055479\n",
       "GarageYrBlt              81         0.055479\n",
       "GarageFinish             81         0.055479\n",
       "GarageQual               81         0.055479\n",
       "GarageCond               81         0.055479\n",
       "BsmtExposure             38         0.026027\n",
       "BsmtFinType2             38         0.026027\n",
       "BsmtFinType1             37         0.025342\n",
       "BsmtCond                 37         0.025342\n",
       "BsmtQual                 37         0.025342\n",
       "MasVnrArea                8         0.005479\n",
       "MasVnrType                8         0.005479\n",
       "Electrical                1         0.000685"
      ]
     },
     "execution_count": 6,
     "metadata": {},
     "output_type": "execute_result"
    }
   ],
   "source": [
    "null_cols = train_data.isnull().sum() > 0\n",
    "cols_with_nulls = null_cols[null_cols].axes[0]\n",
    "nully_data = train_data[cols_with_nulls].isnull()\n",
    "\n",
    "total = nully_data.sum()\n",
    "percent = total / nully_data.count()\n",
    "missing_data = pd.concat([total, percent], axis=1, keys=['Missing Count', 'Missing Percent'])\n",
    "missing_data = missing_data.sort_values(by='Missing Count', ascending=False)\n",
    "\n",
    "missing_data"
   ]
  },
  {
   "cell_type": "code",
   "execution_count": 7,
   "metadata": {},
   "outputs": [
    {
     "data": {
      "text/plain": [
       "<matplotlib.axes._subplots.AxesSubplot at 0x7fa77e18a510>"
      ]
     },
     "execution_count": 7,
     "metadata": {},
     "output_type": "execute_result"
    },
    {
     "data": {
      "image/png": "[encoded data removed]",
      "text/plain": [
       "<Figure size 432x288 with 1 Axes>"
      ]
     },
     "metadata": {
      "needs_background": "light"
     },
     "output_type": "display_data"
    }
   ],
   "source": [
    "import seaborn as sns\n",
    "import matplotlib.pyplot as plt\n",
    "%matplotlib inline\n",
    "\n",
    "plt.title('Percent missing data by feature')\n",
    "plt.ylabel('Percent of missing values', fontsize=15)\n",
    "plt.xlabel('Features', fontsize=15)\n",
    "plt.xticks(rotation='90')\n",
    "sns.barplot(x=missing_data.index, y=missing_data['Missing Percent'])"
   ]
  },
  {
   "cell_type": "code",
   "execution_count": 8,
   "metadata": {},
   "outputs": [
    {
     "name": "stdout",
     "output_type": "stream",
     "text": [
      "count      7\n",
      "unique     3\n",
      "top       Gd\n",
      "freq       3\n",
      "Name: PoolQC, dtype: object\n",
      "count       54\n",
      "unique       4\n",
      "top       Shed\n",
      "freq        49\n",
      "Name: MiscFeature, dtype: object\n",
      "count       91\n",
      "unique       2\n",
      "top       Grvl\n",
      "freq        50\n",
      "Name: Alley, dtype: object\n",
      "(1460, 78)\n",
      "(1459, 77)\n"
     ]
    }
   ],
   "source": [
    "# excessive amount of missing data, PoolArea represents it better, drop feature\n",
    "print(train_data['PoolQC'].describe())\n",
    "\n",
    "# excessive amount of missing data, MiscVal represents it better, drop feature\n",
    "print(train_data['MiscFeature'].describe())\n",
    "\n",
    "# excessive amount of missing data, Street represents it better, drop feature\n",
    "print(train_data['Alley'].describe())\n",
    "\n",
    "train_data.drop(columns=['PoolQC', 'MiscFeature', 'Alley'], inplace=True)\n",
    "test_data.drop(columns=['PoolQC', 'MiscFeature', 'Alley'], inplace=True)\n",
    "\n",
    "print(train_data.shape)\n",
    "print(test_data.shape)"
   ]
  },
  {
   "cell_type": "code",
   "execution_count": 9,
   "metadata": {},
   "outputs": [],
   "source": [
    "def show_barplot(x, y, xlabel, ylabel):\n",
    "    plt.xlabel(xlabel, fontsize=15)\n",
    "    plt.xticks(rotation='90')\n",
    "    plt.ylabel(ylabel, fontsize=15)\n",
    "    sns.barplot(x=x, y=y)\n",
    "    plt.show()\n",
    "\n",
    "# displays two plots: feature values x feature count; feature values x sale price mean\n",
    "def run_analysis(data, feature):\n",
    "    # gives null and nan values a label to be displayed as a feature value\n",
    "    working_data = data.fillna('N/A')\n",
    "    \n",
    "    # for each feature value, grab corresponding feature count and sale price mean\n",
    "    uniq_values = working_data[feature].unique()\n",
    "    uniq_values_count = []\n",
    "    uniq_values_sale_price_mean = []\n",
    "    for val in uniq_values:\n",
    "        corresponding_values = working_data.loc[working_data[feature] == val]\n",
    "        corresponding_count = corresponding_values[feature].count()\n",
    "        corresponding_sale_price_sum = corresponding_values['SalePrice'].sum()\n",
    "        corresponding_sale_price_mean = corresponding_sale_price_sum / corresponding_count\n",
    "        \n",
    "        uniq_values_count.append(pd.Series([corresponding_count]))\n",
    "        uniq_values_sale_price_mean.append(pd.Series([corresponding_sale_price_mean]))\n",
    "    \n",
    "    # feature values x sale price mean (grouped correlation)\n",
    "    show_barplot(uniq_values, uniq_values_sale_price_mean, feature, 'SalePrice Mean')\n",
    "\n",
    "    # feature values x feature count (grouped distribution)\n",
    "    show_barplot(uniq_values, uniq_values_count, feature, 'Feature Count')"
   ]
  },
  {
   "cell_type": "code",
   "execution_count": 10,
   "metadata": {},
   "outputs": [
    {
     "data": {
      "image/png": "[encoded data removed]",
      "text/plain": [
       "<Figure size 432x288 with 1 Axes>"
      ]
     },
     "metadata": {
      "needs_background": "light"
     },
     "output_type": "display_data"
    },
    {
     "data": {
      "image/png": "[encoded data removed]",
      "text/plain": [
       "<Figure size 432x288 with 1 Axes>"
      ]
     },
     "metadata": {
      "needs_background": "light"
     },
     "output_type": "display_data"
    },
    {
     "name": "stdout",
     "output_type": "stream",
     "text": [
      "(1460, 77)\n",
      "(1459, 76)\n"
     ]
    }
   ],
   "source": [
    "# significatively small amount of missing data, low sales price variance, drop feature\n",
    "run_analysis(train_data, 'Fence')\n",
    "\n",
    "train_data.drop(columns=['Fence'], inplace=True)\n",
    "test_data.drop(columns=['Fence'], inplace=True)\n",
    "\n",
    "print(train_data.shape)\n",
    "print(test_data.shape)"
   ]
  },
  {
   "cell_type": "code",
   "execution_count": 11,
   "metadata": {},
   "outputs": [],
   "source": [
    "def test_feature_null_checks(feature):\n",
    "    print(feature, 'null-check at train_data', train_data[feature].isnull().sum())\n",
    "    print(feature, 'null-check at test_data', test_data[feature].isnull().sum())\n",
    "\n",
    "def fillna_with(feature, new_type = 'N/A'):\n",
    "    train_data[feature].fillna(new_type, inplace=True)\n",
    "    test_data[feature].fillna(new_type, inplace=True)\n",
    "    \n",
    "    test_feature_null_checks(feature)"
   ]
  },
  {
   "cell_type": "code",
   "execution_count": 12,
   "metadata": {},
   "outputs": [
    {
     "name": "stdout",
     "output_type": "stream",
     "text": [
      "('# of FireplaceQu == null', 690)\n",
      "('# of Fireplaces  ==    0', 690)\n"
     ]
    },
    {
     "data": {
      "image/png": "[encoded data removed]",
      "text/plain": [
       "<Figure size 432x288 with 1 Axes>"
      ]
     },
     "metadata": {
      "needs_background": "light"
     },
     "output_type": "display_data"
    },
    {
     "data": {
      "image/png": "[encoded data removed]",
      "text/plain": [
       "<Figure size 432x288 with 1 Axes>"
      ]
     },
     "metadata": {
      "needs_background": "light"
     },
     "output_type": "display_data"
    },
    {
     "name": "stdout",
     "output_type": "stream",
     "text": [
      "('FireplaceQu', 'null-check at train_data', 0)\n",
      "('FireplaceQu', 'null-check at test_data', 0)\n"
     ]
    }
   ],
   "source": [
    "# FireplaceQu is missing when Fireplaces == 0\n",
    "print('# of FireplaceQu == null', train_data['FireplaceQu'].isnull().sum())\n",
    "print('# of Fireplaces  ==    0', (train_data['Fireplaces'] == 0).sum())\n",
    "\n",
    "# impute new type NA\n",
    "run_analysis(train_data, 'FireplaceQu')\n",
    "\n",
    "fillna_with('FireplaceQu', 'NoFireplace')"
   ]
  },
  {
   "cell_type": "code",
   "execution_count": 13,
   "metadata": {},
   "outputs": [
    {
     "name": "stdout",
     "output_type": "stream",
     "text": [
      "LotDepth (generated)\n"
     ]
    },
    {
     "data": {
      "image/png": "[encoded data removed]",
      "text/plain": [
       "<Figure size 432x288 with 1 Axes>"
      ]
     },
     "metadata": {
      "needs_background": "light"
     },
     "output_type": "display_data"
    },
    {
     "name": "stdout",
     "output_type": "stream",
     "text": [
      "Missing LotFrontage Imputation\n"
     ]
    },
    {
     "data": {
      "image/png": "[encoded data removed]",
      "text/plain": [
       "<Figure size 432x288 with 1 Axes>"
      ]
     },
     "metadata": {
      "needs_background": "light"
     },
     "output_type": "display_data"
    },
    {
     "name": "stdout",
     "output_type": "stream",
     "text": [
      "('LotFrontage', 'null-check at train_data', 0)\n",
      "('LotFrontage', 'null-check at test_data', 0)\n"
     ]
    }
   ],
   "source": [
    "# LotFrontage can be derived from LotArea, impute based on a calculated mean Lot depth\n",
    "\n",
    "# run_analysis(train_data, 'LotFrontage')\n",
    "# run_analysis(train_data, 'LotArea')\n",
    "\n",
    "# Calculates\n",
    "lot_depth = train_data['LotArea'] / train_data['LotFrontage']\n",
    "lot_depth_mean = lot_depth.mean()\n",
    "\n",
    "print('LotDepth (generated)')\n",
    "plt.plot(lot_depth)\n",
    "plt.show()\n",
    "\n",
    "# Populates a possible probable missing LotFrontage, by dividing its LotArea by the (generated) LotDepth mean\n",
    "\n",
    "train_lot_frontage_nan_indexes = train_data['LotFrontage'].isnull()\n",
    "train_lot_frontage_missing_imputation = train_data[train_lot_frontage_nan_indexes]['LotArea'] / lot_depth_mean\n",
    "train_data.loc[train_lot_frontage_nan_indexes, 'LotFrontage'] = train_lot_frontage_missing_imputation\n",
    "train_data['LotFrontage'].isnull().sum()\n",
    "\n",
    "test_lot_frontage_nan_indexes = test_data['LotFrontage'].isnull()\n",
    "test_lot_frontage_missing_imputation = test_data[test_lot_frontage_nan_indexes]['LotArea'] / lot_depth_mean\n",
    "test_data.loc[test_lot_frontage_nan_indexes, 'LotFrontage'] = test_lot_frontage_missing_imputation\n",
    "test_data['LotFrontage'].isnull().sum()\n",
    "\n",
    "print('Missing LotFrontage Imputation')\n",
    "plt.plot(train_lot_frontage_missing_imputation)\n",
    "plt.show()\n",
    "\n",
    "test_feature_null_checks('LotFrontage')"
   ]
  },
  {
   "cell_type": "code",
   "execution_count": 14,
   "metadata": {},
   "outputs": [
    {
     "name": "stdout",
     "output_type": "stream",
     "text": [
      "('# of GarageCars   ==    0', 81)\n",
      "('# of GarageArea   ==    0', 81)\n",
      "('# of GarageType   == null', 81)\n",
      "('# of GarageYrBlt  == null', 81)\n",
      "('# of GarageFinish == null', 81)\n",
      "('# of GarageQual   == null', 81)\n",
      "('# of GarageCond   == null', 81)\n"
     ]
    }
   ],
   "source": [
    "# when there is no garage, no garage info\n",
    "print('# of GarageCars   ==    0', (train_data['GarageCars'] == 0).sum())\n",
    "print('# of GarageArea   ==    0', (train_data['GarageArea'] == 0).sum())\n",
    "print('# of GarageType   == null', train_data['GarageType'].isnull().sum())\n",
    "print('# of GarageYrBlt  == null', train_data['GarageYrBlt'].isnull().sum())\n",
    "print('# of GarageFinish == null', train_data['GarageFinish'].isnull().sum())\n",
    "print('# of GarageQual   == null', train_data['GarageQual'].isnull().sum())\n",
    "print('# of GarageCond   == null', train_data['GarageCond'].isnull().sum())"
   ]
  },
  {
   "cell_type": "code",
   "execution_count": 15,
   "metadata": {},
   "outputs": [
    {
     "data": {
      "image/png": "[encoded data removed]",
      "text/plain": [
       "<Figure size 432x288 with 1 Axes>"
      ]
     },
     "metadata": {
      "needs_background": "light"
     },
     "output_type": "display_data"
    },
    {
     "data": {
      "image/png": "[encoded data removed]",
      "text/plain": [
       "<Figure size 432x288 with 1 Axes>"
      ]
     },
     "metadata": {
      "needs_background": "light"
     },
     "output_type": "display_data"
    },
    {
     "name": "stdout",
     "output_type": "stream",
     "text": [
      "('GarageType', 'null-check at train_data', 0)\n",
      "('GarageType', 'null-check at test_data', 0)\n"
     ]
    }
   ],
   "source": [
    "# impute new type NA\n",
    "run_analysis(train_data, 'GarageType')\n",
    "\n",
    "fillna_with('GarageType', 'NoGarage')"
   ]
  },
  {
   "cell_type": "code",
   "execution_count": 16,
   "metadata": {},
   "outputs": [
    {
     "name": "stdout",
     "output_type": "stream",
     "text": [
      "Describe GarageYrBlt:\n",
      "count    1379.000000\n",
      "mean     1978.506164\n",
      "std        24.689725\n",
      "min      1900.000000\n",
      "25%      1961.000000\n",
      "50%      1980.000000\n",
      "75%      2002.000000\n",
      "max      2010.000000\n",
      "Name: GarageYrBlt, dtype: float64\n",
      "Describe Garage Age:\n",
      "count    1379.000000\n",
      "mean       31.493836\n",
      "std        24.689725\n",
      "min         0.000000\n",
      "25%         8.000000\n",
      "50%        30.000000\n",
      "75%        49.000000\n",
      "max       110.000000\n",
      "Name: GarageYrBlt, dtype: float64\n",
      "('Mean SalePrice for NoGarage houses', 103317.28395061729)\n"
     ]
    },
    {
     "data": {
      "image/png": "[encoded data removed]",
      "text/plain": [
       "<Figure size 432x288 with 1 Axes>"
      ]
     },
     "metadata": {
      "needs_background": "light"
     },
     "output_type": "display_data"
    },
    {
     "data": {
      "image/png": "[encoded data removed]",
      "text/plain": [
       "<Figure size 432x288 with 1 Axes>"
      ]
     },
     "metadata": {
      "needs_background": "light"
     },
     "output_type": "display_data"
    },
    {
     "name": "stderr",
     "output_type": "stream",
     "text": [
      "/home/priadri/anaconda2/lib/python2.7/site-packages/scipy/stats/stats.py:1713: FutureWarning: Using a non-tuple sequence for multidimensional indexing is deprecated; use `arr[tuple(seq)]` instead of `arr[seq]`. In the future this will be interpreted as an array index, `arr[np.array(seq)]`, which will result either in an error or a different result.\n",
      "  return np.add.reduce(sorted[indexer] * weights, axis=axis) / sumval\n"
     ]
    },
    {
     "data": {
      "image/png": "[encoded data removed]",
      "text/plain": [
       "<Figure size 432x288 with 1 Axes>"
      ]
     },
     "metadata": {
      "needs_background": "light"
     },
     "output_type": "display_data"
    },
    {
     "name": "stdout",
     "output_type": "stream",
     "text": [
      "('GarageYrBlt', 'null-check at train_data', 0)\n",
      "('GarageYrBlt', 'null-check at test_data', 0)\n"
     ]
    }
   ],
   "source": [
    "# old garages makes houses cheaper, no garages makes it even cheaper, impute with year below min\n",
    "print('Describe GarageYrBlt:')\n",
    "print(train_data['GarageYrBlt'].describe())\n",
    "print('Describe Garage Age:')\n",
    "GarageAge = (2010-train_data['GarageYrBlt'])\n",
    "print(GarageAge.describe())\n",
    "print('Mean SalePrice for NoGarage houses', train_data[train_data['GarageYrBlt'].isnull()]['SalePrice'].mean())\n",
    "run_analysis(train_data, 'GarageYrBlt')\n",
    "show_barplot(GarageAge.values, train_data['SalePrice'].values, 'GarageAge', 'SalePrice')\n",
    "\n",
    "fillna_with('GarageYrBlt', train_data['GarageYrBlt'].min() - 10)"
   ]
  },
  {
   "cell_type": "code",
   "execution_count": 17,
   "metadata": {},
   "outputs": [
    {
     "data": {
      "image/png": "[encoded data removed]",
      "text/plain": [
       "<Figure size 432x288 with 1 Axes>"
      ]
     },
     "metadata": {
      "needs_background": "light"
     },
     "output_type": "display_data"
    },
    {
     "data": {
      "image/png": "[encoded data removed]",
      "text/plain": [
       "<Figure size 432x288 with 1 Axes>"
      ]
     },
     "metadata": {
      "needs_background": "light"
     },
     "output_type": "display_data"
    },
    {
     "name": "stdout",
     "output_type": "stream",
     "text": [
      "('GarageFinish', 'null-check at train_data', 0)\n",
      "('GarageFinish', 'null-check at test_data', 0)\n"
     ]
    }
   ],
   "source": [
    "# impute new type NA\n",
    "run_analysis(train_data, 'GarageFinish')\n",
    "\n",
    "fillna_with('GarageFinish', 'NoGarage')"
   ]
  },
  {
   "cell_type": "code",
   "execution_count": 18,
   "metadata": {},
   "outputs": [
    {
     "data": {
      "image/png": "[encoded data removed]",
      "text/plain": [
       "<Figure size 432x288 with 1 Axes>"
      ]
     },
     "metadata": {
      "needs_background": "light"
     },
     "output_type": "display_data"
    },
    {
     "data": {
      "image/png": "[encoded data removed]",
      "text/plain": [
       "<Figure size 432x288 with 1 Axes>"
      ]
     },
     "metadata": {
      "needs_background": "light"
     },
     "output_type": "display_data"
    },
    {
     "name": "stdout",
     "output_type": "stream",
     "text": [
      "('GarageQual', 'null-check at train_data', 0)\n",
      "('GarageQual', 'null-check at test_data', 0)\n"
     ]
    }
   ],
   "source": [
    "# impute new type NA\n",
    "run_analysis(train_data, 'GarageQual')\n",
    "\n",
    "fillna_with('GarageQual', 'NoGarage')"
   ]
  },
  {
   "cell_type": "code",
   "execution_count": 19,
   "metadata": {},
   "outputs": [
    {
     "data": {
      "image/png": "[encoded data removed]",
      "text/plain": [
       "<Figure size 432x288 with 1 Axes>"
      ]
     },
     "metadata": {
      "needs_background": "light"
     },
     "output_type": "display_data"
    },
    {
     "data": {
      "image/png": "[encoded data removed]",
      "text/plain": [
       "<Figure size 432x288 with 1 Axes>"
      ]
     },
     "metadata": {
      "needs_background": "light"
     },
     "output_type": "display_data"
    },
    {
     "name": "stdout",
     "output_type": "stream",
     "text": [
      "('GarageCond', 'null-check at train_data', 0)\n",
      "('GarageCond', 'null-check at test_data', 0)\n"
     ]
    }
   ],
   "source": [
    "# impute new type NA\n",
    "run_analysis(train_data, 'GarageCond')\n",
    "\n",
    "fillna_with('GarageCond', 'NoGarage')"
   ]
  },
  {
   "cell_type": "code",
   "execution_count": 20,
   "metadata": {},
   "outputs": [
    {
     "name": "stdout",
     "output_type": "stream",
     "text": [
      "('# of TotalBsmtSF  ==    0', 37)\n",
      "('# of BsmtExposure == null', 38)\n",
      "('# of BsmtFinType2 == null', 38)\n",
      "('# of BsmtFinType1 == null', 37)\n",
      "('# of BsmtCond     == null', 37)\n",
      "('# of BsmtQual     == null', 37)\n"
     ]
    }
   ],
   "source": [
    "# when there is no basement, no basement info\n",
    "print('# of TotalBsmtSF  ==    0', (train_data['TotalBsmtSF'] == 0).sum())\n",
    "print('# of BsmtExposure == null', train_data['BsmtExposure'].isnull().sum())\n",
    "print('# of BsmtFinType2 == null', train_data['BsmtFinType2'].isnull().sum())\n",
    "print('# of BsmtFinType1 == null', train_data['BsmtFinType1'].isnull().sum())\n",
    "print('# of BsmtCond     == null', train_data['BsmtCond'].isnull().sum())\n",
    "print('# of BsmtQual     == null', train_data['BsmtQual'].isnull().sum())"
   ]
  },
  {
   "cell_type": "code",
   "execution_count": 21,
   "metadata": {},
   "outputs": [
    {
     "name": "stdout",
     "output_type": "stream",
     "text": [
      "BsmtExposure == null and TotalBsmtSF != 0\n"
     ]
    },
    {
     "data": {
      "text/html": [
       "<div>\n",
       "<style scoped>\n",
       "    .dataframe tbody tr th:only-of-type {\n",
       "        vertical-align: middle;\n",
       "    }\n",
       "\n",
       "    .dataframe tbody tr th {\n",
       "        vertical-align: top;\n",
       "    }\n",
       "\n",
       "    .dataframe thead th {\n",
       "        text-align: right;\n",
       "    }\n",
       "</style>\n",
       "<table border=\"1\" class=\"dataframe\">\n",
       "  <thead>\n",
       "    <tr style=\"text-align: right;\">\n",
       "      <th></th>\n",
       "      <th>TotalBsmtSF</th>\n",
       "      <th>BsmtExposure</th>\n",
       "      <th>BsmtQual</th>\n",
       "      <th>BsmtFinType1</th>\n",
       "      <th>BsmtFinType2</th>\n",
       "      <th>BsmtCond</th>\n",
       "    </tr>\n",
       "  </thead>\n",
       "  <tbody>\n",
       "    <tr>\n",
       "      <th>948</th>\n",
       "      <td>936</td>\n",
       "      <td>NaN</td>\n",
       "      <td>Gd</td>\n",
       "      <td>Unf</td>\n",
       "      <td>Unf</td>\n",
       "      <td>TA</td>\n",
       "    </tr>\n",
       "  </tbody>\n",
       "</table>\n",
       "</div>"
      ],
      "text/plain": [
       "     TotalBsmtSF BsmtExposure BsmtQual BsmtFinType1 BsmtFinType2 BsmtCond\n",
       "948          936          NaN       Gd          Unf          Unf       TA"
      ]
     },
     "metadata": {},
     "output_type": "display_data"
    },
    {
     "data": {
      "image/png": "[encoded data removed]",
      "text/plain": [
       "<Figure size 432x288 with 1 Axes>"
      ]
     },
     "metadata": {
      "needs_background": "light"
     },
     "output_type": "display_data"
    },
    {
     "data": {
      "image/png": "[encoded data removed]",
      "text/plain": [
       "<Figure size 432x288 with 1 Axes>"
      ]
     },
     "metadata": {
      "needs_background": "light"
     },
     "output_type": "display_data"
    },
    {
     "name": "stdout",
     "output_type": "stream",
     "text": [
      "('BsmtExposure', 'null-check at train_data', 0)\n",
      "('BsmtExposure', 'null-check at test_data', 0)\n"
     ]
    }
   ],
   "source": [
    "# the following happened when the basement was Unfinished, but happened just once\n",
    "print('BsmtExposure == null and TotalBsmtSF != 0')\n",
    "unknown_exposure_indexes = (train_data['TotalBsmtSF'] == 0) != (train_data['BsmtExposure'].isnull())\n",
    "display(train_data[unknown_exposure_indexes][['TotalBsmtSF', 'BsmtExposure', 'BsmtQual', 'BsmtFinType1', 'BsmtFinType2', 'BsmtCond']])\n",
    "\n",
    "# for these cases, set BsmtExposure as Unknown\n",
    "train_data.loc[unknown_exposure_indexes, 'BsmtExposure'] = 'Unknown'\n",
    "test_unknown_exposure_indexes = (test_data['TotalBsmtSF'] == 0) != (test_data['BsmtExposure'].isnull())\n",
    "test_data.loc[test_unknown_exposure_indexes, 'BsmtExposure'] = 'Unknown'\n",
    "\n",
    "# for the rest, impute new type NoBasement\n",
    "run_analysis(train_data, 'BsmtExposure')\n",
    "fillna_with('BsmtExposure', 'NoBasement')"
   ]
  },
  {
   "cell_type": "code",
   "execution_count": 22,
   "metadata": {},
   "outputs": [
    {
     "name": "stdout",
     "output_type": "stream",
     "text": [
      "BsmtFinType2 == null and TotalBsmtSF != 0\n"
     ]
    },
    {
     "data": {
      "text/html": [
       "<div>\n",
       "<style scoped>\n",
       "    .dataframe tbody tr th:only-of-type {\n",
       "        vertical-align: middle;\n",
       "    }\n",
       "\n",
       "    .dataframe tbody tr th {\n",
       "        vertical-align: top;\n",
       "    }\n",
       "\n",
       "    .dataframe thead th {\n",
       "        text-align: right;\n",
       "    }\n",
       "</style>\n",
       "<table border=\"1\" class=\"dataframe\">\n",
       "  <thead>\n",
       "    <tr style=\"text-align: right;\">\n",
       "      <th></th>\n",
       "      <th>TotalBsmtSF</th>\n",
       "      <th>BsmtExposure</th>\n",
       "      <th>BsmtQual</th>\n",
       "      <th>BsmtFinType1</th>\n",
       "      <th>BsmtFinType2</th>\n",
       "      <th>BsmtCond</th>\n",
       "      <th>BsmtFinSF2</th>\n",
       "      <th>SalePrice</th>\n",
       "      <th>BsmtFinSF1</th>\n",
       "    </tr>\n",
       "  </thead>\n",
       "  <tbody>\n",
       "    <tr>\n",
       "      <th>332</th>\n",
       "      <td>3206</td>\n",
       "      <td>No</td>\n",
       "      <td>Gd</td>\n",
       "      <td>GLQ</td>\n",
       "      <td>NaN</td>\n",
       "      <td>TA</td>\n",
       "      <td>479</td>\n",
       "      <td>284000</td>\n",
       "      <td>1124</td>\n",
       "    </tr>\n",
       "  </tbody>\n",
       "</table>\n",
       "</div>"
      ],
      "text/plain": [
       "     TotalBsmtSF BsmtExposure BsmtQual BsmtFinType1 BsmtFinType2 BsmtCond  \\\n",
       "332         3206           No       Gd          GLQ          NaN       TA   \n",
       "\n",
       "     BsmtFinSF2  SalePrice  BsmtFinSF1  \n",
       "332         479     284000        1124  "
      ]
     },
     "metadata": {},
     "output_type": "display_data"
    },
    {
     "name": "stdout",
     "output_type": "stream",
     "text": [
      "BsmtFinType2 == null and TotalBsmtSF != 0 mean SalePrice\n"
     ]
    },
    {
     "data": {
      "text/plain": [
       "284000.0"
      ]
     },
     "metadata": {},
     "output_type": "display_data"
    },
    {
     "name": "stdout",
     "output_type": "stream",
     "text": [
      "BsmtFinType2 == null and TotalBsmtSF == 0 mean SalePrice\n"
     ]
    },
    {
     "data": {
      "text/plain": [
       "105652.8918918919"
      ]
     },
     "metadata": {},
     "output_type": "display_data"
    },
    {
     "data": {
      "image/png": "[encoded data removed]",
      "text/plain": [
       "<Figure size 432x288 with 1 Axes>"
      ]
     },
     "metadata": {
      "needs_background": "light"
     },
     "output_type": "display_data"
    },
    {
     "data": {
      "image/png": "[encoded data removed]",
      "text/plain": [
       "<Figure size 432x288 with 1 Axes>"
      ]
     },
     "metadata": {
      "needs_background": "light"
     },
     "output_type": "display_data"
    },
    {
     "name": "stdout",
     "output_type": "stream",
     "text": [
      "('BsmtFinType2', 'null-check at train_data', 0)\n",
      "('BsmtFinType2', 'null-check at test_data', 0)\n"
     ]
    }
   ],
   "source": [
    "# when the basement don't have second type, repeat the first one\n",
    "print('BsmtFinType2 == null and TotalBsmtSF != 0')\n",
    "unknown_fin_type_2_idx = (train_data['TotalBsmtSF'] == 0) != (train_data['BsmtFinType2'].isnull())\n",
    "display(train_data[unknown_fin_type_2_idx][['TotalBsmtSF', 'BsmtExposure', 'BsmtQual', 'BsmtFinType1', 'BsmtFinType2', 'BsmtCond', 'BsmtFinSF2', 'SalePrice', 'BsmtFinSF1']])\n",
    "print('BsmtFinType2 == null and TotalBsmtSF != 0 mean SalePrice')\n",
    "display(train_data[unknown_fin_type_2_idx]['SalePrice'].mean())\n",
    "print('BsmtFinType2 == null and TotalBsmtSF == 0 mean SalePrice')\n",
    "display(train_data[train_data['BsmtFinType2'].isnull()][train_data[train_data['BsmtFinType2'].isnull()]['TotalBsmtSF'] == 0]['SalePrice'].mean())\n",
    "\n",
    "# for these cases, set BsmtFinType2 with BsmtFinType1\n",
    "train_data.loc[unknown_fin_type_2_idx, 'BsmtFinType2'] = train_data.loc[unknown_fin_type_2_idx, 'BsmtFinType1']\n",
    "test_unknown_fin_type_2_idx = (test_data['TotalBsmtSF'] == 0) != (test_data['BsmtFinType2'].isnull())\n",
    "test_data.loc[test_unknown_fin_type_2_idx, 'BsmtFinType2'] = test_data.loc[test_unknown_fin_type_2_idx, 'BsmtFinType1']\n",
    "\n",
    "# for the rest, impute new type NoBasement\n",
    "run_analysis(train_data, 'BsmtFinType2')\n",
    "fillna_with('BsmtFinType2', 'NoBasement')"
   ]
  },
  {
   "cell_type": "code",
   "execution_count": 23,
   "metadata": {},
   "outputs": [
    {
     "data": {
      "image/png": "[encoded data removed]",
      "text/plain": [
       "<Figure size 432x288 with 1 Axes>"
      ]
     },
     "metadata": {
      "needs_background": "light"
     },
     "output_type": "display_data"
    },
    {
     "data": {
      "image/png": "[encoded data removed]",
      "text/plain": [
       "<Figure size 432x288 with 1 Axes>"
      ]
     },
     "metadata": {
      "needs_background": "light"
     },
     "output_type": "display_data"
    },
    {
     "name": "stdout",
     "output_type": "stream",
     "text": [
      "('BsmtFinType1', 'null-check at train_data', 0)\n",
      "('BsmtFinType1', 'null-check at test_data', 0)\n"
     ]
    }
   ],
   "source": [
    "# impute new type NoBasement\n",
    "run_analysis(train_data, 'BsmtFinType1')\n",
    "\n",
    "fillna_with('BsmtFinType1', 'NoBasement')"
   ]
  },
  {
   "cell_type": "code",
   "execution_count": 24,
   "metadata": {},
   "outputs": [
    {
     "data": {
      "image/png": "[encoded data removed]",
      "text/plain": [
       "<Figure size 432x288 with 1 Axes>"
      ]
     },
     "metadata": {
      "needs_background": "light"
     },
     "output_type": "display_data"
    },
    {
     "data": {
      "image/png": "[encoded data removed]",
      "text/plain": [
       "<Figure size 432x288 with 1 Axes>"
      ]
     },
     "metadata": {
      "needs_background": "light"
     },
     "output_type": "display_data"
    },
    {
     "name": "stdout",
     "output_type": "stream",
     "text": [
      "('BsmtCond', 'null-check at train_data', 0)\n",
      "('BsmtCond', 'null-check at test_data', 0)\n"
     ]
    }
   ],
   "source": [
    "# impute new type NoBasement\n",
    "run_analysis(train_data, 'BsmtCond')\n",
    "\n",
    "fillna_with('BsmtCond', 'NoBasement')"
   ]
  },
  {
   "cell_type": "code",
   "execution_count": 25,
   "metadata": {},
   "outputs": [
    {
     "data": {
      "image/png": "[encoded data removed]",
      "text/plain": [
       "<Figure size 432x288 with 1 Axes>"
      ]
     },
     "metadata": {
      "needs_background": "light"
     },
     "output_type": "display_data"
    },
    {
     "data": {
      "image/png": "[encoded data removed]",
      "text/plain": [
       "<Figure size 432x288 with 1 Axes>"
      ]
     },
     "metadata": {
      "needs_background": "light"
     },
     "output_type": "display_data"
    },
    {
     "name": "stdout",
     "output_type": "stream",
     "text": [
      "('BsmtQual', 'null-check at train_data', 0)\n",
      "('BsmtQual', 'null-check at test_data', 0)\n"
     ]
    }
   ],
   "source": [
    "# impute new type NoBasement\n",
    "run_analysis(train_data, 'BsmtQual')\n",
    "\n",
    "fillna_with('BsmtQual', 'NoBasement')"
   ]
  },
  {
   "cell_type": "code",
   "execution_count": 26,
   "metadata": {},
   "outputs": [
    {
     "data": {
      "image/png": "[encoded data removed]",
      "text/plain": [
       "<Figure size 432x288 with 1 Axes>"
      ]
     },
     "metadata": {
      "needs_background": "light"
     },
     "output_type": "display_data"
    },
    {
     "data": {
      "image/png": "[encoded data removed]",
      "text/plain": [
       "<Figure size 432x288 with 1 Axes>"
      ]
     },
     "metadata": {
      "needs_background": "light"
     },
     "output_type": "display_data"
    },
    {
     "name": "stdout",
     "output_type": "stream",
     "text": [
      "('MasVnrArea', 'null-check at train_data', 0)\n",
      "('MasVnrArea', 'null-check at test_data', 0)\n"
     ]
    }
   ],
   "source": [
    "# impute 0 to missing values\n",
    "run_analysis(train_data, 'MasVnrArea')\n",
    "\n",
    "fillna_with('MasVnrArea', 0.0)"
   ]
  },
  {
   "cell_type": "code",
   "execution_count": 27,
   "metadata": {},
   "outputs": [
    {
     "data": {
      "text/html": [
       "<div>\n",
       "<style scoped>\n",
       "    .dataframe tbody tr th:only-of-type {\n",
       "        vertical-align: middle;\n",
       "    }\n",
       "\n",
       "    .dataframe tbody tr th {\n",
       "        vertical-align: top;\n",
       "    }\n",
       "\n",
       "    .dataframe thead th {\n",
       "        text-align: right;\n",
       "    }\n",
       "</style>\n",
       "<table border=\"1\" class=\"dataframe\">\n",
       "  <thead>\n",
       "    <tr style=\"text-align: right;\">\n",
       "      <th></th>\n",
       "      <th>MasVnrType</th>\n",
       "      <th>MasVnrArea</th>\n",
       "      <th>SalePrice</th>\n",
       "    </tr>\n",
       "  </thead>\n",
       "  <tbody>\n",
       "    <tr>\n",
       "      <th>234</th>\n",
       "      <td>NaN</td>\n",
       "      <td>0.0</td>\n",
       "      <td>216500</td>\n",
       "    </tr>\n",
       "    <tr>\n",
       "      <th>529</th>\n",
       "      <td>NaN</td>\n",
       "      <td>0.0</td>\n",
       "      <td>200624</td>\n",
       "    </tr>\n",
       "    <tr>\n",
       "      <th>650</th>\n",
       "      <td>NaN</td>\n",
       "      <td>0.0</td>\n",
       "      <td>205950</td>\n",
       "    </tr>\n",
       "    <tr>\n",
       "      <th>936</th>\n",
       "      <td>NaN</td>\n",
       "      <td>0.0</td>\n",
       "      <td>184900</td>\n",
       "    </tr>\n",
       "    <tr>\n",
       "      <th>973</th>\n",
       "      <td>NaN</td>\n",
       "      <td>0.0</td>\n",
       "      <td>182000</td>\n",
       "    </tr>\n",
       "    <tr>\n",
       "      <th>977</th>\n",
       "      <td>NaN</td>\n",
       "      <td>0.0</td>\n",
       "      <td>199900</td>\n",
       "    </tr>\n",
       "    <tr>\n",
       "      <th>1243</th>\n",
       "      <td>NaN</td>\n",
       "      <td>0.0</td>\n",
       "      <td>465000</td>\n",
       "    </tr>\n",
       "    <tr>\n",
       "      <th>1278</th>\n",
       "      <td>NaN</td>\n",
       "      <td>0.0</td>\n",
       "      <td>237000</td>\n",
       "    </tr>\n",
       "  </tbody>\n",
       "</table>\n",
       "</div>"
      ],
      "text/plain": [
       "     MasVnrType  MasVnrArea  SalePrice\n",
       "234         NaN         0.0     216500\n",
       "529         NaN         0.0     200624\n",
       "650         NaN         0.0     205950\n",
       "936         NaN         0.0     184900\n",
       "973         NaN         0.0     182000\n",
       "977         NaN         0.0     199900\n",
       "1243        NaN         0.0     465000\n",
       "1278        NaN         0.0     237000"
      ]
     },
     "metadata": {},
     "output_type": "display_data"
    },
    {
     "data": {
      "image/png": "[encoded data removed]",
      "text/plain": [
       "<Figure size 432x288 with 1 Axes>"
      ]
     },
     "metadata": {
      "needs_background": "light"
     },
     "output_type": "display_data"
    },
    {
     "data": {
      "image/png": "[encoded data removed]",
      "text/plain": [
       "<Figure size 432x288 with 1 Axes>"
      ]
     },
     "metadata": {
      "needs_background": "light"
     },
     "output_type": "display_data"
    },
    {
     "name": "stdout",
     "output_type": "stream",
     "text": [
      "('MasVnrType', 'null-check at train_data', 0)\n",
      "('MasVnrType', 'null-check at test_data', 0)\n"
     ]
    }
   ],
   "source": [
    "# impute existing type of None to missing values\n",
    "display(train_data[train_data['MasVnrType'].isnull()][['MasVnrType', 'MasVnrArea', 'SalePrice']])\n",
    "\n",
    "run_analysis(train_data, 'MasVnrType')\n",
    "\n",
    "fillna_with('MasVnrType', 'None')"
   ]
  },
  {
   "cell_type": "code",
   "execution_count": 28,
   "metadata": {},
   "outputs": [
    {
     "data": {
      "text/html": [
       "<div>\n",
       "<style scoped>\n",
       "    .dataframe tbody tr th:only-of-type {\n",
       "        vertical-align: middle;\n",
       "    }\n",
       "\n",
       "    .dataframe tbody tr th {\n",
       "        vertical-align: top;\n",
       "    }\n",
       "\n",
       "    .dataframe thead th {\n",
       "        text-align: right;\n",
       "    }\n",
       "</style>\n",
       "<table border=\"1\" class=\"dataframe\">\n",
       "  <thead>\n",
       "    <tr style=\"text-align: right;\">\n",
       "      <th></th>\n",
       "      <th>Electrical</th>\n",
       "      <th>SalePrice</th>\n",
       "      <th>Utilities</th>\n",
       "    </tr>\n",
       "  </thead>\n",
       "  <tbody>\n",
       "    <tr>\n",
       "      <th>1379</th>\n",
       "      <td>NaN</td>\n",
       "      <td>167500</td>\n",
       "      <td>AllPub</td>\n",
       "    </tr>\n",
       "  </tbody>\n",
       "</table>\n",
       "</div>"
      ],
      "text/plain": [
       "     Electrical  SalePrice Utilities\n",
       "1379        NaN     167500    AllPub"
      ]
     },
     "metadata": {},
     "output_type": "display_data"
    },
    {
     "data": {
      "image/png": "[encoded data removed]",
      "text/plain": [
       "<Figure size 432x288 with 1 Axes>"
      ]
     },
     "metadata": {
      "needs_background": "light"
     },
     "output_type": "display_data"
    },
    {
     "data": {
      "image/png": "[encoded data removed]",
      "text/plain": [
       "<Figure size 432x288 with 1 Axes>"
      ]
     },
     "metadata": {
      "needs_background": "light"
     },
     "output_type": "display_data"
    },
    {
     "name": "stdout",
     "output_type": "stream",
     "text": [
      "('Electrical', 'null-check at train_data', 0)\n",
      "('Electrical', 'null-check at test_data', 0)\n"
     ]
    }
   ],
   "source": [
    "# utilities is not null, then we could set Electrical with the mode, instead of no electricity\n",
    "display(train_data[train_data['Electrical'].isnull()][['Electrical', 'SalePrice', 'Utilities']])\n",
    "run_analysis(train_data, 'Electrical')\n",
    "\n",
    "electrical_mode_value = train_data['Electrical'].mode().values[0]\n",
    "fillna_with('Electrical', electrical_mode_value)"
   ]
  },
  {
   "cell_type": "code",
   "execution_count": 29,
   "metadata": {},
   "outputs": [
    {
     "data": {
      "text/plain": [
       "0"
      ]
     },
     "execution_count": 29,
     "metadata": {},
     "output_type": "execute_result"
    }
   ],
   "source": [
    "# final null check with train data\n",
    "train_data.isnull().sum().sum()"
   ]
  },
  {
   "cell_type": "code",
   "execution_count": 30,
   "metadata": {},
   "outputs": [
    {
     "data": {
      "text/html": [
       "<div>\n",
       "<style scoped>\n",
       "    .dataframe tbody tr th:only-of-type {\n",
       "        vertical-align: middle;\n",
       "    }\n",
       "\n",
       "    .dataframe tbody tr th {\n",
       "        vertical-align: top;\n",
       "    }\n",
       "\n",
       "    .dataframe thead th {\n",
       "        text-align: right;\n",
       "    }\n",
       "</style>\n",
       "<table border=\"1\" class=\"dataframe\">\n",
       "  <thead>\n",
       "    <tr style=\"text-align: right;\">\n",
       "      <th></th>\n",
       "      <th>Missing Count Test</th>\n",
       "      <th>Missing Percent</th>\n",
       "    </tr>\n",
       "  </thead>\n",
       "  <tbody>\n",
       "    <tr>\n",
       "      <th>MSZoning</th>\n",
       "      <td>4</td>\n",
       "      <td>0.002742</td>\n",
       "    </tr>\n",
       "    <tr>\n",
       "      <th>Utilities</th>\n",
       "      <td>2</td>\n",
       "      <td>0.001371</td>\n",
       "    </tr>\n",
       "    <tr>\n",
       "      <th>BsmtFullBath</th>\n",
       "      <td>2</td>\n",
       "      <td>0.001371</td>\n",
       "    </tr>\n",
       "    <tr>\n",
       "      <th>BsmtHalfBath</th>\n",
       "      <td>2</td>\n",
       "      <td>0.001371</td>\n",
       "    </tr>\n",
       "    <tr>\n",
       "      <th>Functional</th>\n",
       "      <td>2</td>\n",
       "      <td>0.001371</td>\n",
       "    </tr>\n",
       "    <tr>\n",
       "      <th>Exterior1st</th>\n",
       "      <td>1</td>\n",
       "      <td>0.000685</td>\n",
       "    </tr>\n",
       "    <tr>\n",
       "      <th>Exterior2nd</th>\n",
       "      <td>1</td>\n",
       "      <td>0.000685</td>\n",
       "    </tr>\n",
       "    <tr>\n",
       "      <th>BsmtFinSF1</th>\n",
       "      <td>1</td>\n",
       "      <td>0.000685</td>\n",
       "    </tr>\n",
       "    <tr>\n",
       "      <th>BsmtFinSF2</th>\n",
       "      <td>1</td>\n",
       "      <td>0.000685</td>\n",
       "    </tr>\n",
       "    <tr>\n",
       "      <th>BsmtUnfSF</th>\n",
       "      <td>1</td>\n",
       "      <td>0.000685</td>\n",
       "    </tr>\n",
       "    <tr>\n",
       "      <th>TotalBsmtSF</th>\n",
       "      <td>1</td>\n",
       "      <td>0.000685</td>\n",
       "    </tr>\n",
       "    <tr>\n",
       "      <th>KitchenQual</th>\n",
       "      <td>1</td>\n",
       "      <td>0.000685</td>\n",
       "    </tr>\n",
       "    <tr>\n",
       "      <th>GarageCars</th>\n",
       "      <td>1</td>\n",
       "      <td>0.000685</td>\n",
       "    </tr>\n",
       "    <tr>\n",
       "      <th>GarageArea</th>\n",
       "      <td>1</td>\n",
       "      <td>0.000685</td>\n",
       "    </tr>\n",
       "    <tr>\n",
       "      <th>SaleType</th>\n",
       "      <td>1</td>\n",
       "      <td>0.000685</td>\n",
       "    </tr>\n",
       "  </tbody>\n",
       "</table>\n",
       "</div>"
      ],
      "text/plain": [
       "              Missing Count Test  Missing Percent\n",
       "MSZoning                       4         0.002742\n",
       "Utilities                      2         0.001371\n",
       "BsmtFullBath                   2         0.001371\n",
       "BsmtHalfBath                   2         0.001371\n",
       "Functional                     2         0.001371\n",
       "Exterior1st                    1         0.000685\n",
       "Exterior2nd                    1         0.000685\n",
       "BsmtFinSF1                     1         0.000685\n",
       "BsmtFinSF2                     1         0.000685\n",
       "BsmtUnfSF                      1         0.000685\n",
       "TotalBsmtSF                    1         0.000685\n",
       "KitchenQual                    1         0.000685\n",
       "GarageCars                     1         0.000685\n",
       "GarageArea                     1         0.000685\n",
       "SaleType                       1         0.000685"
      ]
     },
     "execution_count": 30,
     "metadata": {},
     "output_type": "execute_result"
    }
   ],
   "source": [
    "# Missing values in test data (won't  analyse them, but clean them blindly)\n",
    "null_cols_test = test_data.isnull().sum() > 0\n",
    "cols_with_nulls_test = null_cols_test[null_cols_test].axes[0]\n",
    "nully_data_test = test_data[cols_with_nulls_test].isnull()\n",
    "\n",
    "total_test = nully_data_test.sum()\n",
    "percent_test = total_test / nully_data_test.count()\n",
    "missing_data_test = pd.concat([total_test, percent_test], axis=1, keys=['Missing Count Test', 'Missing Percent'])\n",
    "missing_data_test = missing_data_test.sort_values(by='Missing Count Test', ascending=False)\n",
    "\n",
    "missing_data_test"
   ]
  },
  {
   "cell_type": "code",
   "execution_count": 31,
   "metadata": {},
   "outputs": [],
   "source": [
    "def fillna_test_with(feature, value):\n",
    "    test_data.loc[test_data[feature].isnull(), feature] = value\n",
    "\n",
    "    print(feature, 'nullcheck count in test_data:', test_data[feature].isnull().sum())"
   ]
  },
  {
   "cell_type": "code",
   "execution_count": 32,
   "metadata": {},
   "outputs": [],
   "source": [
    "def fillna_test_with_train_mode(feature):\n",
    "    feature_train_mode = train_data[feature].describe().top\n",
    "    fillna_test_with(feature, feature_train_mode)"
   ]
  },
  {
   "cell_type": "code",
   "execution_count": 33,
   "metadata": {},
   "outputs": [
    {
     "data": {
      "text/plain": [
       "count     1460\n",
       "unique       5\n",
       "top         RL\n",
       "freq      1151\n",
       "Name: MSZoning, dtype: object"
      ]
     },
     "metadata": {},
     "output_type": "display_data"
    },
    {
     "name": "stdout",
     "output_type": "stream",
     "text": [
      "('MSZoning', 'nullcheck count in test_data:', 0)\n"
     ]
    }
   ],
   "source": [
    "# fill test data with MSZoning mode\n",
    "display(train_data['MSZoning'].describe())\n",
    "\n",
    "fillna_test_with_train_mode('MSZoning')"
   ]
  },
  {
   "cell_type": "code",
   "execution_count": 34,
   "metadata": {},
   "outputs": [
    {
     "data": {
      "text/plain": [
       "count       1460\n",
       "unique         2\n",
       "top       AllPub\n",
       "freq        1459\n",
       "Name: Utilities, dtype: object"
      ]
     },
     "metadata": {},
     "output_type": "display_data"
    },
    {
     "name": "stdout",
     "output_type": "stream",
     "text": [
      "('Utilities', 'nullcheck count in test_data:', 0)\n"
     ]
    }
   ],
   "source": [
    "# fill test data with Utilities mode\n",
    "display(train_data['Utilities'].describe())\n",
    "\n",
    "fillna_test_with_train_mode('Utilities')"
   ]
  },
  {
   "cell_type": "code",
   "execution_count": 35,
   "metadata": {},
   "outputs": [
    {
     "data": {
      "text/plain": [
       "count    1460.000000\n",
       "mean        0.425342\n",
       "std         0.518911\n",
       "min         0.000000\n",
       "25%         0.000000\n",
       "50%         0.000000\n",
       "75%         1.000000\n",
       "max         3.000000\n",
       "Name: BsmtFullBath, dtype: float64"
      ]
     },
     "metadata": {},
     "output_type": "display_data"
    },
    {
     "data": {
      "text/plain": [
       "count    1460.000000\n",
       "mean        0.057534\n",
       "std         0.238753\n",
       "min         0.000000\n",
       "25%         0.000000\n",
       "50%         0.000000\n",
       "75%         0.000000\n",
       "max         2.000000\n",
       "Name: BsmtHalfBath, dtype: float64"
      ]
     },
     "metadata": {},
     "output_type": "display_data"
    },
    {
     "data": {
      "text/plain": [
       "count    1460.000000\n",
       "mean      443.639726\n",
       "std       456.098091\n",
       "min         0.000000\n",
       "25%         0.000000\n",
       "50%       383.500000\n",
       "75%       712.250000\n",
       "max      5644.000000\n",
       "Name: BsmtFinSF1, dtype: float64"
      ]
     },
     "metadata": {},
     "output_type": "display_data"
    },
    {
     "data": {
      "text/plain": [
       "count    1460.000000\n",
       "mean       46.549315\n",
       "std       161.319273\n",
       "min         0.000000\n",
       "25%         0.000000\n",
       "50%         0.000000\n",
       "75%         0.000000\n",
       "max      1474.000000\n",
       "Name: BsmtFinSF2, dtype: float64"
      ]
     },
     "metadata": {},
     "output_type": "display_data"
    },
    {
     "data": {
      "text/plain": [
       "count    1460.000000\n",
       "mean      567.240411\n",
       "std       441.866955\n",
       "min         0.000000\n",
       "25%       223.000000\n",
       "50%       477.500000\n",
       "75%       808.000000\n",
       "max      2336.000000\n",
       "Name: BsmtUnfSF, dtype: float64"
      ]
     },
     "metadata": {},
     "output_type": "display_data"
    },
    {
     "data": {
      "text/plain": [
       "count    1460.000000\n",
       "mean     1057.429452\n",
       "std       438.705324\n",
       "min         0.000000\n",
       "25%       795.750000\n",
       "50%       991.500000\n",
       "75%      1298.250000\n",
       "max      6110.000000\n",
       "Name: TotalBsmtSF, dtype: float64"
      ]
     },
     "metadata": {},
     "output_type": "display_data"
    },
    {
     "name": "stdout",
     "output_type": "stream",
     "text": [
      "('BsmtFullBath', 'nullcheck count in test_data:', 0)\n",
      "('BsmtHalfBath', 'nullcheck count in test_data:', 0)\n",
      "('BsmtFinSF1', 'nullcheck count in test_data:', 0)\n",
      "('BsmtFinSF2', 'nullcheck count in test_data:', 0)\n",
      "('BsmtUnfSF', 'nullcheck count in test_data:', 0)\n",
      "('TotalBsmtSF', 'nullcheck count in test_data:', 0)\n"
     ]
    }
   ],
   "source": [
    "# fill all basement null test data with 0\n",
    "display(train_data['BsmtFullBath'].describe())\n",
    "display(train_data['BsmtHalfBath'].describe())\n",
    "display(train_data['BsmtFinSF1'].describe())\n",
    "display(train_data['BsmtFinSF2'].describe())\n",
    "display(train_data['BsmtUnfSF'].describe())\n",
    "display(train_data['TotalBsmtSF'].describe())\n",
    "\n",
    "fillna_test_with('BsmtFullBath', 0.0)\n",
    "fillna_test_with('BsmtHalfBath', 0.0)\n",
    "fillna_test_with('BsmtFinSF1', 0.0)\n",
    "fillna_test_with('BsmtFinSF2', 0.0)\n",
    "fillna_test_with('BsmtUnfSF', 0.0)\n",
    "fillna_test_with('TotalBsmtSF', 0.0)"
   ]
  },
  {
   "cell_type": "code",
   "execution_count": 36,
   "metadata": {},
   "outputs": [
    {
     "data": {
      "text/plain": [
       "count     1460\n",
       "unique       7\n",
       "top        Typ\n",
       "freq      1360\n",
       "Name: Functional, dtype: object"
      ]
     },
     "metadata": {},
     "output_type": "display_data"
    },
    {
     "name": "stdout",
     "output_type": "stream",
     "text": [
      "('Functional', 'nullcheck count in test_data:', 0)\n"
     ]
    }
   ],
   "source": [
    "# fill test data with Functional mode\n",
    "display(train_data['Functional'].describe())\n",
    "\n",
    "fillna_test_with_train_mode('Functional')"
   ]
  },
  {
   "cell_type": "code",
   "execution_count": 37,
   "metadata": {},
   "outputs": [
    {
     "data": {
      "text/plain": [
       "count        1460\n",
       "unique         15\n",
       "top       VinylSd\n",
       "freq          515\n",
       "Name: Exterior1st, dtype: object"
      ]
     },
     "metadata": {},
     "output_type": "display_data"
    },
    {
     "data": {
      "text/plain": [
       "count        1460\n",
       "unique         16\n",
       "top       VinylSd\n",
       "freq          504\n",
       "Name: Exterior2nd, dtype: object"
      ]
     },
     "metadata": {},
     "output_type": "display_data"
    },
    {
     "name": "stdout",
     "output_type": "stream",
     "text": [
      "('Exterior1st', 'nullcheck count in test_data:', 0)\n",
      "('Exterior2nd', 'nullcheck count in test_data:', 0)\n"
     ]
    }
   ],
   "source": [
    "# fill test data for Exterior1st and Exterior2nd as Other\n",
    "display(train_data['Exterior1st'].describe())\n",
    "display(train_data['Exterior2nd'].describe())\n",
    "\n",
    "# run_analysis(train_data, 'Exterior1st')\n",
    "# run_analysis(train_data, 'Exterior2nd')\n",
    "\n",
    "fillna_test_with('Exterior1st', 'Other')\n",
    "fillna_test_with('Exterior2nd', 'Other')"
   ]
  },
  {
   "cell_type": "code",
   "execution_count": 38,
   "metadata": {},
   "outputs": [
    {
     "data": {
      "text/plain": [
       "count     1460\n",
       "unique       4\n",
       "top         TA\n",
       "freq       735\n",
       "Name: KitchenQual, dtype: object"
      ]
     },
     "metadata": {},
     "output_type": "display_data"
    },
    {
     "name": "stdout",
     "output_type": "stream",
     "text": [
      "('KitchenQual', 'nullcheck count in test_data:', 0)\n"
     ]
    }
   ],
   "source": [
    "# fill test data with KitchenQual mode\n",
    "display(train_data['KitchenQual'].describe())\n",
    "\n",
    "fillna_test_with_train_mode('KitchenQual')"
   ]
  },
  {
   "cell_type": "code",
   "execution_count": 39,
   "metadata": {},
   "outputs": [
    {
     "name": "stdout",
     "output_type": "stream",
     "text": [
      "('GarageCars', 'nullcheck count in test_data:', 0)\n",
      "('GarageArea', 'nullcheck count in test_data:', 0)\n"
     ]
    }
   ],
   "source": [
    "# fillna test data GarageCars and GarageArea with 0\n",
    "fillna_test_with('GarageCars', 0.0)\n",
    "fillna_test_with('GarageArea', 0.0)"
   ]
  },
  {
   "cell_type": "code",
   "execution_count": 40,
   "metadata": {
    "scrolled": true
   },
   "outputs": [
    {
     "data": {
      "text/plain": [
       "count     1460\n",
       "unique       9\n",
       "top         WD\n",
       "freq      1267\n",
       "Name: SaleType, dtype: object"
      ]
     },
     "metadata": {},
     "output_type": "display_data"
    },
    {
     "name": "stdout",
     "output_type": "stream",
     "text": [
      "('SaleType', 'nullcheck count in test_data:', 0)\n"
     ]
    }
   ],
   "source": [
    "# fill test data with SaleType mode\n",
    "display(train_data['SaleType'].describe())\n",
    "\n",
    "fillna_test_with_train_mode('SaleType')"
   ]
  },
  {
   "cell_type": "code",
   "execution_count": 41,
   "metadata": {},
   "outputs": [
    {
     "data": {
      "text/plain": [
       "0"
      ]
     },
     "execution_count": 41,
     "metadata": {},
     "output_type": "execute_result"
    }
   ],
   "source": [
    "# final null check with test data\n",
    "test_data.isnull().sum().sum()"
   ]
  },
  {
   "cell_type": "markdown",
   "metadata": {},
   "source": [
    "## Type conversion\n",
    "\n",
    "References:\n",
    "\n",
    "- https://stackoverflow.com/q/41335718/1064325\n",
    "- https://towardsdatascience.com/the-ultimate-guide-to-data-cleaning-3969843991d4#bc9d\n",
    "- https://www.datacamp.com/community/tutorials/categorical-data\n",
    "- https://pbpython.com/categorical-encoding.html\n",
    "- https://towardsdatascience.com/smarter-ways-to-encode-categorical-data-for-machine-learning-part-1-of-3-6dca2f71b159\n",
    "- https://pt.coursera.org/lecture/competitive-data-science/concept-of-mean-encoding-b5Gxv\n",
    "- https://towardsdatascience.com/why-you-should-try-mean-encoding-17057262cd0\n",
    "- https://www.datacamp.com/community/tutorials/encoding-methodologies"
   ]
  },
  {
   "cell_type": "code",
   "execution_count": 42,
   "metadata": {
    "scrolled": true
   },
   "outputs": [
    {
     "name": "stdout",
     "output_type": "stream",
     "text": [
      "('Dataset dtypes:', array([dtype('int64'), dtype('float64'), dtype('O')], dtype=object))\n",
      "\n",
      "('object columns:', ['MSZoning', 'Street', 'LotShape', 'LandContour', 'Utilities', 'LotConfig', 'LandSlope', 'Neighborhood', 'Condition1', 'Condition2', 'BldgType', 'HouseStyle', 'RoofStyle', 'RoofMatl', 'Exterior1st', 'Exterior2nd', 'MasVnrType', 'ExterQual', 'ExterCond', 'Foundation', 'BsmtQual', 'BsmtCond', 'BsmtExposure', 'BsmtFinType1', 'BsmtFinType2', 'Heating', 'HeatingQC', 'CentralAir', 'Electrical', 'KitchenQual', 'Functional', 'FireplaceQu', 'GarageType', 'GarageFinish', 'GarageQual', 'GarageCond', 'PavedDrive', 'SaleType', 'SaleCondition'])\n",
      "\n",
      "('float64 columns:', ['LotFrontage', 'MasVnrArea', 'GarageYrBlt'])\n",
      "\n",
      "('int64 columns:', ['Id', 'MSSubClass', 'LotArea', 'OverallQual', 'OverallCond', 'YearBuilt', 'YearRemodAdd', 'BsmtFinSF1', 'BsmtFinSF2', 'BsmtUnfSF', 'TotalBsmtSF', '1stFlrSF', '2ndFlrSF', 'LowQualFinSF', 'GrLivArea', 'BsmtFullBath', 'BsmtHalfBath', 'FullBath', 'HalfBath', 'BedroomAbvGr', 'KitchenAbvGr', 'TotRmsAbvGrd', 'Fireplaces', 'GarageCars', 'GarageArea', 'WoodDeckSF', 'OpenPorchSF', 'EnclosedPorch', '3SsnPorch', 'ScreenPorch', 'PoolArea', 'MiscVal', 'MoSold', 'YrSold', 'SalePrice'])\n"
     ]
    }
   ],
   "source": [
    "# detect types of columns\n",
    "dtypes = np.unique(train_data.dtypes)\n",
    "\n",
    "print('Dataset dtypes:', dtypes)\n",
    "print('')\n",
    "\n",
    "def columns_of_type(dtype):\n",
    "    columns = []\n",
    "    for column in train_data.columns:\n",
    "        if (train_data[column].dtype == dtype):\n",
    "            columns.append(column)\n",
    "    return columns\n",
    "\n",
    "# nominal (one-hot-encode, to binary):\n",
    "#     MSZoning, LandContour, Street, LotConfig, RoofStyle, RoofMatl, MasVnrType, Foundation, Heating,\n",
    "#     Electrical, PavedDrive, Condition1, Condition2, Exterior1st, Exterior2nd\n",
    "#\n",
    "# pedigree (mean-encode, to currency):\n",
    "#     Neighborhood, BldgType, HouseStyle, GarageType\n",
    "#\n",
    "# ordinal (map-values, to grade):\n",
    "#     LotShape, LandSlope, Utilities, ExterQual, ExterCond, BsmtQual, BsmtCond, BsmtExposure,\n",
    "#     HeatingQC, CentralAir, KitchenQual, Functional, FireplaceQu, GarageFinish, GarageQual, GarageCond\n",
    "#     BsmtFinType1, BsmtFinType2\n",
    "#\n",
    "# irrelevant (drop):\n",
    "#     SaleType, SaleCondition\n",
    "print('object columns:', columns_of_type('O'))\n",
    "print('')\n",
    "\n",
    "# type conversion (int64, then space): LotFrontage, MasVnrArea\n",
    "# type conversion (int64, then time): GarageYrBlt\n",
    "print('float64 columns:', columns_of_type('float64'))\n",
    "print('')\n",
    "\n",
    "# type conversion (object, then nominal): MSSubClass, MoSold\n",
    "#\n",
    "# space:\n",
    "#     LotArea, BsmtFinSF1, BsmtFinSF2, BsmtUnfSF, TotalBsmtSF, 1stFlrSF, 2ndFlrSF, \n",
    "#     GrLivArea, GarageArea, WoodDeckSF, OpenPorchSF, EnclosedPorch, 3SsnPorch, ScreenPorch, PoolArea,\n",
    "#     BedroomAbvGr, KitchenAbvGr\n",
    "#\n",
    "# quantity:\n",
    "#     BsmtFullBath, BsmtHalfBath, FullBath, HalfBath, TotRmsAbvGrd, Fireplaces, GarageCars\n",
    "#\n",
    "# grade:\n",
    "#      OverallQual, OverallCond, \n",
    "#\n",
    "# time:\n",
    "#      YearBuilt, YearRemodAdd, YrSold\n",
    "#\n",
    "# currency:\n",
    "#      MiscVal\n",
    "print('int64 columns:', columns_of_type('int64'))"
   ]
  },
  {
   "cell_type": "code",
   "execution_count": 43,
   "metadata": {},
   "outputs": [],
   "source": [
    "# type conversion (object): MSSubClass, MoSold\n",
    "train_data['MSSubClass'] = train_data['MSSubClass'].astype('object')\n",
    "test_data['MSSubClass'] = test_data['MSSubClass'].astype('object')\n",
    "train_data['MoSold'] = train_data['MoSold'].astype('object')\n",
    "test_data['MoSold'] = test_data['MoSold'].astype('object')\n",
    "\n",
    "# create feature LotDepth\n",
    "train_data['LotDepth'] = train_data['LotArea'] / train_data['LotFrontage']\n",
    "test_data['LotDepth'] = test_data['LotArea'] / test_data['LotFrontage']\n",
    "\n",
    "# type conversion (int64): LotFrontage, LotDepth, MasVnrArea, GarageYrBlt\n",
    "train_data['LotFrontage'] = train_data['LotFrontage'].astype('int64')\n",
    "test_data['LotFrontage'] = test_data['LotFrontage'].astype('int64')\n",
    "train_data['LotDepth'] = train_data['LotDepth'].astype('int64')\n",
    "test_data['LotDepth'] = test_data['LotDepth'].astype('int64')\n",
    "train_data['MasVnrArea'] = train_data['MasVnrArea'].astype('int64')\n",
    "test_data['MasVnrArea'] = test_data['MasVnrArea'].astype('int64')\n",
    "train_data['GarageYrBlt'] = train_data['GarageYrBlt'].astype('int64')\n",
    "test_data['GarageYrBlt'] = test_data['GarageYrBlt'].astype('int64')\n",
    "\n",
    "# irrelevant features (drop): SaleType, SaleCondition\n",
    "train_data.drop(columns=['SaleType', 'SaleCondition'], inplace=True)\n",
    "test_data.drop(columns=['SaleType', 'SaleCondition'], inplace=True)"
   ]
  },
  {
   "cell_type": "code",
   "execution_count": 44,
   "metadata": {},
   "outputs": [
    {
     "name": "stdout",
     "output_type": "stream",
     "text": [
      "('object columns:', ['MSSubClass', 'MSZoning', 'Street', 'LotShape', 'LandContour', 'Utilities', 'LotConfig', 'LandSlope', 'Neighborhood', 'Condition1', 'Condition2', 'BldgType', 'HouseStyle', 'RoofStyle', 'RoofMatl', 'Exterior1st', 'Exterior2nd', 'MasVnrType', 'ExterQual', 'ExterCond', 'Foundation', 'BsmtQual', 'BsmtCond', 'BsmtExposure', 'BsmtFinType1', 'BsmtFinType2', 'Heating', 'HeatingQC', 'CentralAir', 'Electrical', 'KitchenQual', 'Functional', 'FireplaceQu', 'GarageType', 'GarageFinish', 'GarageQual', 'GarageCond', 'PavedDrive', 'MoSold'])\n",
      "\n",
      "('int64 columns:', ['Id', 'LotFrontage', 'LotArea', 'OverallQual', 'OverallCond', 'YearBuilt', 'YearRemodAdd', 'MasVnrArea', 'BsmtFinSF1', 'BsmtFinSF2', 'BsmtUnfSF', 'TotalBsmtSF', '1stFlrSF', '2ndFlrSF', 'LowQualFinSF', 'GrLivArea', 'BsmtFullBath', 'BsmtHalfBath', 'FullBath', 'HalfBath', 'BedroomAbvGr', 'KitchenAbvGr', 'TotRmsAbvGrd', 'Fireplaces', 'GarageYrBlt', 'GarageCars', 'GarageArea', 'WoodDeckSF', 'OpenPorchSF', 'EnclosedPorch', '3SsnPorch', 'ScreenPorch', 'PoolArea', 'MiscVal', 'YrSold', 'SalePrice', 'LotDepth'])\n"
     ]
    }
   ],
   "source": [
    "# pedigree (mean-encode, to currency):\n",
    "#     Neighborhood, GarageType\n",
    "#\n",
    "# ordinal (map-values, to grade):\n",
    "#     LotShape, LandSlope, Utilities, ExterQual, ExterCond, BsmtQual, BsmtCond, BsmtExposure,\n",
    "#     HeatingQC, CentralAir, KitchenQual, Functional, FireplaceQu, GarageFinish, GarageQual, GarageCond\n",
    "#     BsmtFinType1, BsmtFinType2\n",
    "#\n",
    "# nominal (one-hot-encode, to binary):\n",
    "#     MSSubClass, MSZoning, LandContour, Street, LotConfig, BldgType, HouseStyle, RoofStyle, RoofMatl, MoSold,\n",
    "#     MasVnrType, Foundation, Heating, Electrical, PavedDrive, Condition1, Condition2, Exterior1st, Exterior2nd\n",
    "print('object columns:', columns_of_type('O'))\n",
    "print('')\n",
    "\n",
    "# space:\n",
    "#     LotArea, BsmtFinSF1, BsmtFinSF2, BsmtUnfSF, TotalBsmtSF, 1stFlrSF, 2ndFlrSF, \n",
    "#     GrLivArea, GarageArea, WoodDeckSF, OpenPorchSF, EnclosedPorch, 3SsnPorch, ScreenPorch, PoolArea,\n",
    "#     BedroomAbvGr, KitchenAbvGr, LotFrontage (*), LotDepth (*), MasVnrArea, \n",
    "#\n",
    "# quantity:\n",
    "#     BsmtFullBath, BsmtHalfBath, FullBath, HalfBath, TotRmsAbvGrd, Fireplaces, GarageCars\n",
    "#\n",
    "# grade:\n",
    "#     OverallQual, OverallCond, \n",
    "#\n",
    "# time:\n",
    "#     YearBuilt, YearRemodAdd, YrSold, GarageYrBlt\n",
    "#\n",
    "# currency:\n",
    "#     MiscVal\n",
    "print('int64 columns:', columns_of_type('int64'))"
   ]
  },
  {
   "cell_type": "code",
   "execution_count": 45,
   "metadata": {},
   "outputs": [
    {
     "data": {
      "text/plain": [
       "count      1460\n",
       "unique       25\n",
       "top       NAmes\n",
       "freq        225\n",
       "Name: Neighborhood, dtype: object"
      ]
     },
     "metadata": {},
     "output_type": "display_data"
    },
    {
     "data": {
      "text/plain": [
       "count      1460.000000\n",
       "mean     180921.230137\n",
       "std       58678.708162\n",
       "min       98576.000000\n",
       "25%      136793.000000\n",
       "50%      186556.000000\n",
       "75%      197966.000000\n",
       "max      335295.000000\n",
       "Name: NeighborhoodMeanPrice, dtype: float64"
      ]
     },
     "metadata": {},
     "output_type": "display_data"
    },
    {
     "data": {
      "text/plain": [
       "dtype('int64')"
      ]
     },
     "metadata": {},
     "output_type": "display_data"
    },
    {
     "data": {
      "text/plain": [
       "dtype('int64')"
      ]
     },
     "metadata": {},
     "output_type": "display_data"
    },
    {
     "data": {
      "text/plain": [
       "count       1460\n",
       "unique         7\n",
       "top       Attchd\n",
       "freq         870\n",
       "Name: GarageType, dtype: object"
      ]
     },
     "metadata": {},
     "output_type": "display_data"
    },
    {
     "data": {
      "text/plain": [
       "count      1460.000000\n",
       "mean     180921.359589\n",
       "std       39658.207998\n",
       "min      103317.000000\n",
       "25%      134091.000000\n",
       "50%      202893.000000\n",
       "75%      202893.000000\n",
       "max      254752.000000\n",
       "Name: GarageTypeMeanPrice, dtype: float64"
      ]
     },
     "metadata": {},
     "output_type": "display_data"
    },
    {
     "data": {
      "text/plain": [
       "dtype('int64')"
      ]
     },
     "metadata": {},
     "output_type": "display_data"
    },
    {
     "data": {
      "text/plain": [
       "dtype('int64')"
      ]
     },
     "metadata": {},
     "output_type": "display_data"
    }
   ],
   "source": [
    "encoded_train_data = train_data.copy()\n",
    "encoded_test_data = test_data.copy()\n",
    "\n",
    "def mean_encode(data, t_data, feature, encoded_feature_name):\n",
    "    categories = data[feature].unique()\n",
    "    display(data[feature].describe())\n",
    "    \n",
    "    for category in categories:\n",
    "        category_indexes = data[feature] == category\n",
    "        t_category_indexes = t_data[feature] == category\n",
    "        category_target_mean = data[category_indexes]['SalePrice'].mean()\n",
    "        data.loc[category_indexes, feature] = category_target_mean\n",
    "        t_data.loc[t_category_indexes, feature] = category_target_mean\n",
    "    \n",
    "    data[encoded_feature_name] = data[feature].astype('float64').round(0).astype('int64')\n",
    "    t_data[encoded_feature_name] = t_data[feature].astype('float64').round(0).astype('int64')\n",
    "    display(data[encoded_feature_name].describe())\n",
    "    display(data[encoded_feature_name].dtype)\n",
    "    display(t_data[encoded_feature_name].dtype)\n",
    "    \n",
    "    data.drop(columns=[feature], inplace=True)\n",
    "    t_data.drop(columns=[feature], inplace=True)\n",
    "\n",
    "# target-mean-encode Neighborhood and GarageType into NeighborhoodMeanPrice and GarageTypeMeanPrice\n",
    "mean_encode(encoded_train_data, encoded_test_data, 'Neighborhood', 'NeighborhoodMeanPrice')\n",
    "mean_encode(encoded_train_data, encoded_test_data, 'GarageType', 'GarageTypeMeanPrice')"
   ]
  },
  {
   "cell_type": "code",
   "execution_count": 46,
   "metadata": {},
   "outputs": [
    {
     "data": {
      "text/plain": [
       "count    1460.000000\n",
       "mean        3.591781\n",
       "std         0.582296\n",
       "min         1.000000\n",
       "25%         3.000000\n",
       "50%         4.000000\n",
       "75%         4.000000\n",
       "max         4.000000\n",
       "Name: LotShape, dtype: float64"
      ]
     },
     "metadata": {},
     "output_type": "display_data"
    },
    {
     "data": {
      "text/plain": [
       "dtype('int64')"
      ]
     },
     "metadata": {},
     "output_type": "display_data"
    },
    {
     "data": {
      "text/plain": [
       "dtype('int64')"
      ]
     },
     "metadata": {},
     "output_type": "display_data"
    },
    {
     "data": {
      "text/plain": [
       "count    1460.000000\n",
       "mean        2.937671\n",
       "std         0.276232\n",
       "min         1.000000\n",
       "25%         3.000000\n",
       "50%         3.000000\n",
       "75%         3.000000\n",
       "max         3.000000\n",
       "Name: LandSlope, dtype: float64"
      ]
     },
     "metadata": {},
     "output_type": "display_data"
    },
    {
     "data": {
      "text/plain": [
       "dtype('int64')"
      ]
     },
     "metadata": {},
     "output_type": "display_data"
    },
    {
     "data": {
      "text/plain": [
       "dtype('int64')"
      ]
     },
     "metadata": {},
     "output_type": "display_data"
    },
    {
     "data": {
      "text/plain": [
       "count    1460.000000\n",
       "mean        3.998630\n",
       "std         0.052342\n",
       "min         2.000000\n",
       "25%         4.000000\n",
       "50%         4.000000\n",
       "75%         4.000000\n",
       "max         4.000000\n",
       "Name: Utilities, dtype: float64"
      ]
     },
     "metadata": {},
     "output_type": "display_data"
    },
    {
     "data": {
      "text/plain": [
       "dtype('int64')"
      ]
     },
     "metadata": {},
     "output_type": "display_data"
    },
    {
     "data": {
      "text/plain": [
       "dtype('int64')"
      ]
     },
     "metadata": {},
     "output_type": "display_data"
    },
    {
     "data": {
      "text/plain": [
       "count    1460.00000\n",
       "mean        3.39589\n",
       "std         0.57428\n",
       "min         2.00000\n",
       "25%         3.00000\n",
       "50%         3.00000\n",
       "75%         4.00000\n",
       "max         5.00000\n",
       "Name: ExterQual, dtype: float64"
      ]
     },
     "metadata": {},
     "output_type": "display_data"
    },
    {
     "data": {
      "text/plain": [
       "dtype('int64')"
      ]
     },
     "metadata": {},
     "output_type": "display_data"
    },
    {
     "data": {
      "text/plain": [
       "dtype('int64')"
      ]
     },
     "metadata": {},
     "output_type": "display_data"
    },
    {
     "data": {
      "text/plain": [
       "count    1460.000000\n",
       "mean        3.083562\n",
       "std         0.351054\n",
       "min         1.000000\n",
       "25%         3.000000\n",
       "50%         3.000000\n",
       "75%         3.000000\n",
       "max         5.000000\n",
       "Name: ExterCond, dtype: float64"
      ]
     },
     "metadata": {},
     "output_type": "display_data"
    },
    {
     "data": {
      "text/plain": [
       "dtype('int64')"
      ]
     },
     "metadata": {},
     "output_type": "display_data"
    },
    {
     "data": {
      "text/plain": [
       "dtype('int64')"
      ]
     },
     "metadata": {},
     "output_type": "display_data"
    },
    {
     "data": {
      "text/plain": [
       "count    1460.000000\n",
       "mean        3.489041\n",
       "std         0.876478\n",
       "min         0.000000\n",
       "25%         3.000000\n",
       "50%         4.000000\n",
       "75%         4.000000\n",
       "max         5.000000\n",
       "Name: BsmtQual, dtype: float64"
      ]
     },
     "metadata": {},
     "output_type": "display_data"
    },
    {
     "data": {
      "text/plain": [
       "dtype('int64')"
      ]
     },
     "metadata": {},
     "output_type": "display_data"
    },
    {
     "data": {
      "text/plain": [
       "dtype('int64')"
      ]
     },
     "metadata": {},
     "output_type": "display_data"
    },
    {
     "data": {
      "text/plain": [
       "count    1460.000000\n",
       "mean        2.934932\n",
       "std         0.552159\n",
       "min         0.000000\n",
       "25%         3.000000\n",
       "50%         3.000000\n",
       "75%         3.000000\n",
       "max         4.000000\n",
       "Name: BsmtCond, dtype: float64"
      ]
     },
     "metadata": {},
     "output_type": "display_data"
    },
    {
     "data": {
      "text/plain": [
       "dtype('int64')"
      ]
     },
     "metadata": {},
     "output_type": "display_data"
    },
    {
     "data": {
      "text/plain": [
       "dtype('int64')"
      ]
     },
     "metadata": {},
     "output_type": "display_data"
    },
    {
     "data": {
      "text/plain": [
       "count    1460.000000\n",
       "mean        1.632192\n",
       "std         1.067139\n",
       "min         0.000000\n",
       "25%         1.000000\n",
       "50%         1.000000\n",
       "75%         2.000000\n",
       "max         4.000000\n",
       "Name: BsmtExposure, dtype: float64"
      ]
     },
     "metadata": {},
     "output_type": "display_data"
    },
    {
     "data": {
      "text/plain": [
       "dtype('int64')"
      ]
     },
     "metadata": {},
     "output_type": "display_data"
    },
    {
     "data": {
      "text/plain": [
       "dtype('int64')"
      ]
     },
     "metadata": {},
     "output_type": "display_data"
    },
    {
     "data": {
      "text/plain": [
       "count    1460.000000\n",
       "mean        4.145205\n",
       "std         0.959501\n",
       "min         1.000000\n",
       "25%         3.000000\n",
       "50%         5.000000\n",
       "75%         5.000000\n",
       "max         5.000000\n",
       "Name: HeatingQC, dtype: float64"
      ]
     },
     "metadata": {},
     "output_type": "display_data"
    },
    {
     "data": {
      "text/plain": [
       "dtype('int64')"
      ]
     },
     "metadata": {},
     "output_type": "display_data"
    },
    {
     "data": {
      "text/plain": [
       "dtype('int64')"
      ]
     },
     "metadata": {},
     "output_type": "display_data"
    },
    {
     "data": {
      "text/plain": [
       "count    1460.000000\n",
       "mean        0.934932\n",
       "std         0.246731\n",
       "min         0.000000\n",
       "25%         1.000000\n",
       "50%         1.000000\n",
       "75%         1.000000\n",
       "max         1.000000\n",
       "Name: CentralAir, dtype: float64"
      ]
     },
     "metadata": {},
     "output_type": "display_data"
    },
    {
     "data": {
      "text/plain": [
       "dtype('int64')"
      ]
     },
     "metadata": {},
     "output_type": "display_data"
    },
    {
     "data": {
      "text/plain": [
       "dtype('int64')"
      ]
     },
     "metadata": {},
     "output_type": "display_data"
    },
    {
     "data": {
      "text/plain": [
       "count    1460.000000\n",
       "mean        3.511644\n",
       "std         0.663760\n",
       "min         2.000000\n",
       "25%         3.000000\n",
       "50%         3.000000\n",
       "75%         4.000000\n",
       "max         5.000000\n",
       "Name: KitchenQual, dtype: float64"
      ]
     },
     "metadata": {},
     "output_type": "display_data"
    },
    {
     "data": {
      "text/plain": [
       "dtype('int64')"
      ]
     },
     "metadata": {},
     "output_type": "display_data"
    },
    {
     "data": {
      "text/plain": [
       "dtype('int64')"
      ]
     },
     "metadata": {},
     "output_type": "display_data"
    },
    {
     "data": {
      "text/plain": [
       "count    1460.000000\n",
       "mean        7.841781\n",
       "std         0.667698\n",
       "min         2.000000\n",
       "25%         8.000000\n",
       "50%         8.000000\n",
       "75%         8.000000\n",
       "max         8.000000\n",
       "Name: Functional, dtype: float64"
      ]
     },
     "metadata": {},
     "output_type": "display_data"
    },
    {
     "data": {
      "text/plain": [
       "dtype('int64')"
      ]
     },
     "metadata": {},
     "output_type": "display_data"
    },
    {
     "data": {
      "text/plain": [
       "dtype('int64')"
      ]
     },
     "metadata": {},
     "output_type": "display_data"
    },
    {
     "data": {
      "text/plain": [
       "count    1460.000000\n",
       "mean        1.825342\n",
       "std         1.810877\n",
       "min         0.000000\n",
       "25%         0.000000\n",
       "50%         2.000000\n",
       "75%         4.000000\n",
       "max         5.000000\n",
       "Name: FireplaceQu, dtype: float64"
      ]
     },
     "metadata": {},
     "output_type": "display_data"
    },
    {
     "data": {
      "text/plain": [
       "dtype('int64')"
      ]
     },
     "metadata": {},
     "output_type": "display_data"
    },
    {
     "data": {
      "text/plain": [
       "dtype('int64')"
      ]
     },
     "metadata": {},
     "output_type": "display_data"
    },
    {
     "data": {
      "text/plain": [
       "count    1460.000000\n",
       "mean        1.715753\n",
       "std         0.892831\n",
       "min         0.000000\n",
       "25%         1.000000\n",
       "50%         2.000000\n",
       "75%         2.000000\n",
       "max         3.000000\n",
       "Name: GarageFinish, dtype: float64"
      ]
     },
     "metadata": {},
     "output_type": "display_data"
    },
    {
     "data": {
      "text/plain": [
       "dtype('int64')"
      ]
     },
     "metadata": {},
     "output_type": "display_data"
    },
    {
     "data": {
      "text/plain": [
       "dtype('int64')"
      ]
     },
     "metadata": {},
     "output_type": "display_data"
    },
    {
     "data": {
      "text/plain": [
       "count    1460.000000\n",
       "mean        2.810274\n",
       "std         0.722898\n",
       "min         0.000000\n",
       "25%         3.000000\n",
       "50%         3.000000\n",
       "75%         3.000000\n",
       "max         5.000000\n",
       "Name: GarageQual, dtype: float64"
      ]
     },
     "metadata": {},
     "output_type": "display_data"
    },
    {
     "data": {
      "text/plain": [
       "dtype('int64')"
      ]
     },
     "metadata": {},
     "output_type": "display_data"
    },
    {
     "data": {
      "text/plain": [
       "dtype('int64')"
      ]
     },
     "metadata": {},
     "output_type": "display_data"
    },
    {
     "data": {
      "text/plain": [
       "count    1460.000000\n",
       "mean        2.808904\n",
       "std         0.719685\n",
       "min         0.000000\n",
       "25%         3.000000\n",
       "50%         3.000000\n",
       "75%         3.000000\n",
       "max         5.000000\n",
       "Name: GarageCond, dtype: float64"
      ]
     },
     "metadata": {},
     "output_type": "display_data"
    },
    {
     "data": {
      "text/plain": [
       "dtype('int64')"
      ]
     },
     "metadata": {},
     "output_type": "display_data"
    },
    {
     "data": {
      "text/plain": [
       "dtype('int64')"
      ]
     },
     "metadata": {},
     "output_type": "display_data"
    },
    {
     "data": {
      "text/plain": [
       "count    1460.000000\n",
       "mean        3.545890\n",
       "std         2.107776\n",
       "min         0.000000\n",
       "25%         1.000000\n",
       "50%         4.000000\n",
       "75%         6.000000\n",
       "max         6.000000\n",
       "Name: BsmtFinType1, dtype: float64"
      ]
     },
     "metadata": {},
     "output_type": "display_data"
    },
    {
     "data": {
      "text/plain": [
       "dtype('int64')"
      ]
     },
     "metadata": {},
     "output_type": "display_data"
    },
    {
     "data": {
      "text/plain": [
       "dtype('int64')"
      ]
     },
     "metadata": {},
     "output_type": "display_data"
    },
    {
     "data": {
      "text/plain": [
       "count    1460.000000\n",
       "mean        1.251370\n",
       "std         0.900364\n",
       "min         0.000000\n",
       "25%         1.000000\n",
       "50%         1.000000\n",
       "75%         1.000000\n",
       "max         6.000000\n",
       "Name: BsmtFinType2, dtype: float64"
      ]
     },
     "metadata": {},
     "output_type": "display_data"
    },
    {
     "data": {
      "text/plain": [
       "dtype('int64')"
      ]
     },
     "metadata": {},
     "output_type": "display_data"
    },
    {
     "data": {
      "text/plain": [
       "dtype('int64')"
      ]
     },
     "metadata": {},
     "output_type": "display_data"
    }
   ],
   "source": [
    "def map_values_encode(feature, values_map):\n",
    "    encoded_train_data[feature] = encoded_train_data[feature].map(values_map)\n",
    "    encoded_test_data[feature] = encoded_test_data[feature].map(values_map)\n",
    "    \n",
    "    encoded_train_data[feature] = encoded_train_data[feature].astype('float64').round(0).astype('int64')\n",
    "    encoded_test_data[feature] = encoded_test_data[feature].astype('float64').round(0).astype('int64')\n",
    "    display(encoded_train_data[feature].describe())\n",
    "    display(encoded_train_data[feature].dtype)\n",
    "    display(encoded_test_data[feature].dtype)\n",
    "\n",
    "# ordinal (map-values, to grade):\n",
    "#     LotShape, LandSlope, Utilities*, ExterQual, ExterCond, BsmtQual*, BsmtCond*, BsmtExposure*,\n",
    "#     HeatingQC, CentralAir, KitchenQual*, Functional*, FireplaceQu*, GarageFinish*, GarageQual*, GarageCond*,\n",
    "#     BsmtFinType1*, BsmtFinType2*\n",
    "\n",
    "general_qual_mapping = { 'Ex': 5, 'Gd': 4, 'TA': 3, 'Fa': 2, 'Po': 1 }\n",
    "bsmt_qual_mapping = { 'Ex': 5, 'Gd': 4, 'TA': 3, 'Fa': 2, 'Po': 1, 'NoBasement': 0 }\n",
    "fireplace_qual_mapping = { 'Ex': 5, 'Gd': 4, 'TA': 3, 'Fa': 2, 'Po': 1, 'NoFireplace': 0 }\n",
    "garage_qual_mapping = { 'Ex': 5, 'Gd': 4, 'TA': 3, 'Fa': 2, 'Po': 1, 'NoGarage': 0 }\n",
    "bsmt_finish_type_mapping = { 'GLQ': 6, 'ALQ': 5, 'BLQ': 4, 'Rec': 3, 'LwQ': 2, 'Unf': 1, 'NoBasement': 0 }\n",
    "\n",
    "map_values_encode('LotShape', { 'Reg': 4, 'IR1': 3, 'IR2': 2, 'IR3': 1 })\n",
    "map_values_encode('LandSlope', { 'Gtl': 3, 'Mod': 2, 'Sev': 1 })\n",
    "map_values_encode('Utilities', { 'AllPub': 4, 'NoSewr': 3, 'NoSeWa': 2, 'ELO': 1 })\n",
    "map_values_encode('ExterQual', general_qual_mapping)\n",
    "map_values_encode('ExterCond', general_qual_mapping)\n",
    "map_values_encode('BsmtQual', bsmt_qual_mapping)\n",
    "map_values_encode('BsmtCond', bsmt_qual_mapping)\n",
    "map_values_encode('BsmtExposure', { 'Gd': 4, 'Av': 3, 'Mn': 2, 'No': 1, 'NoBasement': 0, 'Unknown': 3 })\n",
    "map_values_encode('HeatingQC', general_qual_mapping)\n",
    "map_values_encode('CentralAir', { 'N': 0, 'Y': 1 })\n",
    "map_values_encode('KitchenQual', general_qual_mapping)\n",
    "map_values_encode('Functional', { 'Typ': 8, 'Min1': 7, 'Min2': 6, 'Mod': 5, 'Maj1': 4, 'Maj2': 3, 'Sev': 2, 'Sal': 1  })\n",
    "map_values_encode('FireplaceQu', fireplace_qual_mapping)\n",
    "map_values_encode('GarageFinish', { 'Fin': 3, 'RFn': 2, 'Unf': 1, 'NoGarage': 0 })\n",
    "map_values_encode('GarageQual', garage_qual_mapping)\n",
    "map_values_encode('GarageCond', garage_qual_mapping)\n",
    "map_values_encode('BsmtFinType1', bsmt_finish_type_mapping)\n",
    "map_values_encode('BsmtFinType2', bsmt_finish_type_mapping)"
   ]
  },
  {
   "cell_type": "code",
   "execution_count": 47,
   "metadata": {},
   "outputs": [
    {
     "name": "stdout",
     "output_type": "stream",
     "text": [
      "('Dataset dtypes:', array([dtype('int64'), dtype('O')], dtype=object))\n",
      "\n",
      "('object columns:', ['MSSubClass', 'MSZoning', 'Street', 'LandContour', 'LotConfig', 'Condition1', 'Condition2', 'BldgType', 'HouseStyle', 'RoofStyle', 'RoofMatl', 'Exterior1st', 'Exterior2nd', 'MasVnrType', 'Foundation', 'Heating', 'Electrical', 'PavedDrive', 'MoSold'], 19)\n",
      "\n",
      "('int64 columns:', ['Id', 'LotFrontage', 'LotArea', 'LotShape', 'Utilities', 'LandSlope', 'OverallQual', 'OverallCond', 'YearBuilt', 'YearRemodAdd', 'MasVnrArea', 'ExterQual', 'ExterCond', 'BsmtQual', 'BsmtCond', 'BsmtExposure', 'BsmtFinType1', 'BsmtFinSF1', 'BsmtFinType2', 'BsmtFinSF2', 'BsmtUnfSF', 'TotalBsmtSF', 'HeatingQC', 'CentralAir', '1stFlrSF', '2ndFlrSF', 'LowQualFinSF', 'GrLivArea', 'BsmtFullBath', 'BsmtHalfBath', 'FullBath', 'HalfBath', 'BedroomAbvGr', 'KitchenAbvGr', 'KitchenQual', 'TotRmsAbvGrd', 'Functional', 'Fireplaces', 'FireplaceQu', 'GarageYrBlt', 'GarageFinish', 'GarageCars', 'GarageArea', 'GarageQual', 'GarageCond', 'WoodDeckSF', 'OpenPorchSF', 'EnclosedPorch', '3SsnPorch', 'ScreenPorch', 'PoolArea', 'MiscVal', 'YrSold', 'SalePrice', 'LotDepth', 'NeighborhoodMeanPrice', 'GarageTypeMeanPrice'], 57)\n"
     ]
    }
   ],
   "source": [
    "dtypes = np.unique(encoded_train_data.dtypes)\n",
    "\n",
    "print('Dataset dtypes:', dtypes)\n",
    "print('')\n",
    "\n",
    "def encoded_columns_of_type(dtype):\n",
    "    columns = []\n",
    "    for column in encoded_train_data.columns:\n",
    "        if (encoded_train_data[column].dtype == dtype):\n",
    "            columns.append(column)\n",
    "    return columns\n",
    "\n",
    "# nominal (one-hot-encode, to binary):\n",
    "#     MSSubClass, MSZoning, LandContour, Street, LotConfig, BldgType, HouseStyle, RoofStyle, RoofMatl, MoSold,\n",
    "#     MasVnrType, Foundation, Heating, Electrical, PavedDrive, Condition1, Condition2, Exterior1st, Exterior2nd\n",
    "print('object columns:', encoded_columns_of_type('O'), len(encoded_columns_of_type('O')))\n",
    "print('')\n",
    "\n",
    "# space:\n",
    "#     LotArea, BsmtFinSF1, BsmtFinSF2, BsmtUnfSF, TotalBsmtSF, 1stFlrSF, 2ndFlrSF, \n",
    "#     GrLivArea, GarageArea, WoodDeckSF, OpenPorchSF, EnclosedPorch, 3SsnPorch, ScreenPorch, PoolArea,\n",
    "#     BedroomAbvGr, KitchenAbvGr, LotFrontage (*), LotDepth (*), MasVnrArea, \n",
    "#\n",
    "# quantity:\n",
    "#     BsmtFullBath, BsmtHalfBath, FullBath, HalfBath, TotRmsAbvGrd, Fireplaces, GarageCars\n",
    "#\n",
    "# grade:\n",
    "#     LotShape, LandSlope, Utilities, ExterQual, ExterCond, BsmtQual, BsmtCond, BsmtExposure,\n",
    "#     HeatingQC, CentralAir, KitchenQual, Functional, FireplaceQu, GarageFinish, GarageQual, GarageCond\n",
    "#     BsmtFinType1, BsmtFinType2, OverallQual, OverallCond, \n",
    "#\n",
    "# time:\n",
    "#     YearBuilt, YearRemodAdd, MoSold, YrSold, GarageYrBlt,\n",
    "#     Neighborhood, GarageType\n",
    "#\n",
    "# currency:\n",
    "#     MiscVal, NeighborhoodMeanPrice, GarageTypeMeanPrice\n",
    "print('int64 columns:', encoded_columns_of_type('int64'), len(encoded_columns_of_type('int64')))"
   ]
  },
  {
   "cell_type": "code",
   "execution_count": 48,
   "metadata": {},
   "outputs": [
    {
     "name": "stdout",
     "output_type": "stream",
     "text": [
      "Before one hot encoding shapes:\n"
     ]
    },
    {
     "data": {
      "text/plain": [
       "(1460, 76)"
      ]
     },
     "metadata": {},
     "output_type": "display_data"
    },
    {
     "data": {
      "text/plain": [
       "(1459, 75)"
      ]
     },
     "metadata": {},
     "output_type": "display_data"
    },
    {
     "name": "stdout",
     "output_type": "stream",
     "text": [
      "After one hot encoding shapes:\n"
     ]
    },
    {
     "data": {
      "text/plain": [
       "(1460, 199)"
      ]
     },
     "metadata": {},
     "output_type": "display_data"
    },
    {
     "data": {
      "text/plain": [
       "(1459, 187)"
      ]
     },
     "metadata": {},
     "output_type": "display_data"
    },
    {
     "name": "stdout",
     "output_type": "stream",
     "text": [
      "After one hot encoding alignment shapes:\n"
     ]
    },
    {
     "data": {
      "text/plain": [
       "(1460, 201)"
      ]
     },
     "metadata": {},
     "output_type": "display_data"
    },
    {
     "data": {
      "text/plain": [
       "(1459, 201)"
      ]
     },
     "metadata": {},
     "output_type": "display_data"
    }
   ],
   "source": [
    "def make_dummies(df, feature):\n",
    "    # display(df.shape)\n",
    "    \n",
    "    # https://stackoverflow.com/a/23209028/1064325\n",
    "    result_df = pd.concat([df.drop(feature, axis=1), pd.get_dummies(df[feature], prefix=feature)], axis=1)\n",
    "    \n",
    "    # display(result_df.shape)\n",
    "    \n",
    "    return result_df\n",
    "\n",
    "# nominal (one-hot-encode, to binary):\n",
    "#     MSSubClass, MSZoning, LandContour, Street, LotConfig, BldgType, HouseStyle, RoofStyle, RoofMatl,\n",
    "#     MasVnrType, Foundation, Heating, Electrical, PavedDrive, Condition1, Condition2, Exterior1st, Exterior2nd\n",
    "\n",
    "print('Before one hot encoding shapes:')\n",
    "display(encoded_train_data.shape)\n",
    "display(encoded_test_data.shape)\n",
    "\n",
    "encoded_train_data_with_dummies = encoded_train_data.copy()\n",
    "encoded_test_data_with_dummies = encoded_test_data.copy()\n",
    "\n",
    "encoded_train_data_with_dummies = make_dummies(encoded_train_data_with_dummies, 'MSSubClass')\n",
    "encoded_test_data_with_dummies = make_dummies(encoded_test_data_with_dummies, 'MSSubClass')\n",
    "encoded_train_data_with_dummies = make_dummies(encoded_train_data_with_dummies, 'MSZoning')\n",
    "encoded_test_data_with_dummies = make_dummies(encoded_test_data_with_dummies, 'MSZoning')\n",
    "encoded_train_data_with_dummies = make_dummies(encoded_train_data_with_dummies, 'LandContour')\n",
    "encoded_test_data_with_dummies = make_dummies(encoded_test_data_with_dummies, 'LandContour')\n",
    "encoded_train_data_with_dummies = make_dummies(encoded_train_data_with_dummies, 'Street')\n",
    "encoded_test_data_with_dummies = make_dummies(encoded_test_data_with_dummies, 'Street')\n",
    "encoded_train_data_with_dummies = make_dummies(encoded_train_data_with_dummies, 'LotConfig')\n",
    "encoded_test_data_with_dummies = make_dummies(encoded_test_data_with_dummies, 'LotConfig')\n",
    "encoded_train_data_with_dummies = make_dummies(encoded_train_data_with_dummies, 'BldgType')\n",
    "encoded_test_data_with_dummies = make_dummies(encoded_test_data_with_dummies, 'BldgType')\n",
    "encoded_train_data_with_dummies = make_dummies(encoded_train_data_with_dummies, 'HouseStyle')\n",
    "encoded_test_data_with_dummies = make_dummies(encoded_test_data_with_dummies, 'HouseStyle')\n",
    "encoded_train_data_with_dummies = make_dummies(encoded_train_data_with_dummies, 'RoofStyle')\n",
    "encoded_test_data_with_dummies = make_dummies(encoded_test_data_with_dummies, 'RoofStyle')\n",
    "encoded_train_data_with_dummies = make_dummies(encoded_train_data_with_dummies, 'RoofMatl')\n",
    "encoded_test_data_with_dummies = make_dummies(encoded_test_data_with_dummies, 'RoofMatl')\n",
    "encoded_train_data_with_dummies = make_dummies(encoded_train_data_with_dummies, 'MoSold')\n",
    "encoded_test_data_with_dummies = make_dummies(encoded_test_data_with_dummies, 'MoSold')\n",
    "encoded_train_data_with_dummies = make_dummies(encoded_train_data_with_dummies, 'MasVnrType')\n",
    "encoded_test_data_with_dummies = make_dummies(encoded_test_data_with_dummies, 'MasVnrType')\n",
    "encoded_train_data_with_dummies = make_dummies(encoded_train_data_with_dummies, 'Foundation')\n",
    "encoded_test_data_with_dummies = make_dummies(encoded_test_data_with_dummies, 'Foundation')\n",
    "encoded_train_data_with_dummies = make_dummies(encoded_train_data_with_dummies, 'Heating')\n",
    "encoded_test_data_with_dummies = make_dummies(encoded_test_data_with_dummies, 'Heating')\n",
    "encoded_train_data_with_dummies = make_dummies(encoded_train_data_with_dummies, 'Electrical')\n",
    "encoded_test_data_with_dummies = make_dummies(encoded_test_data_with_dummies, 'Electrical')\n",
    "encoded_train_data_with_dummies = make_dummies(encoded_train_data_with_dummies, 'PavedDrive')\n",
    "encoded_test_data_with_dummies = make_dummies(encoded_test_data_with_dummies, 'PavedDrive')\n",
    "encoded_train_data_with_dummies = make_dummies(encoded_train_data_with_dummies, 'Condition1')\n",
    "encoded_test_data_with_dummies = make_dummies(encoded_test_data_with_dummies, 'Condition1')\n",
    "encoded_train_data_with_dummies = make_dummies(encoded_train_data_with_dummies, 'Condition2')\n",
    "encoded_test_data_with_dummies = make_dummies(encoded_test_data_with_dummies, 'Condition2')\n",
    "encoded_train_data_with_dummies = make_dummies(encoded_train_data_with_dummies, 'Exterior1st')\n",
    "encoded_test_data_with_dummies = make_dummies(encoded_test_data_with_dummies, 'Exterior1st')\n",
    "encoded_train_data_with_dummies = make_dummies(encoded_train_data_with_dummies, 'Exterior2nd')\n",
    "encoded_test_data_with_dummies = make_dummies(encoded_test_data_with_dummies, 'Exterior2nd')\n",
    "\n",
    "print('After one hot encoding shapes:')\n",
    "display(encoded_train_data_with_dummies.shape)\n",
    "display(encoded_test_data_with_dummies.shape)\n",
    "\n",
    "# https://stackoverflow.com/a/47240395/1064325\n",
    "aligned_encoded_train_data, aligned_encoded_test_data = encoded_train_data_with_dummies.align(encoded_test_data_with_dummies, join='outer', axis=1, fill_value=0)\n",
    "\n",
    "print('After one hot encoding alignment shapes:')\n",
    "display(aligned_encoded_train_data.shape)\n",
    "display(aligned_encoded_test_data.shape)"
   ]
  },
  {
   "cell_type": "code",
   "execution_count": 49,
   "metadata": {},
   "outputs": [],
   "source": [
    "# space:\n",
    "#     LotArea, BsmtFinSF1, BsmtFinSF2, BsmtUnfSF, TotalBsmtSF, 1stFlrSF, 2ndFlrSF, \n",
    "#     GrLivArea, GarageArea, WoodDeckSF, OpenPorchSF, EnclosedPorch, 3SsnPorch, ScreenPorch, PoolArea,\n",
    "#     BedroomAbvGr, KitchenAbvGr, LotFrontage (*), LotDepth (*), MasVnrArea, \n",
    "#\n",
    "# quantity:\n",
    "#     BsmtFullBath, BsmtHalfBath, FullBath, HalfBath, TotRmsAbvGrd, Fireplaces, GarageCars\n",
    "#\n",
    "# grade:\n",
    "#     LotShape, LandSlope, Utilities, ExterQual, ExterCond, BsmtQual, BsmtCond, BsmtExposure,\n",
    "#     HeatingQC, CentralAir, KitchenQual, Functional, FireplaceQu, GarageFinish, GarageQual, GarageCond\n",
    "#     BsmtFinType1, BsmtFinType2, OverallQual, OverallCond, \n",
    "#\n",
    "# time:\n",
    "#     YearBuilt, YearRemodAdd, YrSold, GarageYrBlt,\n",
    "#\n",
    "# currency:\n",
    "#     MiscVal, NeighborhoodMeanPrice, GarageTypeMeanPrice\n",
    "#\n",
    "# one-hot-encoded-binary:\n",
    "#     MSSubClass, MSZoning, LandContour, Street, LotConfig, BldgType, HouseStyle, RoofStyle, RoofMatl, MoSold,\n",
    "#     MasVnrType, Foundation, Heating, Electrical, PavedDrive, Condition1, Condition2, Exterior1st, Exterior2nd\n",
    "aligned_encoded_train_data.to_csv('data/aligned_encoded_train_data.csv', index=False)\n",
    "aligned_encoded_test_data.to_csv('data/aligned_encoded_test_data.csv', index=False)"
   ]
  },
  {
   "cell_type": "markdown",
   "metadata": {},
   "source": [
    "## Naive Predictor"
   ]
  },
  {
   "cell_type": "markdown",
   "metadata": {},
   "source": [
    "### Simple Linear Regressor"
   ]
  },
  {
   "cell_type": "code",
   "execution_count": 50,
   "metadata": {},
   "outputs": [
    {
     "name": "stdout",
     "output_type": "stream",
     "text": [
      "('Current fold train performance', 0.021096579124436205)\n",
      "('Current fold test performance', 1.7490469365348165)\n",
      "('Current fold train performance', 0.01623755040315139)\n",
      "('Current fold test performance', 2.2720870147040046)\n",
      "('Current fold train performance', 0.019433652732058795)\n",
      "('Current fold test performance', 3.284229140198302)\n"
     ]
    }
   ],
   "source": [
    "from sklearn.linear_model import LinearRegression\n",
    "from sklearn.metrics import mean_squared_log_error\n",
    "from sklearn.model_selection import KFold\n",
    "\n",
    "naive_train_X = aligned_encoded_train_data.drop(columns=['Id', 'SalePrice'])\n",
    "naive_train_y = aligned_encoded_train_data['SalePrice']\n",
    "\n",
    "linear_regression = LinearRegression(n_jobs=-1)\n",
    "\n",
    "kf = KFold(n_splits=3, random_state=42, shuffle=False)\n",
    "\n",
    "for kf_chunks in kf.split(naive_train_X):\n",
    "    train_index = kf_chunks[0]\n",
    "    test_index = kf_chunks[1]\n",
    "    \n",
    "    X_train = naive_train_X.iloc[train_index]\n",
    "    X_test = naive_train_X.iloc[test_index]\n",
    "    y_train = naive_train_y.iloc[train_index]\n",
    "    y_test = naive_train_y.iloc[test_index]\n",
    "    \n",
    "    naive_predictor = linear_regression.fit(X_train, y_train)\n",
    "    y_train_predicted = naive_predictor.predict(X_train)\n",
    "    y_test_predicted = naive_predictor.predict(X_test)\n",
    "    \n",
    "    y_train_predicted[y_train_predicted < 0] = 0\n",
    "    y_test_predicted[y_test_predicted < 0] = 0\n",
    "    \n",
    "    print('Current fold train performance', mean_squared_log_error(y_train, y_train_predicted))\n",
    "    print('Current fold test performance', mean_squared_log_error(y_test, y_test_predicted))"
   ]
  },
  {
   "cell_type": "markdown",
   "metadata": {},
   "source": [
    "### Simple Math Predictor"
   ]
  },
  {
   "cell_type": "code",
   "execution_count": 51,
   "metadata": {},
   "outputs": [
    {
     "name": "stdout",
     "output_type": "stream",
     "text": [
      "('Current fold train performance', 0.26292655658068403)\n",
      "('Current fold test performance', 0.27653851853162836)\n",
      "('Current fold train performance', 0.2706022964883401)\n",
      "('Current fold test performance', 0.2591129273141461)\n",
      "('Current fold train performance', 0.2666323679786067)\n",
      "('Current fold test performance', 0.26673787146754163)\n"
     ]
    }
   ],
   "source": [
    "from sklearn.metrics import mean_squared_log_error\n",
    "from sklearn.model_selection import KFold\n",
    "\n",
    "naive_train_X = aligned_encoded_train_data.drop(columns=['Id', 'SalePrice'])\n",
    "naive_train_y = aligned_encoded_train_data['SalePrice']\n",
    "\n",
    "mean_sale_price_per_lot_area = naive_train_y.mean() / naive_train_X['LotArea'].mean()\n",
    "\n",
    "def naive_fit(X, y):\n",
    "    mean_sale_price_per_lot_area = y.mean() / X['LotArea'].mean()\n",
    "    return mean_sale_price_per_lot_area\n",
    "\n",
    "def naive_predict(X, mean_sale_price_per_lot_area):\n",
    "    return X['LotArea'] * mean_sale_price_per_lot_area\n",
    "\n",
    "kf = KFold(n_splits=3, random_state=42, shuffle=False)\n",
    "\n",
    "for kf_chunks in kf.split(naive_train_X):\n",
    "    train_index = kf_chunks[0]\n",
    "    test_index = kf_chunks[1]\n",
    "    \n",
    "    X_train = naive_train_X.iloc[train_index]\n",
    "    X_test = naive_train_X.iloc[test_index]\n",
    "    y_train = naive_train_y.iloc[train_index]\n",
    "    y_test = naive_train_y.iloc[test_index]\n",
    "    \n",
    "    y_train_fit_coef = naive_fit(X_train, y_train)\n",
    "    y_test_fit_coef = naive_fit(X_test, y_test)\n",
    "\n",
    "    y_train_predicted = naive_predict(X_train, y_train_fit_coef)\n",
    "    y_test_predicted = naive_predict(X_test, y_test_fit_coef)\n",
    "    \n",
    "    y_train_predicted[y_train_predicted < 0] = 0\n",
    "    y_test_predicted[y_test_predicted < 0] = 0\n",
    "    \n",
    "    print('Current fold train performance', mean_squared_log_error(y_train, y_train_predicted))\n",
    "    print('Current fold test performance', mean_squared_log_error(y_test, y_test_predicted))"
   ]
  }
 ],
 "metadata": {
  "kernelspec": {
   "display_name": "Python 2",
   "language": "python",
   "name": "python2"
  },
  "language_info": {
   "codemirror_mode": {
    "name": "ipython",
    "version": 2
   },
   "file_extension": ".py",
   "mimetype": "text/x-python",
   "name": "python",
   "nbconvert_exporter": "python",
   "pygments_lexer": "ipython2",
   "version": "2.7.15"
  }
 },
 "nbformat": 4,
 "nbformat_minor": 2
}
