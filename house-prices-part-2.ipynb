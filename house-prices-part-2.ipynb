{
 "cells": [
  {
   "cell_type": "markdown",
   "metadata": {},
   "source": [
    "## Refetching transformed data"
   ]
  },
  {
   "cell_type": "code",
   "execution_count": 1,
   "metadata": {
    "scrolled": true
   },
   "outputs": [
    {
     "data": {
      "text/html": [
       "<div>\n",
       "<style scoped>\n",
       "    .dataframe tbody tr th:only-of-type {\n",
       "        vertical-align: middle;\n",
       "    }\n",
       "\n",
       "    .dataframe tbody tr th {\n",
       "        vertical-align: top;\n",
       "    }\n",
       "\n",
       "    .dataframe thead th {\n",
       "        text-align: right;\n",
       "    }\n",
       "</style>\n",
       "<table border=\"1\" class=\"dataframe\">\n",
       "  <thead>\n",
       "    <tr style=\"text-align: right;\">\n",
       "      <th></th>\n",
       "      <th>1stFlrSF</th>\n",
       "      <th>2ndFlrSF</th>\n",
       "      <th>3SsnPorch</th>\n",
       "      <th>BedroomAbvGr</th>\n",
       "      <th>BldgType_1Fam</th>\n",
       "      <th>BldgType_2fmCon</th>\n",
       "      <th>BldgType_Duplex</th>\n",
       "      <th>BldgType_Twnhs</th>\n",
       "      <th>BldgType_TwnhsE</th>\n",
       "      <th>BsmtCond</th>\n",
       "      <th>...</th>\n",
       "      <th>ScreenPorch</th>\n",
       "      <th>Street_Grvl</th>\n",
       "      <th>Street_Pave</th>\n",
       "      <th>TotRmsAbvGrd</th>\n",
       "      <th>TotalBsmtSF</th>\n",
       "      <th>Utilities</th>\n",
       "      <th>WoodDeckSF</th>\n",
       "      <th>YearBuilt</th>\n",
       "      <th>YearRemodAdd</th>\n",
       "      <th>YrSold</th>\n",
       "    </tr>\n",
       "  </thead>\n",
       "  <tbody>\n",
       "    <tr>\n",
       "      <th>0</th>\n",
       "      <td>856</td>\n",
       "      <td>854</td>\n",
       "      <td>0</td>\n",
       "      <td>3</td>\n",
       "      <td>1</td>\n",
       "      <td>0</td>\n",
       "      <td>0</td>\n",
       "      <td>0</td>\n",
       "      <td>0</td>\n",
       "      <td>3</td>\n",
       "      <td>...</td>\n",
       "      <td>0</td>\n",
       "      <td>0</td>\n",
       "      <td>1</td>\n",
       "      <td>8</td>\n",
       "      <td>856</td>\n",
       "      <td>4</td>\n",
       "      <td>0</td>\n",
       "      <td>2003</td>\n",
       "      <td>2003</td>\n",
       "      <td>2008</td>\n",
       "    </tr>\n",
       "    <tr>\n",
       "      <th>1</th>\n",
       "      <td>1262</td>\n",
       "      <td>0</td>\n",
       "      <td>0</td>\n",
       "      <td>3</td>\n",
       "      <td>1</td>\n",
       "      <td>0</td>\n",
       "      <td>0</td>\n",
       "      <td>0</td>\n",
       "      <td>0</td>\n",
       "      <td>3</td>\n",
       "      <td>...</td>\n",
       "      <td>0</td>\n",
       "      <td>0</td>\n",
       "      <td>1</td>\n",
       "      <td>6</td>\n",
       "      <td>1262</td>\n",
       "      <td>4</td>\n",
       "      <td>298</td>\n",
       "      <td>1976</td>\n",
       "      <td>1976</td>\n",
       "      <td>2007</td>\n",
       "    </tr>\n",
       "    <tr>\n",
       "      <th>2</th>\n",
       "      <td>920</td>\n",
       "      <td>866</td>\n",
       "      <td>0</td>\n",
       "      <td>3</td>\n",
       "      <td>1</td>\n",
       "      <td>0</td>\n",
       "      <td>0</td>\n",
       "      <td>0</td>\n",
       "      <td>0</td>\n",
       "      <td>3</td>\n",
       "      <td>...</td>\n",
       "      <td>0</td>\n",
       "      <td>0</td>\n",
       "      <td>1</td>\n",
       "      <td>6</td>\n",
       "      <td>920</td>\n",
       "      <td>4</td>\n",
       "      <td>0</td>\n",
       "      <td>2001</td>\n",
       "      <td>2002</td>\n",
       "      <td>2008</td>\n",
       "    </tr>\n",
       "    <tr>\n",
       "      <th>3</th>\n",
       "      <td>961</td>\n",
       "      <td>756</td>\n",
       "      <td>0</td>\n",
       "      <td>3</td>\n",
       "      <td>1</td>\n",
       "      <td>0</td>\n",
       "      <td>0</td>\n",
       "      <td>0</td>\n",
       "      <td>0</td>\n",
       "      <td>4</td>\n",
       "      <td>...</td>\n",
       "      <td>0</td>\n",
       "      <td>0</td>\n",
       "      <td>1</td>\n",
       "      <td>7</td>\n",
       "      <td>756</td>\n",
       "      <td>4</td>\n",
       "      <td>0</td>\n",
       "      <td>1915</td>\n",
       "      <td>1970</td>\n",
       "      <td>2006</td>\n",
       "    </tr>\n",
       "    <tr>\n",
       "      <th>4</th>\n",
       "      <td>1145</td>\n",
       "      <td>1053</td>\n",
       "      <td>0</td>\n",
       "      <td>4</td>\n",
       "      <td>1</td>\n",
       "      <td>0</td>\n",
       "      <td>0</td>\n",
       "      <td>0</td>\n",
       "      <td>0</td>\n",
       "      <td>3</td>\n",
       "      <td>...</td>\n",
       "      <td>0</td>\n",
       "      <td>0</td>\n",
       "      <td>1</td>\n",
       "      <td>9</td>\n",
       "      <td>1145</td>\n",
       "      <td>4</td>\n",
       "      <td>192</td>\n",
       "      <td>2000</td>\n",
       "      <td>2000</td>\n",
       "      <td>2008</td>\n",
       "    </tr>\n",
       "  </tbody>\n",
       "</table>\n",
       "<p>5 rows × 201 columns</p>\n",
       "</div>"
      ],
      "text/plain": [
       "   1stFlrSF  2ndFlrSF  3SsnPorch  BedroomAbvGr  BldgType_1Fam  \\\n",
       "0       856       854          0             3              1   \n",
       "1      1262         0          0             3              1   \n",
       "2       920       866          0             3              1   \n",
       "3       961       756          0             3              1   \n",
       "4      1145      1053          0             4              1   \n",
       "\n",
       "   BldgType_2fmCon  BldgType_Duplex  BldgType_Twnhs  BldgType_TwnhsE  \\\n",
       "0                0                0               0                0   \n",
       "1                0                0               0                0   \n",
       "2                0                0               0                0   \n",
       "3                0                0               0                0   \n",
       "4                0                0               0                0   \n",
       "\n",
       "   BsmtCond   ...    ScreenPorch  Street_Grvl  Street_Pave  TotRmsAbvGrd  \\\n",
       "0         3   ...              0            0            1             8   \n",
       "1         3   ...              0            0            1             6   \n",
       "2         3   ...              0            0            1             6   \n",
       "3         4   ...              0            0            1             7   \n",
       "4         3   ...              0            0            1             9   \n",
       "\n",
       "   TotalBsmtSF  Utilities  WoodDeckSF  YearBuilt  YearRemodAdd  YrSold  \n",
       "0          856          4           0       2003          2003    2008  \n",
       "1         1262          4         298       1976          1976    2007  \n",
       "2          920          4           0       2001          2002    2008  \n",
       "3          756          4           0       1915          1970    2006  \n",
       "4         1145          4         192       2000          2000    2008  \n",
       "\n",
       "[5 rows x 201 columns]"
      ]
     },
     "execution_count": 1,
     "metadata": {},
     "output_type": "execute_result"
    }
   ],
   "source": [
    "import pandas as pd\n",
    "\n",
    "train_data = pd.read_csv('./data/aligned_encoded_train_data.csv')\n",
    "test_data = pd.read_csv('./data/aligned_encoded_test_data.csv')\n",
    "\n",
    "test_data.drop(columns=['SalePrice'], inplace=True)\n",
    "\n",
    "train_data.head()"
   ]
  },
  {
   "cell_type": "markdown",
   "metadata": {},
   "source": [
    "## Removing outliers"
   ]
  },
  {
   "cell_type": "code",
   "execution_count": 2,
   "metadata": {},
   "outputs": [
    {
     "name": "stdout",
     "output_type": "stream",
     "text": [
      "Data points considered outliers for the feature 'SalePrice':\n"
     ]
    },
    {
     "data": {
      "text/plain": [
       "'SalePrice'"
      ]
     },
     "metadata": {},
     "output_type": "display_data"
    },
    {
     "data": {
      "text/plain": [
       "(61, 201)"
      ]
     },
     "metadata": {},
     "output_type": "display_data"
    },
    {
     "name": "stdout",
     "output_type": "stream",
     "text": [
      "Data points considered outliers for the feature 'MiscVal':\n"
     ]
    },
    {
     "data": {
      "text/plain": [
       "'MiscVal'"
      ]
     },
     "metadata": {},
     "output_type": "display_data"
    },
    {
     "data": {
      "text/plain": [
       "(52, 201)"
      ]
     },
     "metadata": {},
     "output_type": "display_data"
    },
    {
     "name": "stdout",
     "output_type": "stream",
     "text": [
      "Data points considered outliers for the feature 'NeighborhoodMeanPrice':\n"
     ]
    },
    {
     "data": {
      "text/plain": [
       "'NeighborhoodMeanPrice'"
      ]
     },
     "metadata": {},
     "output_type": "display_data"
    },
    {
     "data": {
      "text/plain": [
       "(143, 201)"
      ]
     },
     "metadata": {},
     "output_type": "display_data"
    },
    {
     "name": "stdout",
     "output_type": "stream",
     "text": [
      "Data points considered outliers for the feature 'GarageTypeMeanPrice':\n"
     ]
    },
    {
     "data": {
      "text/plain": [
       "'GarageTypeMeanPrice'"
      ]
     },
     "metadata": {},
     "output_type": "display_data"
    },
    {
     "data": {
      "text/plain": [
       "(0, 201)"
      ]
     },
     "metadata": {},
     "output_type": "display_data"
    },
    {
     "name": "stdout",
     "output_type": "stream",
     "text": [
      "Data points considered outliers for the feature 'LotArea':\n"
     ]
    },
    {
     "data": {
      "text/plain": [
       "'LotArea'"
      ]
     },
     "metadata": {},
     "output_type": "display_data"
    },
    {
     "data": {
      "text/plain": [
       "(69, 201)"
      ]
     },
     "metadata": {},
     "output_type": "display_data"
    },
    {
     "name": "stdout",
     "output_type": "stream",
     "text": [
      "Data points considered outliers for the feature 'BsmtFinSF1':\n"
     ]
    },
    {
     "data": {
      "text/plain": [
       "'BsmtFinSF1'"
      ]
     },
     "metadata": {},
     "output_type": "display_data"
    },
    {
     "data": {
      "text/plain": [
       "(7, 201)"
      ]
     },
     "metadata": {},
     "output_type": "display_data"
    },
    {
     "name": "stdout",
     "output_type": "stream",
     "text": [
      "Data points considered outliers for the feature 'BsmtFinSF2':\n"
     ]
    },
    {
     "data": {
      "text/plain": [
       "'BsmtFinSF2'"
      ]
     },
     "metadata": {},
     "output_type": "display_data"
    },
    {
     "data": {
      "text/plain": [
       "(167, 201)"
      ]
     },
     "metadata": {},
     "output_type": "display_data"
    },
    {
     "name": "stdout",
     "output_type": "stream",
     "text": [
      "Data points considered outliers for the feature 'BsmtUnfSF':\n"
     ]
    },
    {
     "data": {
      "text/plain": [
       "'BsmtUnfSF'"
      ]
     },
     "metadata": {},
     "output_type": "display_data"
    },
    {
     "data": {
      "text/plain": [
       "(29, 201)"
      ]
     },
     "metadata": {},
     "output_type": "display_data"
    },
    {
     "name": "stdout",
     "output_type": "stream",
     "text": [
      "Data points considered outliers for the feature 'TotalBsmtSF':\n"
     ]
    },
    {
     "data": {
      "text/plain": [
       "'TotalBsmtSF'"
      ]
     },
     "metadata": {},
     "output_type": "display_data"
    },
    {
     "data": {
      "text/plain": [
       "(61, 201)"
      ]
     },
     "metadata": {},
     "output_type": "display_data"
    },
    {
     "name": "stdout",
     "output_type": "stream",
     "text": [
      "Data points considered outliers for the feature '1stFlrSF':\n"
     ]
    },
    {
     "data": {
      "text/plain": [
       "'1stFlrSF'"
      ]
     },
     "metadata": {},
     "output_type": "display_data"
    },
    {
     "data": {
      "text/plain": [
       "(20, 201)"
      ]
     },
     "metadata": {},
     "output_type": "display_data"
    },
    {
     "name": "stdout",
     "output_type": "stream",
     "text": [
      "Data points considered outliers for the feature '2ndFlrSF':\n"
     ]
    },
    {
     "data": {
      "text/plain": [
       "'2ndFlrSF'"
      ]
     },
     "metadata": {},
     "output_type": "display_data"
    },
    {
     "data": {
      "text/plain": [
       "(2, 201)"
      ]
     },
     "metadata": {},
     "output_type": "display_data"
    },
    {
     "name": "stdout",
     "output_type": "stream",
     "text": [
      "Data points considered outliers for the feature 'GrLivArea':\n"
     ]
    },
    {
     "data": {
      "text/plain": [
       "'GrLivArea'"
      ]
     },
     "metadata": {},
     "output_type": "display_data"
    },
    {
     "data": {
      "text/plain": [
       "(31, 201)"
      ]
     },
     "metadata": {},
     "output_type": "display_data"
    },
    {
     "name": "stdout",
     "output_type": "stream",
     "text": [
      "Data points considered outliers for the feature 'GarageArea':\n"
     ]
    },
    {
     "data": {
      "text/plain": [
       "'GarageArea'"
      ]
     },
     "metadata": {},
     "output_type": "display_data"
    },
    {
     "data": {
      "text/plain": [
       "(21, 201)"
      ]
     },
     "metadata": {},
     "output_type": "display_data"
    },
    {
     "name": "stdout",
     "output_type": "stream",
     "text": [
      "Data points considered outliers for the feature 'WoodDeckSF':\n"
     ]
    },
    {
     "data": {
      "text/plain": [
       "'WoodDeckSF'"
      ]
     },
     "metadata": {},
     "output_type": "display_data"
    },
    {
     "data": {
      "text/plain": [
       "(32, 201)"
      ]
     },
     "metadata": {},
     "output_type": "display_data"
    },
    {
     "name": "stdout",
     "output_type": "stream",
     "text": [
      "Data points considered outliers for the feature 'OpenPorchSF':\n"
     ]
    },
    {
     "data": {
      "text/plain": [
       "'OpenPorchSF'"
      ]
     },
     "metadata": {},
     "output_type": "display_data"
    },
    {
     "data": {
      "text/plain": [
       "(77, 201)"
      ]
     },
     "metadata": {},
     "output_type": "display_data"
    },
    {
     "name": "stdout",
     "output_type": "stream",
     "text": [
      "Data points considered outliers for the feature 'EnclosedPorch':\n"
     ]
    },
    {
     "data": {
      "text/plain": [
       "'EnclosedPorch'"
      ]
     },
     "metadata": {},
     "output_type": "display_data"
    },
    {
     "data": {
      "text/plain": [
       "(208, 201)"
      ]
     },
     "metadata": {},
     "output_type": "display_data"
    },
    {
     "name": "stdout",
     "output_type": "stream",
     "text": [
      "Data points considered outliers for the feature '3SsnPorch':\n"
     ]
    },
    {
     "data": {
      "text/plain": [
       "'3SsnPorch'"
      ]
     },
     "metadata": {},
     "output_type": "display_data"
    },
    {
     "data": {
      "text/plain": [
       "(24, 201)"
      ]
     },
     "metadata": {},
     "output_type": "display_data"
    },
    {
     "name": "stdout",
     "output_type": "stream",
     "text": [
      "Data points considered outliers for the feature 'ScreenPorch':\n"
     ]
    },
    {
     "data": {
      "text/plain": [
       "'ScreenPorch'"
      ]
     },
     "metadata": {},
     "output_type": "display_data"
    },
    {
     "data": {
      "text/plain": [
       "(116, 201)"
      ]
     },
     "metadata": {},
     "output_type": "display_data"
    },
    {
     "name": "stdout",
     "output_type": "stream",
     "text": [
      "Data points considered outliers for the feature 'PoolArea':\n"
     ]
    },
    {
     "data": {
      "text/plain": [
       "'PoolArea'"
      ]
     },
     "metadata": {},
     "output_type": "display_data"
    },
    {
     "data": {
      "text/plain": [
       "(7, 201)"
      ]
     },
     "metadata": {},
     "output_type": "display_data"
    },
    {
     "name": "stdout",
     "output_type": "stream",
     "text": [
      "Data points considered outliers for the feature 'BedroomAbvGr':\n"
     ]
    },
    {
     "data": {
      "text/plain": [
       "'BedroomAbvGr'"
      ]
     },
     "metadata": {},
     "output_type": "display_data"
    },
    {
     "data": {
      "text/plain": [
       "(35, 201)"
      ]
     },
     "metadata": {},
     "output_type": "display_data"
    },
    {
     "name": "stdout",
     "output_type": "stream",
     "text": [
      "Data points considered outliers for the feature 'KitchenAbvGr':\n"
     ]
    },
    {
     "data": {
      "text/plain": [
       "'KitchenAbvGr'"
      ]
     },
     "metadata": {},
     "output_type": "display_data"
    },
    {
     "data": {
      "text/plain": [
       "(68, 201)"
      ]
     },
     "metadata": {},
     "output_type": "display_data"
    },
    {
     "name": "stdout",
     "output_type": "stream",
     "text": [
      "Data points considered outliers for the feature 'LotFrontage':\n"
     ]
    },
    {
     "data": {
      "text/plain": [
       "'LotFrontage'"
      ]
     },
     "metadata": {},
     "output_type": "display_data"
    },
    {
     "data": {
      "text/plain": [
       "(121, 201)"
      ]
     },
     "metadata": {},
     "output_type": "display_data"
    },
    {
     "name": "stdout",
     "output_type": "stream",
     "text": [
      "Data points considered outliers for the feature 'LotDepth':\n"
     ]
    },
    {
     "data": {
      "text/plain": [
       "'LotDepth'"
      ]
     },
     "metadata": {},
     "output_type": "display_data"
    },
    {
     "data": {
      "text/plain": [
       "(228, 201)"
      ]
     },
     "metadata": {},
     "output_type": "display_data"
    },
    {
     "name": "stdout",
     "output_type": "stream",
     "text": [
      "Data points considered outliers for the feature 'MasVnrArea':\n"
     ]
    },
    {
     "data": {
      "text/plain": [
       "'MasVnrArea'"
      ]
     },
     "metadata": {},
     "output_type": "display_data"
    },
    {
     "data": {
      "text/plain": [
       "(98, 201)"
      ]
     },
     "metadata": {},
     "output_type": "display_data"
    },
    {
     "name": "stdout",
     "output_type": "stream",
     "text": [
      "Final data shape:\n"
     ]
    },
    {
     "data": {
      "text/plain": [
       "(1028, 201)"
      ]
     },
     "metadata": {},
     "output_type": "display_data"
    }
   ],
   "source": [
    "import numpy as np\n",
    "\n",
    "outliers_data = train_data.copy(deep=True).drop(train_data.index)\n",
    "outlier_column = 'Is outlier in more than one feature?'\n",
    "\n",
    "features_to_check_for_outliers = [\n",
    "    'SalePrice',\n",
    "    'MiscVal',\n",
    "    'NeighborhoodMeanPrice',\n",
    "    'GarageTypeMeanPrice',\n",
    "    'LotArea',\n",
    "    'BsmtFinSF1',\n",
    "    'BsmtFinSF2',\n",
    "    'BsmtUnfSF',\n",
    "    'TotalBsmtSF',\n",
    "    '1stFlrSF',\n",
    "    '2ndFlrSF',\n",
    "    'GrLivArea',\n",
    "    'GarageArea',\n",
    "    'WoodDeckSF',\n",
    "    'OpenPorchSF',\n",
    "    'EnclosedPorch',\n",
    "    '3SsnPorch',\n",
    "    'ScreenPorch',\n",
    "    'PoolArea',\n",
    "    'BedroomAbvGr',\n",
    "    'KitchenAbvGr',\n",
    "    'LotFrontage',\n",
    "    'LotDepth',\n",
    "    'MasVnrArea'\n",
    "]\n",
    "\n",
    "# For each feature find the data points with extreme high or low values\n",
    "for feature in features_to_check_for_outliers:\n",
    "    \n",
    "    # TODO: Calculate Q1 (25th percentile of the data) for the given feature\n",
    "    Q1 = np.percentile(train_data[feature], 25)\n",
    "    \n",
    "    # TODO: Calculate Q3 (75th percentile of the data) for the given feature\n",
    "    Q3 = np.percentile(train_data[feature], 75)\n",
    "    \n",
    "    # TODO: Use the interquartile range to calculate an outlier step (1.5 times the interquartile range)\n",
    "    step = (Q3 - Q1) * 1.5\n",
    "    \n",
    "    # Display the outliers\n",
    "    print(\"Data points considered outliers for the feature '{}':\".format(feature))\n",
    "    feature_outliers = train_data[~((train_data[feature] >= Q1 - step) & (train_data[feature] <= Q3 + step))]\n",
    "    # display(feature_outliers)\n",
    "    display(feature)\n",
    "    display(feature_outliers.shape)\n",
    "    \n",
    "    outliers_data = outliers_data.append(feature_outliers)\n",
    "\n",
    "# OPTIONAL: Create Duplicated feature column\n",
    "outliers_data[outlier_column] = outliers_data.duplicated(keep=False)\n",
    "# OPTIONAL: Drop duplicated rows\n",
    "outliers_data_deduplicated = outliers_data.sort_index().drop_duplicates()\n",
    "# OPTIONAL: Filter rows with Duplicated == True\n",
    "outliers_in_more_than_one_feature = outliers_data_deduplicated[outliers_data_deduplicated[outlier_column]]\n",
    "\n",
    "# Display rows with more than one feature considered outlier\n",
    "# print(\"Data points considered outliers for more than one feature:\")\n",
    "# display(outliers_in_more_than_one_feature)\n",
    "\n",
    "# OPTIONAL: Select the indices for data points you wish to remove\n",
    "# Remove data points where more than one feature is considered outlier\n",
    "outliers  = outliers_in_more_than_one_feature.index\n",
    "\n",
    "# Remove the outliers, if any were specified\n",
    "good_data = train_data.drop(train_data.index[outliers]).reset_index(drop = True)\n",
    "\n",
    "\n",
    "print(\"Final data shape:\")\n",
    "display(good_data.shape)"
   ]
  },
  {
   "cell_type": "markdown",
   "metadata": {},
   "source": [
    "## Feature aggregation\n",
    "\n",
    "References:\n",
    "\n",
    "- https://www.kaggle.com/shaygu/house-prices-begginer-top-7"
   ]
  },
  {
   "cell_type": "code",
   "execution_count": 3,
   "metadata": {},
   "outputs": [],
   "source": [
    "# space:\n",
    "#     LotArea, BsmtFinSF1, BsmtFinSF2, BsmtUnfSF, TotalBsmtSF, 1stFlrSF, 2ndFlrSF, \n",
    "#     GrLivArea, GarageArea, WoodDeckSF, OpenPorchSF, EnclosedPorch, 3SsnPorch, ScreenPorch, PoolArea,\n",
    "#     BedroomAbvGr, KitchenAbvGr, LotFrontage (*), LotDepth (*), MasVnrArea, \n",
    "\n",
    "# create: FloorSF, HouseSF, AbvGrSF, PorchSF\n",
    "good_data['FloorSF'] = good_data['1stFlrSF'] + good_data['2ndFlrSF']\n",
    "test_data['FloorSF'] = test_data['1stFlrSF'] + test_data['2ndFlrSF']\n",
    "good_data['HouseSF'] = good_data['FloorSF'] + (good_data['TotalBsmtSF'] * .75)\n",
    "test_data['HouseSF'] = test_data['FloorSF'] + (test_data['TotalBsmtSF'] * .75)\n",
    "good_data['AbvGrSF'] = good_data['BedroomAbvGr'] + good_data['KitchenAbvGr']\n",
    "test_data['AbvGrSF'] = test_data['BedroomAbvGr'] + test_data['KitchenAbvGr']\n",
    "good_data['PorchSF'] = good_data['OpenPorchSF'] + good_data['EnclosedPorch'] + good_data['3SsnPorch'] + good_data['ScreenPorch'] + good_data['WoodDeckSF']\n",
    "test_data['PorchSF'] = test_data['OpenPorchSF'] + test_data['EnclosedPorch'] + test_data['3SsnPorch'] + test_data['ScreenPorch'] + test_data['WoodDeckSF']"
   ]
  },
  {
   "cell_type": "code",
   "execution_count": 4,
   "metadata": {},
   "outputs": [],
   "source": [
    "# quantity:\n",
    "#     BsmtFullBath, BsmtHalfBath, FullBath, HalfBath, TotRmsAbvGrd, Fireplaces, GarageCars\n",
    "\n",
    "# create: BsmtBathrooms, AbvGrBathrooms, TotalBathrooms\n",
    "good_data['BsmtBathrooms'] = good_data['BsmtFullBath'] + (good_data['BsmtHalfBath'] * 0.3)\n",
    "test_data['BsmtBathrooms'] = test_data['BsmtFullBath'] + (test_data['BsmtHalfBath'] * 0.3)\n",
    "good_data['AbvGrBathrooms'] = good_data['FullBath'] + (good_data['HalfBath'] * 0.3)\n",
    "test_data['AbvGrBathrooms'] = test_data['FullBath'] + (test_data['HalfBath'] * 0.3)\n",
    "good_data['TotalBathrooms'] = good_data['BsmtBathrooms'] + good_data['AbvGrBathrooms']\n",
    "test_data['TotalBathrooms'] = test_data['BsmtBathrooms'] + test_data['AbvGrBathrooms']"
   ]
  },
  {
   "cell_type": "code",
   "execution_count": 5,
   "metadata": {},
   "outputs": [],
   "source": [
    "# grade:\n",
    "#     LotShape, LandSlope, Utilities, ExterQual, ExterCond, BsmtQual, BsmtCond, BsmtExposure,\n",
    "#     HeatingQC, CentralAir, KitchenQual, Functional, FireplaceQu, GarageFinish, GarageQual, GarageCond\n",
    "#     BsmtFinType1, BsmtFinType2, OverallQual, OverallCond, \n",
    "\n",
    "# create: ExternalRating, BsmtRating, ClimateRating, GarageRating, OverallRating, FunctionalRating\n",
    "good_data['ExternalRating'] = (good_data['ExterQual'] + good_data['ExterCond']) / 2\n",
    "test_data['ExternalRating'] = (test_data['ExterQual'] + test_data['ExterCond']) / 2\n",
    "good_data['BsmtRating'] = (good_data['BsmtQual'] + good_data['BsmtCond'] + good_data['BsmtExposure']) / 3\n",
    "test_data['BsmtRating'] = (test_data['BsmtQual'] + test_data['BsmtCond'] + test_data['BsmtExposure']) / 3\n",
    "good_data['ClimateRating'] = (good_data['HeatingQC'] + good_data['CentralAir'] + good_data['FireplaceQu']) / 3\n",
    "test_data['ClimateRating'] = (test_data['HeatingQC'] + test_data['CentralAir'] + test_data['FireplaceQu']) / 3\n",
    "good_data['GarageRating'] = (good_data['GarageFinish'] + good_data['GarageQual'] + good_data['GarageCond']) / 3\n",
    "test_data['GarageRating'] = (test_data['GarageFinish'] + test_data['GarageQual'] + test_data['GarageCond']) / 3\n",
    "good_data['OverallRating'] = (good_data['OverallQual'] + good_data['OverallCond']) / 2\n",
    "test_data['OverallRating'] = (test_data['OverallQual'] + test_data['OverallCond']) / 2\n",
    "good_data['FunctionalRating'] = (good_data['KitchenQual'] + good_data['Functional']) / 2\n",
    "test_data['FunctionalRating'] = (test_data['KitchenQual'] + test_data['Functional']) / 2"
   ]
  },
  {
   "cell_type": "code",
   "execution_count": 6,
   "metadata": {},
   "outputs": [],
   "source": [
    "# time:\n",
    "#     YearBuilt, YearRemodAdd, YrSold, GarageYrBlt,\n",
    "\n",
    "# create: LotAge, GarageAgeWhenSold, RemodAgeWhenSold, LotAgeWhenSold\n",
    "good_data['LotAge'] = 2019 - good_data['YearBuilt']\n",
    "test_data['LotAge'] = 2019 - test_data['YearBuilt']\n",
    "good_data['GarageAgeWhenSold'] = good_data['YrSold'] - good_data['GarageYrBlt']\n",
    "test_data['GarageAgeWhenSold'] = test_data['YrSold'] - test_data['GarageYrBlt']\n",
    "good_data['RemodAgeWhenSold'] = good_data['YrSold'] - good_data['YearRemodAdd']\n",
    "test_data['RemodAgeWhenSold'] = test_data['YrSold'] - test_data['YearRemodAdd']\n",
    "good_data['LotAgeWhenSold'] = good_data['YrSold'] - good_data['YearBuilt']\n",
    "test_data['LotAgeWhenSold'] = test_data['YrSold'] - test_data['YearBuilt']"
   ]
  },
  {
   "cell_type": "code",
   "execution_count": 7,
   "metadata": {},
   "outputs": [],
   "source": [
    "# currency:\n",
    "#     MiscVal, NeighborhoodMeanPrice, GarageTypeMeanPrice\n",
    "\n",
    "# create: NetBuildingMeanPrice\n",
    "good_data['NetBuildingMeanPrice'] = good_data['NeighborhoodMeanPrice'] - good_data['GarageTypeMeanPrice'] - good_data['MiscVal']\n",
    "test_data['NetBuildingMeanPrice'] = test_data['NeighborhoodMeanPrice'] - test_data['GarageTypeMeanPrice'] - test_data['MiscVal']"
   ]
  },
  {
   "cell_type": "code",
   "execution_count": 8,
   "metadata": {},
   "outputs": [],
   "source": [
    "# cross:\n",
    "#     LotArea + NeighborhoodMeanPrice\n",
    "#     Fireplaces + FireplaceRating\n",
    "#     NeighborhoodMeanPrice + LotAge\n",
    "\n",
    "# create: AreaMeanPrice, SFMeanPrice, WeightedFireplaceRating, WeightedNeighborhoodMeanPrice\n",
    "good_data['AreaMeanPrice'] = good_data['NeighborhoodMeanPrice'] / good_data['LotArea']\n",
    "test_data['AreaMeanPrice'] = test_data['NeighborhoodMeanPrice'] / test_data['LotArea']\n",
    "good_data['SFMeanPrice'] = good_data['NeighborhoodMeanPrice'] / good_data['HouseSF']\n",
    "test_data['SFMeanPrice'] = test_data['NeighborhoodMeanPrice'] / test_data['HouseSF']\n",
    "good_data['WeightedFireplaceRating'] = good_data['FireplaceQu'] * (1. + (good_data['Fireplaces'] / 4.))\n",
    "test_data['WeightedFireplaceRating'] = test_data['FireplaceQu'] * (1. + (test_data['Fireplaces'] / 4.))\n",
    "good_data['WeightedNeighborhoodMeanPrice'] = good_data['NeighborhoodMeanPrice'] * (1. + (.1 / good_data['LotAge']))\n",
    "test_data['WeightedNeighborhoodMeanPrice'] = test_data['NeighborhoodMeanPrice'] * (1. + (.1 / test_data['LotAge']))"
   ]
  },
  {
   "cell_type": "markdown",
   "metadata": {},
   "source": [
    "## Feature scaling and normalization\n",
    "\n",
    "References:\n",
    "\n",
    "- https://towardsdatascience.com/the-ultimate-guide-to-data-cleaning-3969843991d4#d078\n",
    "- https://www.codecademy.com/articles/normalization\n",
    "- https://machinelearningmastery.com/feature-selection-machine-learning-python/\n",
    "- https://towardsdatascience.com/feature-selection-techniques-in-machine-learning-with-python-f24e7da3f36e"
   ]
  },
  {
   "cell_type": "code",
   "execution_count": 9,
   "metadata": {},
   "outputs": [],
   "source": [
    "# created:\n",
    "#     space (?): FloorSF, HouseSF, AbvGrSF, PorchSF\n",
    "#     quantity (scale): BsmtBathrooms, AbvGrBathrooms, TotalBathrooms\n",
    "#     grade (scale): ExternalRating, BsmtRating, ClimateRating, GarageRating, OverallRating, FunctionalRating, WeightedFireplaceRating,\n",
    "#     time (scale): LotAge, GarageAgeWhenSold, RemodAgeWhenSold, LotAgeWhenSold\n",
    "#     currency (?): NetBuildingMeanPrice, AreaMeanPrice, SFMeanPrice,  WeightedNeighborhoodMeanPrice\n",
    "\n",
    "# space (?):\n",
    "#     LotArea, BsmtFinSF1, BsmtFinSF2, BsmtUnfSF, TotalBsmtSF, 1stFlrSF, 2ndFlrSF, \n",
    "#     GrLivArea, GarageArea, WoodDeckSF, OpenPorchSF, EnclosedPorch, 3SsnPorch, ScreenPorch, PoolArea,\n",
    "#     BedroomAbvGr, KitchenAbvGr, LotFrontage (*), LotDepth (*), MasVnrArea, \n",
    "#\n",
    "# quantity (scale):\n",
    "#     BsmtFullBath, BsmtHalfBath, FullBath, HalfBath, TotRmsAbvGrd, Fireplaces, GarageCars\n",
    "#\n",
    "# grade (scale):\n",
    "#     LotShape, LandSlope, Utilities, ExterQual, ExterCond, BsmtQual, BsmtCond, BsmtExposure,\n",
    "#     HeatingQC, CentralAir, KitchenQual, Functional, FireplaceQu, GarageFinish, GarageQual, GarageCond\n",
    "#     BsmtFinType1, BsmtFinType2, OverallQual, OverallCond, \n",
    "#\n",
    "# time (scale):\n",
    "#     YearBuilt, YearRemodAdd, YrSold, GarageYrBlt,\n",
    "#\n",
    "# currency (?):\n",
    "#     MiscVal, NeighborhoodMeanPrice, GarageTypeMeanPrice\n",
    "#\n",
    "# one-hot-encoded-binary (keep):\n",
    "#     MSSubClass, MSZoning, LandContour, Street, LotConfig, BldgType, HouseStyle, RoofStyle, RoofMatl, MoSold,\n",
    "#     MasVnrType, Foundation, Heating, Electrical, PavedDrive, Condition1, Condition2, Exterior1st, Exterior2nd\n",
    "\n",
    "columns_to_normalize = [\n",
    "#     'MiscVal',\n",
    "#     'NeighborhoodMeanPrice',\n",
    "#     'GarageTypeMeanPrice',\n",
    "#     'LotArea',\n",
    "#     'BsmtFinSF1',\n",
    "#     'BsmtFinSF2',\n",
    "#     'BsmtUnfSF',\n",
    "#     'TotalBsmtSF',\n",
    "#     '1stFlrSF',\n",
    "#     '2ndFlrSF',\n",
    "#     'GrLivArea',\n",
    "#     'GarageArea',\n",
    "#     'WoodDeckSF',\n",
    "#     'OpenPorchSF',\n",
    "#     'EnclosedPorch',\n",
    "#     '3SsnPorch',\n",
    "#     'ScreenPorch',\n",
    "#     'PoolArea',\n",
    "#     'BedroomAbvGr',\n",
    "#     'KitchenAbvGr',\n",
    "#     'LotFrontage',\n",
    "#     'LotDepth',\n",
    "#     'MasVnrArea'\n",
    "]\n",
    "\n",
    "columns_to_scale = [\n",
    "    'BsmtFullBath',\n",
    "    'BsmtHalfBath',\n",
    "    'FullBath',\n",
    "    'HalfBath',\n",
    "    'TotRmsAbvGrd',\n",
    "    'Fireplaces',\n",
    "    'GarageCars',\n",
    "    'LotShape',\n",
    "    'LandSlope',\n",
    "    'Utilities',\n",
    "    'ExterQual',\n",
    "    'ExterCond',\n",
    "    'BsmtQual',\n",
    "    'BsmtCond',\n",
    "    'BsmtExposure',\n",
    "    'HeatingQC',\n",
    "    'CentralAir',\n",
    "    'KitchenQual',\n",
    "    'Functional',\n",
    "    'FireplaceQu',\n",
    "    'GarageFinish',\n",
    "    'GarageQual',\n",
    "    'GarageCond',\n",
    "    'BsmtFinType1',\n",
    "    'BsmtFinType2',\n",
    "    'OverallQual',\n",
    "    'OverallCond',\n",
    "    'YearBuilt',\n",
    "    'YearRemodAdd',\n",
    "    'YrSold',\n",
    "    'GarageYrBlt',\n",
    "    \n",
    "    'BsmtBathrooms',\n",
    "    'AbvGrBathrooms',\n",
    "    'TotalBathrooms',\n",
    "    \n",
    "    'ExternalRating',\n",
    "    'BsmtRating',\n",
    "    'ClimateRating',\n",
    "    'GarageRating',\n",
    "    'OverallRating',\n",
    "    'FunctionalRating',\n",
    "    \n",
    "    'WeightedFireplaceRating',\n",
    "    \n",
    "    'LotAge',\n",
    "    'GarageAgeWhenSold',\n",
    "    'RemodAgeWhenSold',\n",
    "    'LotAgeWhenSold'\n",
    "]"
   ]
  },
  {
   "cell_type": "code",
   "execution_count": 10,
   "metadata": {},
   "outputs": [
    {
     "data": {
      "text/html": [
       "<div>\n",
       "<style scoped>\n",
       "    .dataframe tbody tr th:only-of-type {\n",
       "        vertical-align: middle;\n",
       "    }\n",
       "\n",
       "    .dataframe tbody tr th {\n",
       "        vertical-align: top;\n",
       "    }\n",
       "\n",
       "    .dataframe thead th {\n",
       "        text-align: right;\n",
       "    }\n",
       "</style>\n",
       "<table border=\"1\" class=\"dataframe\">\n",
       "  <thead>\n",
       "    <tr style=\"text-align: right;\">\n",
       "      <th></th>\n",
       "      <th>1stFlrSF</th>\n",
       "      <th>2ndFlrSF</th>\n",
       "      <th>3SsnPorch</th>\n",
       "      <th>BedroomAbvGr</th>\n",
       "      <th>BldgType_1Fam</th>\n",
       "      <th>BldgType_2fmCon</th>\n",
       "      <th>BldgType_Duplex</th>\n",
       "      <th>BldgType_Twnhs</th>\n",
       "      <th>BldgType_TwnhsE</th>\n",
       "      <th>BsmtCond</th>\n",
       "      <th>...</th>\n",
       "      <th>FunctionalRating</th>\n",
       "      <th>LotAge</th>\n",
       "      <th>GarageAgeWhenSold</th>\n",
       "      <th>RemodAgeWhenSold</th>\n",
       "      <th>LotAgeWhenSold</th>\n",
       "      <th>NetBuildingMeanPrice</th>\n",
       "      <th>AreaMeanPrice</th>\n",
       "      <th>SFMeanPrice</th>\n",
       "      <th>WeightedFireplaceRating</th>\n",
       "      <th>WeightedNeighborhoodMeanPrice</th>\n",
       "    </tr>\n",
       "  </thead>\n",
       "  <tbody>\n",
       "    <tr>\n",
       "      <th>0</th>\n",
       "      <td>856</td>\n",
       "      <td>854</td>\n",
       "      <td>0</td>\n",
       "      <td>3</td>\n",
       "      <td>1</td>\n",
       "      <td>0</td>\n",
       "      <td>0</td>\n",
       "      <td>0</td>\n",
       "      <td>0</td>\n",
       "      <td>3</td>\n",
       "      <td>...</td>\n",
       "      <td>6.0</td>\n",
       "      <td>16</td>\n",
       "      <td>5</td>\n",
       "      <td>5</td>\n",
       "      <td>5</td>\n",
       "      <td>-4927</td>\n",
       "      <td>23.427929</td>\n",
       "      <td>84.169218</td>\n",
       "      <td>0.00</td>\n",
       "      <td>199203.287500</td>\n",
       "    </tr>\n",
       "    <tr>\n",
       "      <th>1</th>\n",
       "      <td>1262</td>\n",
       "      <td>0</td>\n",
       "      <td>0</td>\n",
       "      <td>3</td>\n",
       "      <td>1</td>\n",
       "      <td>0</td>\n",
       "      <td>0</td>\n",
       "      <td>0</td>\n",
       "      <td>0</td>\n",
       "      <td>3</td>\n",
       "      <td>...</td>\n",
       "      <td>5.5</td>\n",
       "      <td>43</td>\n",
       "      <td>31</td>\n",
       "      <td>31</td>\n",
       "      <td>31</td>\n",
       "      <td>35880</td>\n",
       "      <td>24.872187</td>\n",
       "      <td>108.115463</td>\n",
       "      <td>3.75</td>\n",
       "      <td>239328.286047</td>\n",
       "    </tr>\n",
       "    <tr>\n",
       "      <th>2</th>\n",
       "      <td>920</td>\n",
       "      <td>866</td>\n",
       "      <td>0</td>\n",
       "      <td>3</td>\n",
       "      <td>1</td>\n",
       "      <td>0</td>\n",
       "      <td>0</td>\n",
       "      <td>0</td>\n",
       "      <td>0</td>\n",
       "      <td>3</td>\n",
       "      <td>...</td>\n",
       "      <td>6.0</td>\n",
       "      <td>18</td>\n",
       "      <td>7</td>\n",
       "      <td>6</td>\n",
       "      <td>7</td>\n",
       "      <td>-4927</td>\n",
       "      <td>17.596978</td>\n",
       "      <td>79.953958</td>\n",
       "      <td>3.75</td>\n",
       "      <td>199065.811111</td>\n",
       "    </tr>\n",
       "    <tr>\n",
       "      <th>3</th>\n",
       "      <td>961</td>\n",
       "      <td>756</td>\n",
       "      <td>0</td>\n",
       "      <td>3</td>\n",
       "      <td>1</td>\n",
       "      <td>0</td>\n",
       "      <td>0</td>\n",
       "      <td>0</td>\n",
       "      <td>0</td>\n",
       "      <td>4</td>\n",
       "      <td>...</td>\n",
       "      <td>6.0</td>\n",
       "      <td>104</td>\n",
       "      <td>8</td>\n",
       "      <td>36</td>\n",
       "      <td>91</td>\n",
       "      <td>76534</td>\n",
       "      <td>22.054974</td>\n",
       "      <td>92.217601</td>\n",
       "      <td>5.00</td>\n",
       "      <td>210827.524038</td>\n",
       "    </tr>\n",
       "    <tr>\n",
       "      <th>4</th>\n",
       "      <td>1145</td>\n",
       "      <td>1053</td>\n",
       "      <td>0</td>\n",
       "      <td>4</td>\n",
       "      <td>1</td>\n",
       "      <td>0</td>\n",
       "      <td>0</td>\n",
       "      <td>0</td>\n",
       "      <td>0</td>\n",
       "      <td>3</td>\n",
       "      <td>...</td>\n",
       "      <td>6.0</td>\n",
       "      <td>19</td>\n",
       "      <td>8</td>\n",
       "      <td>8</td>\n",
       "      <td>8</td>\n",
       "      <td>132402</td>\n",
       "      <td>23.512973</td>\n",
       "      <td>109.690030</td>\n",
       "      <td>3.75</td>\n",
       "      <td>337059.710526</td>\n",
       "    </tr>\n",
       "  </tbody>\n",
       "</table>\n",
       "<p>5 rows × 223 columns</p>\n",
       "</div>"
      ],
      "text/plain": [
       "   1stFlrSF  2ndFlrSF  3SsnPorch  BedroomAbvGr  BldgType_1Fam  \\\n",
       "0       856       854          0             3              1   \n",
       "1      1262         0          0             3              1   \n",
       "2       920       866          0             3              1   \n",
       "3       961       756          0             3              1   \n",
       "4      1145      1053          0             4              1   \n",
       "\n",
       "   BldgType_2fmCon  BldgType_Duplex  BldgType_Twnhs  BldgType_TwnhsE  \\\n",
       "0                0                0               0                0   \n",
       "1                0                0               0                0   \n",
       "2                0                0               0                0   \n",
       "3                0                0               0                0   \n",
       "4                0                0               0                0   \n",
       "\n",
       "   BsmtCond              ...                FunctionalRating  LotAge  \\\n",
       "0         3              ...                             6.0      16   \n",
       "1         3              ...                             5.5      43   \n",
       "2         3              ...                             6.0      18   \n",
       "3         4              ...                             6.0     104   \n",
       "4         3              ...                             6.0      19   \n",
       "\n",
       "   GarageAgeWhenSold  RemodAgeWhenSold  LotAgeWhenSold  NetBuildingMeanPrice  \\\n",
       "0                  5                 5               5                 -4927   \n",
       "1                 31                31              31                 35880   \n",
       "2                  7                 6               7                 -4927   \n",
       "3                  8                36              91                 76534   \n",
       "4                  8                 8               8                132402   \n",
       "\n",
       "   AreaMeanPrice  SFMeanPrice  WeightedFireplaceRating  \\\n",
       "0      23.427929    84.169218                     0.00   \n",
       "1      24.872187   108.115463                     3.75   \n",
       "2      17.596978    79.953958                     3.75   \n",
       "3      22.054974    92.217601                     5.00   \n",
       "4      23.512973   109.690030                     3.75   \n",
       "\n",
       "   WeightedNeighborhoodMeanPrice  \n",
       "0                  199203.287500  \n",
       "1                  239328.286047  \n",
       "2                  199065.811111  \n",
       "3                  210827.524038  \n",
       "4                  337059.710526  \n",
       "\n",
       "[5 rows x 223 columns]"
      ]
     },
     "execution_count": 10,
     "metadata": {},
     "output_type": "execute_result"
    }
   ],
   "source": [
    "# mean normalization\n",
    "normalized_train_data = good_data.copy()\n",
    "normalized_test_data = test_data.copy()\n",
    "\n",
    "normalized_train_data[columns_to_normalize] = (normalized_train_data[columns_to_normalize] - normalized_train_data[columns_to_normalize].mean()) / normalized_train_data[columns_to_normalize].std()\n",
    "normalized_test_data[columns_to_normalize] = (normalized_test_data[columns_to_normalize] - normalized_test_data[columns_to_normalize].mean()) / normalized_test_data[columns_to_normalize].std()\n",
    "normalized_train_data.fillna(0, inplace=True)\n",
    "normalized_test_data.fillna(0, inplace=True)\n",
    "\n",
    "normalized_train_data.head()"
   ]
  },
  {
   "cell_type": "code",
   "execution_count": 11,
   "metadata": {
    "scrolled": true
   },
   "outputs": [
    {
     "data": {
      "text/html": [
       "<div>\n",
       "<style scoped>\n",
       "    .dataframe tbody tr th:only-of-type {\n",
       "        vertical-align: middle;\n",
       "    }\n",
       "\n",
       "    .dataframe tbody tr th {\n",
       "        vertical-align: top;\n",
       "    }\n",
       "\n",
       "    .dataframe thead th {\n",
       "        text-align: right;\n",
       "    }\n",
       "</style>\n",
       "<table border=\"1\" class=\"dataframe\">\n",
       "  <thead>\n",
       "    <tr style=\"text-align: right;\">\n",
       "      <th></th>\n",
       "      <th>1stFlrSF</th>\n",
       "      <th>2ndFlrSF</th>\n",
       "      <th>3SsnPorch</th>\n",
       "      <th>BedroomAbvGr</th>\n",
       "      <th>BldgType_1Fam</th>\n",
       "      <th>BldgType_2fmCon</th>\n",
       "      <th>BldgType_Duplex</th>\n",
       "      <th>BldgType_Twnhs</th>\n",
       "      <th>BldgType_TwnhsE</th>\n",
       "      <th>BsmtCond</th>\n",
       "      <th>...</th>\n",
       "      <th>FunctionalRating</th>\n",
       "      <th>LotAge</th>\n",
       "      <th>GarageAgeWhenSold</th>\n",
       "      <th>RemodAgeWhenSold</th>\n",
       "      <th>LotAgeWhenSold</th>\n",
       "      <th>NetBuildingMeanPrice</th>\n",
       "      <th>AreaMeanPrice</th>\n",
       "      <th>SFMeanPrice</th>\n",
       "      <th>WeightedFireplaceRating</th>\n",
       "      <th>WeightedNeighborhoodMeanPrice</th>\n",
       "    </tr>\n",
       "  </thead>\n",
       "  <tbody>\n",
       "    <tr>\n",
       "      <th>0</th>\n",
       "      <td>856</td>\n",
       "      <td>854</td>\n",
       "      <td>0</td>\n",
       "      <td>3</td>\n",
       "      <td>1</td>\n",
       "      <td>0</td>\n",
       "      <td>0</td>\n",
       "      <td>0</td>\n",
       "      <td>0</td>\n",
       "      <td>0.75</td>\n",
       "      <td>...</td>\n",
       "      <td>0.857143</td>\n",
       "      <td>0.043796</td>\n",
       "      <td>0.041667</td>\n",
       "      <td>0.083333</td>\n",
       "      <td>0.036765</td>\n",
       "      <td>-4927</td>\n",
       "      <td>23.427929</td>\n",
       "      <td>84.169218</td>\n",
       "      <td>0.000000</td>\n",
       "      <td>199203.287500</td>\n",
       "    </tr>\n",
       "    <tr>\n",
       "      <th>1</th>\n",
       "      <td>1262</td>\n",
       "      <td>0</td>\n",
       "      <td>0</td>\n",
       "      <td>3</td>\n",
       "      <td>1</td>\n",
       "      <td>0</td>\n",
       "      <td>0</td>\n",
       "      <td>0</td>\n",
       "      <td>0</td>\n",
       "      <td>0.75</td>\n",
       "      <td>...</td>\n",
       "      <td>0.714286</td>\n",
       "      <td>0.240876</td>\n",
       "      <td>0.258333</td>\n",
       "      <td>0.516667</td>\n",
       "      <td>0.227941</td>\n",
       "      <td>35880</td>\n",
       "      <td>24.872187</td>\n",
       "      <td>108.115463</td>\n",
       "      <td>0.500000</td>\n",
       "      <td>239328.286047</td>\n",
       "    </tr>\n",
       "    <tr>\n",
       "      <th>2</th>\n",
       "      <td>920</td>\n",
       "      <td>866</td>\n",
       "      <td>0</td>\n",
       "      <td>3</td>\n",
       "      <td>1</td>\n",
       "      <td>0</td>\n",
       "      <td>0</td>\n",
       "      <td>0</td>\n",
       "      <td>0</td>\n",
       "      <td>0.75</td>\n",
       "      <td>...</td>\n",
       "      <td>0.857143</td>\n",
       "      <td>0.058394</td>\n",
       "      <td>0.058333</td>\n",
       "      <td>0.100000</td>\n",
       "      <td>0.051471</td>\n",
       "      <td>-4927</td>\n",
       "      <td>17.596978</td>\n",
       "      <td>79.953958</td>\n",
       "      <td>0.500000</td>\n",
       "      <td>199065.811111</td>\n",
       "    </tr>\n",
       "    <tr>\n",
       "      <th>3</th>\n",
       "      <td>961</td>\n",
       "      <td>756</td>\n",
       "      <td>0</td>\n",
       "      <td>3</td>\n",
       "      <td>1</td>\n",
       "      <td>0</td>\n",
       "      <td>0</td>\n",
       "      <td>0</td>\n",
       "      <td>0</td>\n",
       "      <td>1.00</td>\n",
       "      <td>...</td>\n",
       "      <td>0.857143</td>\n",
       "      <td>0.686131</td>\n",
       "      <td>0.066667</td>\n",
       "      <td>0.600000</td>\n",
       "      <td>0.669118</td>\n",
       "      <td>76534</td>\n",
       "      <td>22.054974</td>\n",
       "      <td>92.217601</td>\n",
       "      <td>0.666667</td>\n",
       "      <td>210827.524038</td>\n",
       "    </tr>\n",
       "    <tr>\n",
       "      <th>4</th>\n",
       "      <td>1145</td>\n",
       "      <td>1053</td>\n",
       "      <td>0</td>\n",
       "      <td>4</td>\n",
       "      <td>1</td>\n",
       "      <td>0</td>\n",
       "      <td>0</td>\n",
       "      <td>0</td>\n",
       "      <td>0</td>\n",
       "      <td>0.75</td>\n",
       "      <td>...</td>\n",
       "      <td>0.857143</td>\n",
       "      <td>0.065693</td>\n",
       "      <td>0.066667</td>\n",
       "      <td>0.133333</td>\n",
       "      <td>0.058824</td>\n",
       "      <td>132402</td>\n",
       "      <td>23.512973</td>\n",
       "      <td>109.690030</td>\n",
       "      <td>0.500000</td>\n",
       "      <td>337059.710526</td>\n",
       "    </tr>\n",
       "  </tbody>\n",
       "</table>\n",
       "<p>5 rows × 223 columns</p>\n",
       "</div>"
      ],
      "text/plain": [
       "   1stFlrSF  2ndFlrSF  3SsnPorch  BedroomAbvGr  BldgType_1Fam  \\\n",
       "0       856       854          0             3              1   \n",
       "1      1262         0          0             3              1   \n",
       "2       920       866          0             3              1   \n",
       "3       961       756          0             3              1   \n",
       "4      1145      1053          0             4              1   \n",
       "\n",
       "   BldgType_2fmCon  BldgType_Duplex  BldgType_Twnhs  BldgType_TwnhsE  \\\n",
       "0                0                0               0                0   \n",
       "1                0                0               0                0   \n",
       "2                0                0               0                0   \n",
       "3                0                0               0                0   \n",
       "4                0                0               0                0   \n",
       "\n",
       "   BsmtCond              ...                FunctionalRating    LotAge  \\\n",
       "0      0.75              ...                        0.857143  0.043796   \n",
       "1      0.75              ...                        0.714286  0.240876   \n",
       "2      0.75              ...                        0.857143  0.058394   \n",
       "3      1.00              ...                        0.857143  0.686131   \n",
       "4      0.75              ...                        0.857143  0.065693   \n",
       "\n",
       "   GarageAgeWhenSold  RemodAgeWhenSold  LotAgeWhenSold  NetBuildingMeanPrice  \\\n",
       "0           0.041667          0.083333        0.036765                 -4927   \n",
       "1           0.258333          0.516667        0.227941                 35880   \n",
       "2           0.058333          0.100000        0.051471                 -4927   \n",
       "3           0.066667          0.600000        0.669118                 76534   \n",
       "4           0.066667          0.133333        0.058824                132402   \n",
       "\n",
       "   AreaMeanPrice  SFMeanPrice  WeightedFireplaceRating  \\\n",
       "0      23.427929    84.169218                 0.000000   \n",
       "1      24.872187   108.115463                 0.500000   \n",
       "2      17.596978    79.953958                 0.500000   \n",
       "3      22.054974    92.217601                 0.666667   \n",
       "4      23.512973   109.690030                 0.500000   \n",
       "\n",
       "   WeightedNeighborhoodMeanPrice  \n",
       "0                  199203.287500  \n",
       "1                  239328.286047  \n",
       "2                  199065.811111  \n",
       "3                  210827.524038  \n",
       "4                  337059.710526  \n",
       "\n",
       "[5 rows x 223 columns]"
      ]
     },
     "execution_count": 11,
     "metadata": {},
     "output_type": "execute_result"
    }
   ],
   "source": [
    "# min max scaling\n",
    "# normalized_df=(df-df.min())/(df.max()-df.min())\n",
    "scaled_train_data = normalized_train_data.copy()\n",
    "scaled_test_data = normalized_test_data.copy()\n",
    "\n",
    "scaled_train_data[columns_to_scale] = (scaled_train_data[columns_to_scale] - scaled_train_data[columns_to_scale].min()) / (scaled_train_data[columns_to_scale].max() - scaled_train_data[columns_to_scale].min())\n",
    "scaled_test_data[columns_to_scale] = (scaled_test_data[columns_to_scale] - scaled_train_data[columns_to_scale].min()) / (scaled_train_data[columns_to_scale].max() - scaled_train_data[columns_to_scale].min())\n",
    "scaled_train_data.fillna(0, inplace=True)\n",
    "scaled_test_data.fillna(0, inplace=True)\n",
    "\n",
    "scaled_train_data.head()"
   ]
  },
  {
   "cell_type": "markdown",
   "metadata": {},
   "source": [
    "## Feature Selection\n",
    "\n",
    "References:\n",
    "\n",
    "- https://towardsdatascience.com/feature-selection-techniques-in-machine-learning-with-python-f24e7da3f36e\n",
    "- https://seaborn.pydata.org/generated/seaborn.pairplot.html"
   ]
  },
  {
   "cell_type": "markdown",
   "metadata": {},
   "source": [
    "### Feature variance\n",
    "\n",
    "- Drop features with no variance"
   ]
  },
  {
   "cell_type": "code",
   "execution_count": 12,
   "metadata": {},
   "outputs": [
    {
     "data": {
      "text/plain": [
       "(1028, 223)"
      ]
     },
     "metadata": {},
     "output_type": "display_data"
    },
    {
     "data": {
      "text/plain": [
       "RoofMatl_Metal             0.000000\n",
       "Condition2_PosA            0.000000\n",
       "Heating_Wall               0.000000\n",
       "RoofMatl_Roll              0.000000\n",
       "Exterior1st_AsphShn        0.000000\n",
       "Exterior1st_CBlock         0.000000\n",
       "Condition2_PosN            0.000000\n",
       "Exterior1st_ImStucc        0.000000\n",
       "RoofMatl_Membran           0.000000\n",
       "RoofStyle_Shed             0.000000\n",
       "Condition2_RRAe            0.000000\n",
       "MSSubClass_150             0.000000\n",
       "Exterior1st_Stone          0.000000\n",
       "Exterior2nd_Other          0.000000\n",
       "RoofMatl_ClyTile           0.000000\n",
       "Exterior2nd_CBlock         0.000000\n",
       "Exterior1st_Other          0.000000\n",
       "Utilities                  0.000000\n",
       "Exterior2nd_Stone          0.000973\n",
       "Heating_Floor              0.000973\n",
       "Foundation_Wood            0.000973\n",
       "Condition2_RRAn            0.000973\n",
       "RoofMatl_WdShngl           0.000973\n",
       "RoofMatl_WdShake           0.000973\n",
       "Electrical_Mix             0.000973\n",
       "Electrical_FuseP           0.000973\n",
       "Heating_OthW               0.001944\n",
       "Street_Grvl                0.001944\n",
       "Street_Pave                0.001944\n",
       "Exterior1st_BrkComm        0.001944\n",
       "                             ...   \n",
       "Exterior2nd_Plywood        0.079962\n",
       "GarageFinish               0.083838\n",
       "Foundation_BrkTil          0.087114\n",
       "MoSold_4                   0.087114\n",
       "MSSubClass_50              0.088682\n",
       "HouseStyle_1.5Fin          0.091797\n",
       "WeightedFireplaceRating    0.093609\n",
       "YrSold                     0.108189\n",
       "BldgType_1Fam              0.112026\n",
       "Exterior2nd_Wd Sdng        0.112749\n",
       "Exterior1st_Wd Sdng        0.113469\n",
       "Condition1_Norm            0.113469\n",
       "Exterior2nd_HdBoard        0.119168\n",
       "BsmtFinType1               0.120328\n",
       "YearRemodAdd               0.121173\n",
       "MSZoning_RM                0.121273\n",
       "RemodAgeWhenSold           0.121372\n",
       "MoSold_5                   0.126805\n",
       "FireplaceQu                0.127781\n",
       "Exterior1st_HdBoard        0.128848\n",
       "Exterior2nd_MetalSd        0.131546\n",
       "Exterior1st_MetalSd        0.134213\n",
       "MoSold_7                   0.135535\n",
       "RoofStyle_Hip              0.136850\n",
       "MoSold_6                   0.139456\n",
       "LotConfig_Corner           0.144579\n",
       "RoofStyle_Gable            0.145841\n",
       "MSZoning_RL                0.167814\n",
       "MSSubClass_60              0.167814\n",
       "LotConfig_Inside           0.197041\n",
       "Length: 181, dtype: float64"
      ]
     },
     "metadata": {},
     "output_type": "display_data"
    },
    {
     "data": {
      "text/plain": [
       "Series([], dtype: float64)"
      ]
     },
     "metadata": {},
     "output_type": "display_data"
    },
    {
     "data": {
      "text/plain": [
       "(1028, 42)"
      ]
     },
     "metadata": {},
     "output_type": "display_data"
    }
   ],
   "source": [
    "reduced_var_train_data = scaled_train_data.copy()\n",
    "reduced_var_test_data = scaled_test_data.copy()\n",
    "\n",
    "def run_var_analysis():\n",
    "    features = reduced_var_train_data.drop(columns=['Id', 'SalePrice'])\n",
    "\n",
    "    var_feats = features.var()\n",
    "    var_feats_ordered = var_feats.sort_values(ascending=True)\n",
    "    return var_feats_ordered[var_feats_ordered < 0.2]\n",
    "\n",
    "low_variance_feats = run_var_analysis()\n",
    "display(reduced_var_train_data.shape)\n",
    "display(low_variance_feats)\n",
    "\n",
    "reduced_var_train_data.drop(columns=low_variance_feats.index, inplace=True)\n",
    "reduced_var_test_data.drop(columns=low_variance_feats.index, inplace=True)\n",
    "\n",
    "display(run_var_analysis())\n",
    "display(reduced_var_train_data.shape)"
   ]
  },
  {
   "cell_type": "markdown",
   "metadata": {},
   "source": [
    "### Feature correlation\n",
    "\n",
    "- Drop highly correlated features"
   ]
  },
  {
   "cell_type": "code",
   "execution_count": 13,
   "metadata": {
    "scrolled": true
   },
   "outputs": [
    {
     "data": {
      "text/plain": [
       "(1028, 42)"
      ]
     },
     "metadata": {},
     "output_type": "display_data"
    },
    {
     "data": {
      "text/plain": [
       "(1028, 34)"
      ]
     },
     "metadata": {},
     "output_type": "display_data"
    }
   ],
   "source": [
    "reduced_train_data = reduced_var_train_data.copy()\n",
    "reduced_test_data = reduced_var_test_data.copy()\n",
    "\n",
    "def run_corr_analysis():\n",
    "    features = reduced_train_data.drop(columns=['Id', 'SalePrice'])\n",
    "\n",
    "    corr = features.corr().abs()\n",
    "    corr[corr == 1] = 0\n",
    "    corr_cols = corr.max().sort_values(ascending=False)\n",
    "    return corr_cols[corr_cols > 0.8]\n",
    "\n",
    "display(reduced_train_data.shape)\n",
    "\n",
    "corr_results = run_corr_analysis()\n",
    "corr_result_index = 0\n",
    "for corr_result in corr_results.index:\n",
    "    # display(corr_result)\n",
    "    \n",
    "    if (corr_result_index % 2 == 1):\n",
    "        # display(corr_result)\n",
    "        reduced_train_data.drop(columns=[corr_result], inplace=True)\n",
    "        reduced_test_data.drop(columns=[corr_result], inplace=True)\n",
    "    \n",
    "    corr_result_index = corr_result_index + 1\n",
    "\n",
    "display(reduced_train_data.shape)"
   ]
  },
  {
   "cell_type": "markdown",
   "metadata": {},
   "source": [
    "### Target correlation\n",
    "\n",
    "- Drop lowly target-correlated features"
   ]
  },
  {
   "cell_type": "code",
   "execution_count": 14,
   "metadata": {
    "scrolled": true
   },
   "outputs": [
    {
     "data": {
      "text/plain": [
       "(1028, 34)"
      ]
     },
     "metadata": {},
     "output_type": "display_data"
    },
    {
     "data": {
      "text/plain": [
       "PoolArea             0.001629\n",
       "MiscVal              0.008387\n",
       "MSSubClass_20        0.011899\n",
       "BsmtFinSF2           0.021231\n",
       "3SsnPorch            0.043836\n",
       "ScreenPorch          0.073049\n",
       "LowQualFinSF         0.075244\n",
       "LotDepth             0.085522\n",
       "SFMeanPrice          0.099546\n",
       "HouseStyle_1Story    0.104140\n",
       "AreaMeanPrice        0.121453\n",
       "BsmtUnfSF            0.176470\n",
       "EnclosedPorch        0.199878\n",
       "Name: SalePrice, dtype: float64"
      ]
     },
     "metadata": {},
     "output_type": "display_data"
    },
    {
     "data": {
      "text/plain": [
       "Series([], Name: SalePrice, dtype: float64)"
      ]
     },
     "metadata": {},
     "output_type": "display_data"
    },
    {
     "data": {
      "text/plain": [
       "(1028, 21)"
      ]
     },
     "metadata": {},
     "output_type": "display_data"
    }
   ],
   "source": [
    "def run_target_corr_analysis():\n",
    "    features = reduced_train_data.drop(columns=['Id'])\n",
    "\n",
    "    corr = features.corr().abs()\n",
    "    target_corr = corr['SalePrice'].sort_values(ascending=True)\n",
    "    return target_corr[target_corr < 0.2]\n",
    "\n",
    "lowly_correlated_feats = run_target_corr_analysis()\n",
    "display(reduced_train_data.shape)\n",
    "display(lowly_correlated_feats)\n",
    "\n",
    "reduced_train_data.drop(columns=lowly_correlated_feats.index, inplace=True)\n",
    "reduced_test_data.drop(columns=lowly_correlated_feats.index, inplace=True)\n",
    "\n",
    "display(run_target_corr_analysis())\n",
    "display(reduced_train_data.shape)"
   ]
  },
  {
   "cell_type": "markdown",
   "metadata": {},
   "source": [
    "### Feature importance\n",
    "\n",
    "- Drop lowly important features"
   ]
  },
  {
   "cell_type": "code",
   "execution_count": 15,
   "metadata": {},
   "outputs": [
    {
     "data": {
      "text/plain": [
       "(1028, 21)"
      ]
     },
     "metadata": {},
     "output_type": "display_data"
    },
    {
     "data": {
      "text/plain": [
       "Index([u'BedroomAbvGr', u'Exterior1st_VinylSd', u'Foundation_PConc',\n",
       "       u'GarageTypeMeanPrice', u'HouseStyle_2Story', u'LotArea',\n",
       "       u'LotFrontage', u'MasVnrArea', u'MasVnrType_BrkFace', u'OpenPorchSF',\n",
       "       u'TotalBsmtSF', u'WoodDeckSF', u'PorchSF', u'NetBuildingMeanPrice'],\n",
       "      dtype='object')"
      ]
     },
     "metadata": {},
     "output_type": "display_data"
    },
    {
     "data": {
      "text/plain": [
       "Index([], dtype='object')"
      ]
     },
     "metadata": {},
     "output_type": "display_data"
    },
    {
     "data": {
      "text/plain": [
       "(1028, 7)"
      ]
     },
     "metadata": {},
     "output_type": "display_data"
    }
   ],
   "source": [
    "from sklearn.ensemble import RandomForestRegressor\n",
    "\n",
    "rfr = RandomForestRegressor(n_jobs=-1, random_state=42, n_estimators=50)\n",
    "\n",
    "feature_selected_train_data = reduced_train_data.copy()\n",
    "feature_selected_test_data = reduced_test_data.copy()\n",
    "\n",
    "def run_importance_analysis():\n",
    "    features = feature_selected_train_data.drop(columns=['Id', 'SalePrice'])\n",
    "    \n",
    "    rfr_importance_analyser = rfr.fit(features, feature_selected_train_data['SalePrice'])\n",
    "    return features.columns[rfr_importance_analyser.feature_importances_ < 0.02]\n",
    "\n",
    "low_importance_feats = run_importance_analysis()\n",
    "display(feature_selected_train_data.shape)\n",
    "display(low_importance_feats)\n",
    "\n",
    "feature_selected_train_data.drop(columns=low_importance_feats, inplace=True)\n",
    "feature_selected_test_data.drop(columns=low_importance_feats, inplace=True)\n",
    "\n",
    "display(run_importance_analysis())\n",
    "display(feature_selected_train_data.shape)"
   ]
  },
  {
   "cell_type": "code",
   "execution_count": 16,
   "metadata": {
    "scrolled": true
   },
   "outputs": [
    {
     "data": {
      "text/html": [
       "<div>\n",
       "<style scoped>\n",
       "    .dataframe tbody tr th:only-of-type {\n",
       "        vertical-align: middle;\n",
       "    }\n",
       "\n",
       "    .dataframe tbody tr th {\n",
       "        vertical-align: top;\n",
       "    }\n",
       "\n",
       "    .dataframe thead th {\n",
       "        text-align: right;\n",
       "    }\n",
       "</style>\n",
       "<table border=\"1\" class=\"dataframe\">\n",
       "  <thead>\n",
       "    <tr style=\"text-align: right;\">\n",
       "      <th></th>\n",
       "      <th>BsmtFinSF1</th>\n",
       "      <th>GarageArea</th>\n",
       "      <th>Id</th>\n",
       "      <th>SalePrice</th>\n",
       "      <th>FloorSF</th>\n",
       "      <th>HouseSF</th>\n",
       "      <th>WeightedNeighborhoodMeanPrice</th>\n",
       "    </tr>\n",
       "  </thead>\n",
       "  <tbody>\n",
       "    <tr>\n",
       "      <th>count</th>\n",
       "      <td>1028.000000</td>\n",
       "      <td>1028.000000</td>\n",
       "      <td>1028.000000</td>\n",
       "      <td>1028.000000</td>\n",
       "      <td>1028.000000</td>\n",
       "      <td>1028.000000</td>\n",
       "      <td>1028.000000</td>\n",
       "    </tr>\n",
       "    <tr>\n",
       "      <th>mean</th>\n",
       "      <td>414.585603</td>\n",
       "      <td>451.845331</td>\n",
       "      <td>732.459144</td>\n",
       "      <td>168071.782101</td>\n",
       "      <td>1400.713035</td>\n",
       "      <td>2157.009241</td>\n",
       "      <td>175341.038294</td>\n",
       "    </tr>\n",
       "    <tr>\n",
       "      <th>std</th>\n",
       "      <td>393.970246</td>\n",
       "      <td>191.697934</td>\n",
       "      <td>421.466399</td>\n",
       "      <td>56130.459219</td>\n",
       "      <td>406.976359</td>\n",
       "      <td>537.716240</td>\n",
       "      <td>48316.145644</td>\n",
       "    </tr>\n",
       "    <tr>\n",
       "      <th>min</th>\n",
       "      <td>0.000000</td>\n",
       "      <td>0.000000</td>\n",
       "      <td>1.000000</td>\n",
       "      <td>35311.000000</td>\n",
       "      <td>334.000000</td>\n",
       "      <td>334.000000</td>\n",
       "      <td>98777.175510</td>\n",
       "    </tr>\n",
       "    <tr>\n",
       "      <th>25%</th>\n",
       "      <td>0.000000</td>\n",
       "      <td>312.000000</td>\n",
       "      <td>367.750000</td>\n",
       "      <td>129500.000000</td>\n",
       "      <td>1085.000000</td>\n",
       "      <td>1750.312500</td>\n",
       "      <td>137051.100000</td>\n",
       "    </tr>\n",
       "    <tr>\n",
       "      <th>50%</th>\n",
       "      <td>384.000000</td>\n",
       "      <td>461.500000</td>\n",
       "      <td>739.500000</td>\n",
       "      <td>158000.000000</td>\n",
       "      <td>1377.000000</td>\n",
       "      <td>2124.375000</td>\n",
       "      <td>187022.390000</td>\n",
       "    </tr>\n",
       "    <tr>\n",
       "      <th>75%</th>\n",
       "      <td>690.500000</td>\n",
       "      <td>564.000000</td>\n",
       "      <td>1099.250000</td>\n",
       "      <td>197600.000000</td>\n",
       "      <td>1668.000000</td>\n",
       "      <td>2548.125000</td>\n",
       "      <td>199130.505882</td>\n",
       "    </tr>\n",
       "    <tr>\n",
       "      <th>max</th>\n",
       "      <td>1619.000000</td>\n",
       "      <td>1053.000000</td>\n",
       "      <td>1458.000000</td>\n",
       "      <td>370878.000000</td>\n",
       "      <td>2730.000000</td>\n",
       "      <td>3856.500000</td>\n",
       "      <td>337059.710526</td>\n",
       "    </tr>\n",
       "  </tbody>\n",
       "</table>\n",
       "</div>"
      ],
      "text/plain": [
       "        BsmtFinSF1   GarageArea           Id      SalePrice      FloorSF  \\\n",
       "count  1028.000000  1028.000000  1028.000000    1028.000000  1028.000000   \n",
       "mean    414.585603   451.845331   732.459144  168071.782101  1400.713035   \n",
       "std     393.970246   191.697934   421.466399   56130.459219   406.976359   \n",
       "min       0.000000     0.000000     1.000000   35311.000000   334.000000   \n",
       "25%       0.000000   312.000000   367.750000  129500.000000  1085.000000   \n",
       "50%     384.000000   461.500000   739.500000  158000.000000  1377.000000   \n",
       "75%     690.500000   564.000000  1099.250000  197600.000000  1668.000000   \n",
       "max    1619.000000  1053.000000  1458.000000  370878.000000  2730.000000   \n",
       "\n",
       "           HouseSF  WeightedNeighborhoodMeanPrice  \n",
       "count  1028.000000                    1028.000000  \n",
       "mean   2157.009241                  175341.038294  \n",
       "std     537.716240                   48316.145644  \n",
       "min     334.000000                   98777.175510  \n",
       "25%    1750.312500                  137051.100000  \n",
       "50%    2124.375000                  187022.390000  \n",
       "75%    2548.125000                  199130.505882  \n",
       "max    3856.500000                  337059.710526  "
      ]
     },
     "execution_count": 16,
     "metadata": {},
     "output_type": "execute_result"
    }
   ],
   "source": [
    "feature_selected_train_data.describe()"
   ]
  },
  {
   "cell_type": "markdown",
   "metadata": {},
   "source": [
    "## Clustering"
   ]
  },
  {
   "cell_type": "code",
   "execution_count": 17,
   "metadata": {},
   "outputs": [
    {
     "data": {
      "text/plain": [
       "4"
      ]
     },
     "execution_count": 17,
     "metadata": {},
     "output_type": "execute_result"
    }
   ],
   "source": [
    "from sklearn.cluster import KMeans\n",
    "from sklearn.metrics import silhouette_score\n",
    "\n",
    "clusters_range = range(2, 11)\n",
    "scores = []\n",
    "\n",
    "for n_clusters in clusters_range:\n",
    "    kmeans = KMeans(n_clusters=n_clusters, n_jobs=-1, random_state=42)\n",
    "    result = kmeans.fit_predict(feature_selected_train_data.drop(columns=['Id', 'SalePrice']))\n",
    "    \n",
    "    curr_score = silhouette_score(feature_selected_train_data, result)\n",
    "    scores.append(curr_score)\n",
    "    # display(curr_score)\n",
    "    \n",
    "cluster_scores_df = pd.DataFrame({ 'scores': scores, 'n_clusters': clusters_range })\n",
    "best_score = cluster_scores_df['scores'].max()\n",
    "n_clusters = cluster_scores_df[cluster_scores_df['scores'] == best_score]['n_clusters'].values[0] + 1\n",
    "n_clusters"
   ]
  },
  {
   "cell_type": "code",
   "execution_count": 18,
   "metadata": {},
   "outputs": [
    {
     "data": {
      "text/plain": [
       "count    1028.000000\n",
       "mean        1.650778\n",
       "std         1.072644\n",
       "min         0.000000\n",
       "25%         1.000000\n",
       "50%         1.000000\n",
       "75%         3.000000\n",
       "max         3.000000\n",
       "Name: Cluster, dtype: float64"
      ]
     },
     "execution_count": 18,
     "metadata": {},
     "output_type": "execute_result"
    }
   ],
   "source": [
    "from sklearn.cluster import KMeans\n",
    "\n",
    "kmeans = KMeans(n_clusters=n_clusters, n_jobs=-1, random_state=42)\n",
    "result = kmeans.fit_predict(feature_selected_train_data.drop(columns=['Id', 'SalePrice']))\n",
    "test_result = kmeans.predict(feature_selected_test_data.drop(columns=['Id']))\n",
    "\n",
    "# enable clustering\n",
    "feature_selected_train_data['Cluster'] = result\n",
    "feature_selected_test_data['Cluster'] = test_result\n",
    "\n",
    "# disable clustering\n",
    "# feature_selected_train_data['Cluster'] = 0\n",
    "# feature_selected_test_data['Cluster'] = 0\n",
    "# n_clusters = 1\n",
    "\n",
    "feature_selected_train_data['Cluster'].describe()"
   ]
  },
  {
   "cell_type": "markdown",
   "metadata": {},
   "source": [
    "## Regression Model Selection"
   ]
  },
  {
   "cell_type": "code",
   "execution_count": 19,
   "metadata": {},
   "outputs": [],
   "source": [
    "from sklearn.metrics import mean_squared_log_error, make_scorer\n",
    "from sklearn.model_selection import KFold, GridSearchCV\n",
    "\n",
    "def kfold(model, name, cluster, train_X, train_y):\n",
    "    kf = KFold(n_splits=2, random_state=42, shuffle=False)\n",
    "    \n",
    "    train_scores = []\n",
    "    test_scores = []\n",
    "\n",
    "    for kf_chunks in kf.split(train_X):\n",
    "        train_index = kf_chunks[0]\n",
    "        test_index = kf_chunks[1]\n",
    "\n",
    "        X_train = train_X.iloc[train_index]\n",
    "        X_test = train_X.iloc[test_index]\n",
    "        y_train = train_y.iloc[train_index]\n",
    "        y_test = train_y.iloc[test_index]\n",
    "\n",
    "        model_predictor = model.fit(X_train, y_train)\n",
    "        y_train_predicted = model_predictor.predict(X_train)\n",
    "        y_test_predicted = model_predictor.predict(X_test)\n",
    "\n",
    "        y_train_predicted[y_train_predicted < 0] = 0\n",
    "        y_test_predicted[y_test_predicted < 0] = 0\n",
    "\n",
    "        train_score = np.sqrt(mean_squared_log_error(y_train, y_train_predicted))\n",
    "        test_score = np.sqrt(mean_squared_log_error(y_test, y_test_predicted))\n",
    "        \n",
    "        train_scores.append(train_score)\n",
    "        test_scores.append(test_score)\n",
    "\n",
    "        print('[{}][{}] Current fold train performance'.format(name, cluster), train_score)\n",
    "        print('[{}][{}] Current fold test performance'.format(name, cluster), test_score)\n",
    "        \n",
    "    return train_scores, test_scores\n",
    "\n",
    "def custom_scorer(y, y_pred):\n",
    "    y_pred[y_pred < 0] = 0\n",
    "    return np.sqrt(mean_squared_log_error(y, y_pred))\n",
    "\n",
    "gs_scorer = make_scorer(custom_scorer, greater_is_better=False)\n",
    "\n",
    "def tune_model(Model, name, default_params, cv_params):    \n",
    "    best_params = []\n",
    "    merged_params_arr = []\n",
    "    model_train_scores = []\n",
    "    model_test_scores = []\n",
    "    mean_train_scores = []\n",
    "    mean_test_scores = []\n",
    "\n",
    "    for cluster in range(n_clusters):\n",
    "        current_cluster_filter = feature_selected_train_data['Cluster'] == cluster\n",
    "\n",
    "        gs_train_X = feature_selected_train_data[current_cluster_filter].drop(columns=['Id', 'SalePrice', 'Cluster'])\n",
    "        gs_train_y = feature_selected_train_data[current_cluster_filter]['SalePrice']\n",
    "\n",
    "        gs = GridSearchCV(Model(**default_params), cv_params, n_jobs=-1, cv=2, scoring=gs_scorer)\n",
    "\n",
    "        gs_predictor = gs.fit(gs_train_X, gs_train_y)\n",
    "\n",
    "        best_params.append(gs_predictor.best_params_)\n",
    "        \n",
    "        merged_params = dict()\n",
    "        merged_params.update(default_params)\n",
    "        merged_params.update(gs_predictor.best_params_)\n",
    "        merged_params_arr.append(merged_params)\n",
    "        \n",
    "        train_scores, test_scores = kfold(Model(**merged_params), name, cluster, gs_train_X, gs_train_y)\n",
    "        \n",
    "        model_train_scores.append(train_scores)\n",
    "        model_test_scores.append(test_scores)\n",
    "        \n",
    "        mean_train_scores.append(np.mean(train_scores))\n",
    "        mean_test_scores.append(np.mean(test_scores))\n",
    "\n",
    "    model_arr = np.full((1, n_clusters), name, object)[0]\n",
    "    return pd.DataFrame({\n",
    "        'cluster': range(n_clusters),\n",
    "        'params_cv': best_params,\n",
    "        'params_full': merged_params_arr,\n",
    "        'model': model_arr,\n",
    "        'train_scores': model_train_scores,\n",
    "        'test_scores': model_test_scores,\n",
    "        'train_score': mean_train_scores,\n",
    "        'test_score': mean_test_scores,\n",
    "    })\n"
   ]
  },
  {
   "cell_type": "markdown",
   "metadata": {},
   "source": [
    "### Linear Regression"
   ]
  },
  {
   "cell_type": "code",
   "execution_count": 20,
   "metadata": {},
   "outputs": [
    {
     "name": "stdout",
     "output_type": "stream",
     "text": [
      "('[Linear Regression][0] Current fold train performance', 0.09556374019547943)\n",
      "('[Linear Regression][0] Current fold test performance', 0.11396288433248082)\n",
      "('[Linear Regression][0] Current fold train performance', 0.10137996301819449)\n",
      "('[Linear Regression][0] Current fold test performance', 0.1166600046774641)\n",
      "('[Linear Regression][1] Current fold train performance', 0.16035829238122212)\n",
      "('[Linear Regression][1] Current fold test performance', 0.17304662451182376)\n",
      "('[Linear Regression][1] Current fold train performance', 0.1700258131669013)\n",
      "('[Linear Regression][1] Current fold test performance', 0.16792269150596995)\n",
      "('[Linear Regression][2] Current fold train performance', 0.08944219471678137)\n",
      "('[Linear Regression][2] Current fold test performance', 0.08041574531884074)\n",
      "('[Linear Regression][2] Current fold train performance', 0.06852229869342451)\n",
      "('[Linear Regression][2] Current fold test performance', 0.09995572103130652)\n",
      "('[Linear Regression][3] Current fold train performance', 0.10453007556450254)\n",
      "('[Linear Regression][3] Current fold test performance', 0.12167767920497417)\n",
      "('[Linear Regression][3] Current fold train performance', 0.11882507693263102)\n",
      "('[Linear Regression][3] Current fold test performance', 0.1073554660425421)\n"
     ]
    },
    {
     "name": "stderr",
     "output_type": "stream",
     "text": [
      "/home/priadri/anaconda2/lib/python2.7/site-packages/sklearn/model_selection/_search.py:841: DeprecationWarning: The default of the `iid` parameter will change from True to False in version 0.22 and will be removed in 0.24. This will change numeric results when test-set sizes are unequal.\n",
      "  DeprecationWarning)\n"
     ]
    },
    {
     "data": {
      "text/html": [
       "<div>\n",
       "<style scoped>\n",
       "    .dataframe tbody tr th:only-of-type {\n",
       "        vertical-align: middle;\n",
       "    }\n",
       "\n",
       "    .dataframe tbody tr th {\n",
       "        vertical-align: top;\n",
       "    }\n",
       "\n",
       "    .dataframe thead th {\n",
       "        text-align: right;\n",
       "    }\n",
       "</style>\n",
       "<table border=\"1\" class=\"dataframe\">\n",
       "  <thead>\n",
       "    <tr style=\"text-align: right;\">\n",
       "      <th></th>\n",
       "      <th>cluster</th>\n",
       "      <th>model</th>\n",
       "      <th>params_cv</th>\n",
       "      <th>params_full</th>\n",
       "      <th>test_score</th>\n",
       "      <th>test_scores</th>\n",
       "      <th>train_score</th>\n",
       "      <th>train_scores</th>\n",
       "    </tr>\n",
       "  </thead>\n",
       "  <tbody>\n",
       "    <tr>\n",
       "      <th>0</th>\n",
       "      <td>0</td>\n",
       "      <td>Linear Regression</td>\n",
       "      <td>{u'normalize': True, u'fit_intercept': True}</td>\n",
       "      <td>{u'copy_X': True, u'normalize': True, u'n_jobs...</td>\n",
       "      <td>0.115311</td>\n",
       "      <td>[0.11396288433248082, 0.1166600046774641]</td>\n",
       "      <td>0.098472</td>\n",
       "      <td>[0.09556374019547943, 0.10137996301819449]</td>\n",
       "    </tr>\n",
       "    <tr>\n",
       "      <th>1</th>\n",
       "      <td>1</td>\n",
       "      <td>Linear Regression</td>\n",
       "      <td>{u'normalize': False, u'fit_intercept': True}</td>\n",
       "      <td>{u'copy_X': True, u'normalize': False, u'n_job...</td>\n",
       "      <td>0.170485</td>\n",
       "      <td>[0.17304662451182376, 0.16792269150596995]</td>\n",
       "      <td>0.165192</td>\n",
       "      <td>[0.16035829238122212, 0.1700258131669013]</td>\n",
       "    </tr>\n",
       "    <tr>\n",
       "      <th>2</th>\n",
       "      <td>2</td>\n",
       "      <td>Linear Regression</td>\n",
       "      <td>{u'normalize': True, u'fit_intercept': False}</td>\n",
       "      <td>{u'copy_X': True, u'normalize': True, u'n_jobs...</td>\n",
       "      <td>0.090186</td>\n",
       "      <td>[0.08041574531884074, 0.09995572103130652]</td>\n",
       "      <td>0.078982</td>\n",
       "      <td>[0.08944219471678137, 0.06852229869342451]</td>\n",
       "    </tr>\n",
       "    <tr>\n",
       "      <th>3</th>\n",
       "      <td>3</td>\n",
       "      <td>Linear Regression</td>\n",
       "      <td>{u'normalize': True, u'fit_intercept': True}</td>\n",
       "      <td>{u'copy_X': True, u'normalize': True, u'n_jobs...</td>\n",
       "      <td>0.114517</td>\n",
       "      <td>[0.12167767920497417, 0.1073554660425421]</td>\n",
       "      <td>0.111678</td>\n",
       "      <td>[0.10453007556450254, 0.11882507693263102]</td>\n",
       "    </tr>\n",
       "  </tbody>\n",
       "</table>\n",
       "</div>"
      ],
      "text/plain": [
       "   cluster              model                                      params_cv  \\\n",
       "0        0  Linear Regression   {u'normalize': True, u'fit_intercept': True}   \n",
       "1        1  Linear Regression  {u'normalize': False, u'fit_intercept': True}   \n",
       "2        2  Linear Regression  {u'normalize': True, u'fit_intercept': False}   \n",
       "3        3  Linear Regression   {u'normalize': True, u'fit_intercept': True}   \n",
       "\n",
       "                                         params_full  test_score  \\\n",
       "0  {u'copy_X': True, u'normalize': True, u'n_jobs...    0.115311   \n",
       "1  {u'copy_X': True, u'normalize': False, u'n_job...    0.170485   \n",
       "2  {u'copy_X': True, u'normalize': True, u'n_jobs...    0.090186   \n",
       "3  {u'copy_X': True, u'normalize': True, u'n_jobs...    0.114517   \n",
       "\n",
       "                                  test_scores  train_score  \\\n",
       "0   [0.11396288433248082, 0.1166600046774641]     0.098472   \n",
       "1  [0.17304662451182376, 0.16792269150596995]     0.165192   \n",
       "2  [0.08041574531884074, 0.09995572103130652]     0.078982   \n",
       "3   [0.12167767920497417, 0.1073554660425421]     0.111678   \n",
       "\n",
       "                                 train_scores  \n",
       "0  [0.09556374019547943, 0.10137996301819449]  \n",
       "1   [0.16035829238122212, 0.1700258131669013]  \n",
       "2  [0.08944219471678137, 0.06852229869342451]  \n",
       "3  [0.10453007556450254, 0.11882507693263102]  "
      ]
     },
     "execution_count": 20,
     "metadata": {},
     "output_type": "execute_result"
    }
   ],
   "source": [
    "from sklearn.linear_model import LinearRegression\n",
    "   \n",
    "lr_df = tune_model(LinearRegression, 'Linear Regression', {\n",
    "    'copy_X': True,\n",
    "    'n_jobs': -1\n",
    "}, {\n",
    "    'fit_intercept': [True, False],\n",
    "    'normalize': [True, False]\n",
    "})\n",
    "lr_df"
   ]
  },
  {
   "cell_type": "markdown",
   "metadata": {},
   "source": [
    "### Random Forest"
   ]
  },
  {
   "cell_type": "code",
   "execution_count": 21,
   "metadata": {},
   "outputs": [
    {
     "name": "stdout",
     "output_type": "stream",
     "text": [
      "('[Random Forest][0] Current fold train performance', 0.05423050917771191)\n",
      "('[Random Forest][0] Current fold test performance', 0.12134133631557506)\n",
      "('[Random Forest][0] Current fold train performance', 0.056790264431870255)\n",
      "('[Random Forest][0] Current fold test performance', 0.11104391322683084)\n",
      "('[Random Forest][1] Current fold train performance', 0.10500949340909765)\n",
      "('[Random Forest][1] Current fold test performance', 0.1850527305660619)\n",
      "('[Random Forest][1] Current fold train performance', 0.11872511894294294)\n",
      "('[Random Forest][1] Current fold test performance', 0.18276575824184463)\n"
     ]
    },
    {
     "name": "stderr",
     "output_type": "stream",
     "text": [
      "/home/priadri/anaconda2/lib/python2.7/site-packages/sklearn/model_selection/_search.py:841: DeprecationWarning: The default of the `iid` parameter will change from True to False in version 0.22 and will be removed in 0.24. This will change numeric results when test-set sizes are unequal.\n",
      "  DeprecationWarning)\n"
     ]
    },
    {
     "name": "stdout",
     "output_type": "stream",
     "text": [
      "('[Random Forest][2] Current fold train performance', 0.06764295586994745)\n",
      "('[Random Forest][2] Current fold test performance', 0.091228477923369)\n",
      "('[Random Forest][2] Current fold train performance', 0.04079609718670491)\n",
      "('[Random Forest][2] Current fold test performance', 0.1180800795743933)\n",
      "('[Random Forest][3] Current fold train performance', 0.058183991981758096)\n",
      "('[Random Forest][3] Current fold test performance', 0.12796121305923425)\n",
      "('[Random Forest][3] Current fold train performance', 0.07214194990886598)\n",
      "('[Random Forest][3] Current fold test performance', 0.11385999338639587)\n"
     ]
    },
    {
     "data": {
      "text/html": [
       "<div>\n",
       "<style scoped>\n",
       "    .dataframe tbody tr th:only-of-type {\n",
       "        vertical-align: middle;\n",
       "    }\n",
       "\n",
       "    .dataframe tbody tr th {\n",
       "        vertical-align: top;\n",
       "    }\n",
       "\n",
       "    .dataframe thead th {\n",
       "        text-align: right;\n",
       "    }\n",
       "</style>\n",
       "<table border=\"1\" class=\"dataframe\">\n",
       "  <thead>\n",
       "    <tr style=\"text-align: right;\">\n",
       "      <th></th>\n",
       "      <th>cluster</th>\n",
       "      <th>model</th>\n",
       "      <th>params_cv</th>\n",
       "      <th>params_full</th>\n",
       "      <th>test_score</th>\n",
       "      <th>test_scores</th>\n",
       "      <th>train_score</th>\n",
       "      <th>train_scores</th>\n",
       "    </tr>\n",
       "  </thead>\n",
       "  <tbody>\n",
       "    <tr>\n",
       "      <th>0</th>\n",
       "      <td>0</td>\n",
       "      <td>Random Forest</td>\n",
       "      <td>{u'min_samples_split': 2, u'n_estimators': 100...</td>\n",
       "      <td>{u'n_estimators': 100, u'random_state': 42, u'...</td>\n",
       "      <td>0.116193</td>\n",
       "      <td>[0.12134133631557506, 0.11104391322683084]</td>\n",
       "      <td>0.055510</td>\n",
       "      <td>[0.05423050917771191, 0.056790264431870255]</td>\n",
       "    </tr>\n",
       "    <tr>\n",
       "      <th>1</th>\n",
       "      <td>1</td>\n",
       "      <td>Random Forest</td>\n",
       "      <td>{u'min_samples_split': 2, u'n_estimators': 50,...</td>\n",
       "      <td>{u'n_estimators': 50, u'random_state': 42, u'n...</td>\n",
       "      <td>0.183909</td>\n",
       "      <td>[0.1850527305660619, 0.18276575824184463]</td>\n",
       "      <td>0.111867</td>\n",
       "      <td>[0.10500949340909765, 0.11872511894294294]</td>\n",
       "    </tr>\n",
       "    <tr>\n",
       "      <th>2</th>\n",
       "      <td>2</td>\n",
       "      <td>Random Forest</td>\n",
       "      <td>{u'min_samples_split': 2, u'n_estimators': 50,...</td>\n",
       "      <td>{u'n_estimators': 50, u'random_state': 42, u'n...</td>\n",
       "      <td>0.104654</td>\n",
       "      <td>[0.091228477923369, 0.1180800795743933]</td>\n",
       "      <td>0.054220</td>\n",
       "      <td>[0.06764295586994745, 0.04079609718670491]</td>\n",
       "    </tr>\n",
       "    <tr>\n",
       "      <th>3</th>\n",
       "      <td>3</td>\n",
       "      <td>Random Forest</td>\n",
       "      <td>{u'min_samples_split': 3, u'n_estimators': 10,...</td>\n",
       "      <td>{u'n_estimators': 10, u'random_state': 42, u'n...</td>\n",
       "      <td>0.120911</td>\n",
       "      <td>[0.12796121305923425, 0.11385999338639587]</td>\n",
       "      <td>0.065163</td>\n",
       "      <td>[0.058183991981758096, 0.07214194990886598]</td>\n",
       "    </tr>\n",
       "  </tbody>\n",
       "</table>\n",
       "</div>"
      ],
      "text/plain": [
       "   cluster          model                                          params_cv  \\\n",
       "0        0  Random Forest  {u'min_samples_split': 2, u'n_estimators': 100...   \n",
       "1        1  Random Forest  {u'min_samples_split': 2, u'n_estimators': 50,...   \n",
       "2        2  Random Forest  {u'min_samples_split': 2, u'n_estimators': 50,...   \n",
       "3        3  Random Forest  {u'min_samples_split': 3, u'n_estimators': 10,...   \n",
       "\n",
       "                                         params_full  test_score  \\\n",
       "0  {u'n_estimators': 100, u'random_state': 42, u'...    0.116193   \n",
       "1  {u'n_estimators': 50, u'random_state': 42, u'n...    0.183909   \n",
       "2  {u'n_estimators': 50, u'random_state': 42, u'n...    0.104654   \n",
       "3  {u'n_estimators': 10, u'random_state': 42, u'n...    0.120911   \n",
       "\n",
       "                                  test_scores  train_score  \\\n",
       "0  [0.12134133631557506, 0.11104391322683084]     0.055510   \n",
       "1   [0.1850527305660619, 0.18276575824184463]     0.111867   \n",
       "2     [0.091228477923369, 0.1180800795743933]     0.054220   \n",
       "3  [0.12796121305923425, 0.11385999338639587]     0.065163   \n",
       "\n",
       "                                  train_scores  \n",
       "0  [0.05423050917771191, 0.056790264431870255]  \n",
       "1   [0.10500949340909765, 0.11872511894294294]  \n",
       "2   [0.06764295586994745, 0.04079609718670491]  \n",
       "3  [0.058183991981758096, 0.07214194990886598]  "
      ]
     },
     "execution_count": 21,
     "metadata": {},
     "output_type": "execute_result"
    }
   ],
   "source": [
    "from sklearn.ensemble import RandomForestRegressor\n",
    "   \n",
    "rfr_df = tune_model(RandomForestRegressor, 'Random Forest', {\n",
    "    'random_state': 42,\n",
    "    'n_jobs': -1\n",
    "}, {\n",
    "    'n_estimators': [10, 50, 100],\n",
    "    'max_depth': [2, 5, 10],\n",
    "    'min_samples_split': [2, 3],\n",
    "    'min_samples_leaf': [2, 3]\n",
    "})\n",
    "rfr_df"
   ]
  },
  {
   "cell_type": "markdown",
   "metadata": {},
   "source": [
    "### Gradient Boosting Regressor"
   ]
  },
  {
   "cell_type": "code",
   "execution_count": 22,
   "metadata": {},
   "outputs": [
    {
     "name": "stdout",
     "output_type": "stream",
     "text": [
      "('[GradientBoosting][0] Current fold train performance', 0.038684252323911934)\n",
      "('[GradientBoosting][0] Current fold test performance', 0.12050727242039133)\n",
      "('[GradientBoosting][0] Current fold train performance', 0.03323489564138827)\n",
      "('[GradientBoosting][0] Current fold test performance', 0.10629909458749727)\n",
      "('[GradientBoosting][1] Current fold train performance', 0.11872530083964154)\n",
      "('[GradientBoosting][1] Current fold test performance', 0.18337425362947474)\n",
      "('[GradientBoosting][1] Current fold train performance', 0.1391459299433792)\n",
      "('[GradientBoosting][1] Current fold test performance', 0.1802657932067858)\n"
     ]
    },
    {
     "name": "stderr",
     "output_type": "stream",
     "text": [
      "/home/priadri/anaconda2/lib/python2.7/site-packages/sklearn/model_selection/_search.py:841: DeprecationWarning: The default of the `iid` parameter will change from True to False in version 0.22 and will be removed in 0.24. This will change numeric results when test-set sizes are unequal.\n",
      "  DeprecationWarning)\n"
     ]
    },
    {
     "name": "stdout",
     "output_type": "stream",
     "text": [
      "('[GradientBoosting][2] Current fold train performance', 0.027136819944411642)\n",
      "('[GradientBoosting][2] Current fold test performance', 0.08434596755589555)\n",
      "('[GradientBoosting][2] Current fold train performance', 0.020541113403315523)\n",
      "('[GradientBoosting][2] Current fold test performance', 0.12333248356823068)\n",
      "('[GradientBoosting][3] Current fold train performance', 0.06570794573518424)\n",
      "('[GradientBoosting][3] Current fold test performance', 0.12320001860054487)\n",
      "('[GradientBoosting][3] Current fold train performance', 0.07133286517660112)\n",
      "('[GradientBoosting][3] Current fold test performance', 0.10029275315230621)\n"
     ]
    },
    {
     "data": {
      "text/html": [
       "<div>\n",
       "<style scoped>\n",
       "    .dataframe tbody tr th:only-of-type {\n",
       "        vertical-align: middle;\n",
       "    }\n",
       "\n",
       "    .dataframe tbody tr th {\n",
       "        vertical-align: top;\n",
       "    }\n",
       "\n",
       "    .dataframe thead th {\n",
       "        text-align: right;\n",
       "    }\n",
       "</style>\n",
       "<table border=\"1\" class=\"dataframe\">\n",
       "  <thead>\n",
       "    <tr style=\"text-align: right;\">\n",
       "      <th></th>\n",
       "      <th>cluster</th>\n",
       "      <th>model</th>\n",
       "      <th>params_cv</th>\n",
       "      <th>params_full</th>\n",
       "      <th>test_score</th>\n",
       "      <th>test_scores</th>\n",
       "      <th>train_score</th>\n",
       "      <th>train_scores</th>\n",
       "    </tr>\n",
       "  </thead>\n",
       "  <tbody>\n",
       "    <tr>\n",
       "      <th>0</th>\n",
       "      <td>0</td>\n",
       "      <td>GradientBoosting</td>\n",
       "      <td>{u'min_samples_split': 6, u'loss': u'lad', u'n...</td>\n",
       "      <td>{u'presort': True, u'loss': u'lad', u'learning...</td>\n",
       "      <td>0.113403</td>\n",
       "      <td>[0.12050727242039133, 0.10629909458749727]</td>\n",
       "      <td>0.035960</td>\n",
       "      <td>[0.038684252323911934, 0.03323489564138827]</td>\n",
       "    </tr>\n",
       "    <tr>\n",
       "      <th>1</th>\n",
       "      <td>1</td>\n",
       "      <td>GradientBoosting</td>\n",
       "      <td>{u'min_samples_split': 6, u'loss': u'lad', u'n...</td>\n",
       "      <td>{u'presort': True, u'loss': u'lad', u'learning...</td>\n",
       "      <td>0.181820</td>\n",
       "      <td>[0.18337425362947474, 0.1802657932067858]</td>\n",
       "      <td>0.128936</td>\n",
       "      <td>[0.11872530083964154, 0.1391459299433792]</td>\n",
       "    </tr>\n",
       "    <tr>\n",
       "      <th>2</th>\n",
       "      <td>2</td>\n",
       "      <td>GradientBoosting</td>\n",
       "      <td>{u'min_samples_split': 2, u'loss': u'ls', u'n_...</td>\n",
       "      <td>{u'presort': True, u'loss': u'ls', u'learning_...</td>\n",
       "      <td>0.103839</td>\n",
       "      <td>[0.08434596755589555, 0.12333248356823068]</td>\n",
       "      <td>0.023839</td>\n",
       "      <td>[0.027136819944411642, 0.020541113403315523]</td>\n",
       "    </tr>\n",
       "    <tr>\n",
       "      <th>3</th>\n",
       "      <td>3</td>\n",
       "      <td>GradientBoosting</td>\n",
       "      <td>{u'min_samples_split': 4, u'loss': u'lad', u'n...</td>\n",
       "      <td>{u'presort': True, u'loss': u'lad', u'learning...</td>\n",
       "      <td>0.111746</td>\n",
       "      <td>[0.12320001860054487, 0.10029275315230621]</td>\n",
       "      <td>0.068520</td>\n",
       "      <td>[0.06570794573518424, 0.07133286517660112]</td>\n",
       "    </tr>\n",
       "  </tbody>\n",
       "</table>\n",
       "</div>"
      ],
      "text/plain": [
       "   cluster             model  \\\n",
       "0        0  GradientBoosting   \n",
       "1        1  GradientBoosting   \n",
       "2        2  GradientBoosting   \n",
       "3        3  GradientBoosting   \n",
       "\n",
       "                                           params_cv  \\\n",
       "0  {u'min_samples_split': 6, u'loss': u'lad', u'n...   \n",
       "1  {u'min_samples_split': 6, u'loss': u'lad', u'n...   \n",
       "2  {u'min_samples_split': 2, u'loss': u'ls', u'n_...   \n",
       "3  {u'min_samples_split': 4, u'loss': u'lad', u'n...   \n",
       "\n",
       "                                         params_full  test_score  \\\n",
       "0  {u'presort': True, u'loss': u'lad', u'learning...    0.113403   \n",
       "1  {u'presort': True, u'loss': u'lad', u'learning...    0.181820   \n",
       "2  {u'presort': True, u'loss': u'ls', u'learning_...    0.103839   \n",
       "3  {u'presort': True, u'loss': u'lad', u'learning...    0.111746   \n",
       "\n",
       "                                  test_scores  train_score  \\\n",
       "0  [0.12050727242039133, 0.10629909458749727]     0.035960   \n",
       "1   [0.18337425362947474, 0.1802657932067858]     0.128936   \n",
       "2  [0.08434596755589555, 0.12333248356823068]     0.023839   \n",
       "3  [0.12320001860054487, 0.10029275315230621]     0.068520   \n",
       "\n",
       "                                   train_scores  \n",
       "0   [0.038684252323911934, 0.03323489564138827]  \n",
       "1     [0.11872530083964154, 0.1391459299433792]  \n",
       "2  [0.027136819944411642, 0.020541113403315523]  \n",
       "3    [0.06570794573518424, 0.07133286517660112]  "
      ]
     },
     "execution_count": 22,
     "metadata": {},
     "output_type": "execute_result"
    }
   ],
   "source": [
    "from sklearn.ensemble import GradientBoostingRegressor\n",
    "   \n",
    "gbr_df = tune_model(GradientBoostingRegressor, 'GradientBoosting', {\n",
    "    'random_state': 42,\n",
    "    'presort': True,\n",
    "\n",
    "    'learning_rate': 0.1,\n",
    "    'tol': 0.01\n",
    "}, {\n",
    "    'loss': ['ls', 'lad'],\n",
    "    # 'learning_rate': [0.2, 0.1, 0.01],\n",
    "    'n_estimators': [25, 150, 350],\n",
    "    'min_samples_split': [2, 4, 6],\n",
    "    'min_samples_leaf': [1, 2],\n",
    "    # 'tol': [0.05, 0.01, 0.005]\n",
    "})\n",
    "gbr_df"
   ]
  },
  {
   "cell_type": "markdown",
   "metadata": {},
   "source": [
    "### Lasso"
   ]
  },
  {
   "cell_type": "code",
   "execution_count": 23,
   "metadata": {
    "scrolled": true
   },
   "outputs": [
    {
     "name": "stderr",
     "output_type": "stream",
     "text": [
      "/home/priadri/anaconda2/lib/python2.7/site-packages/sklearn/linear_model/coordinate_descent.py:492: ConvergenceWarning: Objective did not converge. You might want to increase the number of iterations. Fitting data with very small alpha may cause precision problems.\n",
      "  ConvergenceWarning)\n"
     ]
    },
    {
     "name": "stdout",
     "output_type": "stream",
     "text": [
      "('[Lasso][0] Current fold train performance', 0.09556137642807741)\n",
      "('[Lasso][0] Current fold test performance', 0.11148983935661085)\n",
      "('[Lasso][0] Current fold train performance', 0.11241387385333805)\n",
      "('[Lasso][0] Current fold test performance', 0.10266228845865691)\n",
      "('[Lasso][1] Current fold train performance', 0.1601632535247619)\n",
      "('[Lasso][1] Current fold test performance', 0.17199320476033103)\n",
      "('[Lasso][1] Current fold train performance', 0.1698559087590616)\n",
      "('[Lasso][1] Current fold test performance', 0.1678543839350031)\n"
     ]
    },
    {
     "name": "stderr",
     "output_type": "stream",
     "text": [
      "/home/priadri/anaconda2/lib/python2.7/site-packages/sklearn/model_selection/_search.py:841: DeprecationWarning: The default of the `iid` parameter will change from True to False in version 0.22 and will be removed in 0.24. This will change numeric results when test-set sizes are unequal.\n",
      "  DeprecationWarning)\n"
     ]
    },
    {
     "name": "stdout",
     "output_type": "stream",
     "text": [
      "('[Lasso][2] Current fold train performance', 0.09172339862372594)\n",
      "('[Lasso][2] Current fold test performance', 0.07764180835426715)\n",
      "('[Lasso][2] Current fold train performance', 0.06821864302646692)\n",
      "('[Lasso][2] Current fold test performance', 0.09951530396739086)\n",
      "('[Lasso][3] Current fold train performance', 0.10447306641789053)\n",
      "('[Lasso][3] Current fold test performance', 0.12151966028255737)\n",
      "('[Lasso][3] Current fold train performance', 0.11879956520649028)\n",
      "('[Lasso][3] Current fold test performance', 0.1074525379109892)\n"
     ]
    },
    {
     "data": {
      "text/html": [
       "<div>\n",
       "<style scoped>\n",
       "    .dataframe tbody tr th:only-of-type {\n",
       "        vertical-align: middle;\n",
       "    }\n",
       "\n",
       "    .dataframe tbody tr th {\n",
       "        vertical-align: top;\n",
       "    }\n",
       "\n",
       "    .dataframe thead th {\n",
       "        text-align: right;\n",
       "    }\n",
       "</style>\n",
       "<table border=\"1\" class=\"dataframe\">\n",
       "  <thead>\n",
       "    <tr style=\"text-align: right;\">\n",
       "      <th></th>\n",
       "      <th>cluster</th>\n",
       "      <th>model</th>\n",
       "      <th>params_cv</th>\n",
       "      <th>params_full</th>\n",
       "      <th>test_score</th>\n",
       "      <th>test_scores</th>\n",
       "      <th>train_score</th>\n",
       "      <th>train_scores</th>\n",
       "    </tr>\n",
       "  </thead>\n",
       "  <tbody>\n",
       "    <tr>\n",
       "      <th>0</th>\n",
       "      <td>0</td>\n",
       "      <td>Lasso</td>\n",
       "      <td>{u'normalize': False, u'selection': u'random',...</td>\n",
       "      <td>{u'normalize': False, u'selection': u'random',...</td>\n",
       "      <td>0.107076</td>\n",
       "      <td>[0.11148983935661085, 0.10266228845865691]</td>\n",
       "      <td>0.103988</td>\n",
       "      <td>[0.09556137642807741, 0.11241387385333805]</td>\n",
       "    </tr>\n",
       "    <tr>\n",
       "      <th>1</th>\n",
       "      <td>1</td>\n",
       "      <td>Lasso</td>\n",
       "      <td>{u'normalize': True, u'selection': u'random', ...</td>\n",
       "      <td>{u'normalize': True, u'selection': u'random', ...</td>\n",
       "      <td>0.169924</td>\n",
       "      <td>[0.17199320476033103, 0.1678543839350031]</td>\n",
       "      <td>0.165010</td>\n",
       "      <td>[0.1601632535247619, 0.1698559087590616]</td>\n",
       "    </tr>\n",
       "    <tr>\n",
       "      <th>2</th>\n",
       "      <td>2</td>\n",
       "      <td>Lasso</td>\n",
       "      <td>{u'normalize': False, u'selection': u'random',...</td>\n",
       "      <td>{u'normalize': False, u'selection': u'random',...</td>\n",
       "      <td>0.088579</td>\n",
       "      <td>[0.07764180835426715, 0.09951530396739086]</td>\n",
       "      <td>0.079971</td>\n",
       "      <td>[0.09172339862372594, 0.06821864302646692]</td>\n",
       "    </tr>\n",
       "    <tr>\n",
       "      <th>3</th>\n",
       "      <td>3</td>\n",
       "      <td>Lasso</td>\n",
       "      <td>{u'normalize': True, u'selection': u'cyclic', ...</td>\n",
       "      <td>{u'normalize': True, u'selection': u'cyclic', ...</td>\n",
       "      <td>0.114486</td>\n",
       "      <td>[0.12151966028255737, 0.1074525379109892]</td>\n",
       "      <td>0.111636</td>\n",
       "      <td>[0.10447306641789053, 0.11879956520649028]</td>\n",
       "    </tr>\n",
       "  </tbody>\n",
       "</table>\n",
       "</div>"
      ],
      "text/plain": [
       "   cluster  model                                          params_cv  \\\n",
       "0        0  Lasso  {u'normalize': False, u'selection': u'random',...   \n",
       "1        1  Lasso  {u'normalize': True, u'selection': u'random', ...   \n",
       "2        2  Lasso  {u'normalize': False, u'selection': u'random',...   \n",
       "3        3  Lasso  {u'normalize': True, u'selection': u'cyclic', ...   \n",
       "\n",
       "                                         params_full  test_score  \\\n",
       "0  {u'normalize': False, u'selection': u'random',...    0.107076   \n",
       "1  {u'normalize': True, u'selection': u'random', ...    0.169924   \n",
       "2  {u'normalize': False, u'selection': u'random',...    0.088579   \n",
       "3  {u'normalize': True, u'selection': u'cyclic', ...    0.114486   \n",
       "\n",
       "                                  test_scores  train_score  \\\n",
       "0  [0.11148983935661085, 0.10266228845865691]     0.103988   \n",
       "1   [0.17199320476033103, 0.1678543839350031]     0.165010   \n",
       "2  [0.07764180835426715, 0.09951530396739086]     0.079971   \n",
       "3   [0.12151966028255737, 0.1074525379109892]     0.111636   \n",
       "\n",
       "                                 train_scores  \n",
       "0  [0.09556137642807741, 0.11241387385333805]  \n",
       "1    [0.1601632535247619, 0.1698559087590616]  \n",
       "2  [0.09172339862372594, 0.06821864302646692]  \n",
       "3  [0.10447306641789053, 0.11879956520649028]  "
      ]
     },
     "execution_count": 23,
     "metadata": {},
     "output_type": "execute_result"
    }
   ],
   "source": [
    "from sklearn.linear_model import Lasso\n",
    "   \n",
    "lasso_df = tune_model(Lasso, 'Lasso', {\n",
    "    'random_state': 42,\n",
    "    'precompute': True,\n",
    "    'copy_X': True,\n",
    "    \n",
    "    'max_iter': 100\n",
    "}, {\n",
    "    'alpha': [1.0, 0.6, 0.25],\n",
    "    'fit_intercept': [False, True],\n",
    "    'normalize': [False, True],\n",
    "    # 'max_iter': [100, 1000],\n",
    "    'tol': [0.01, 0.001],\n",
    "    'positive': [False, True],\n",
    "    'selection': ['cyclic', 'random'],\n",
    "})\n",
    "lasso_df"
   ]
  },
  {
   "cell_type": "markdown",
   "metadata": {},
   "source": [
    "### Ridge"
   ]
  },
  {
   "cell_type": "code",
   "execution_count": 24,
   "metadata": {},
   "outputs": [
    {
     "name": "stderr",
     "output_type": "stream",
     "text": [
      "/home/priadri/anaconda2/lib/python2.7/site-packages/sklearn/linear_model/sag.py:334: ConvergenceWarning: The max_iter was reached which means the coef_ did not converge\n",
      "  \"the coef_ did not converge\", ConvergenceWarning)\n"
     ]
    },
    {
     "name": "stdout",
     "output_type": "stream",
     "text": [
      "('[Ridge][0] Current fold train performance', 0.09630955732153397)\n",
      "('[Ridge][0] Current fold test performance', 0.1104665083351422)\n",
      "('[Ridge][0] Current fold train performance', 0.10391447624522389)\n",
      "('[Ridge][0] Current fold test performance', 0.11734788011196891)\n",
      "('[Ridge][1] Current fold train performance', 0.1603635703073899)\n",
      "('[Ridge][1] Current fold test performance', 0.17235219702059465)\n",
      "('[Ridge][1] Current fold train performance', 0.16983443225404707)\n",
      "('[Ridge][1] Current fold test performance', 0.1678731708876939)\n"
     ]
    },
    {
     "name": "stderr",
     "output_type": "stream",
     "text": [
      "/home/priadri/anaconda2/lib/python2.7/site-packages/sklearn/model_selection/_search.py:841: DeprecationWarning: The default of the `iid` parameter will change from True to False in version 0.22 and will be removed in 0.24. This will change numeric results when test-set sizes are unequal.\n",
      "  DeprecationWarning)\n"
     ]
    },
    {
     "name": "stdout",
     "output_type": "stream",
     "text": [
      "('[Ridge][2] Current fold train performance', 0.09692990835839285)\n",
      "('[Ridge][2] Current fold test performance', 0.06285097961704977)\n",
      "('[Ridge][2] Current fold train performance', 0.053965353317970664)\n",
      "('[Ridge][2] Current fold test performance', 0.1076549845396439)\n",
      "('[Ridge][3] Current fold train performance', 0.1045300455321846)\n",
      "('[Ridge][3] Current fold test performance', 0.12167775471265246)\n",
      "('[Ridge][3] Current fold train performance', 0.11882507651753638)\n",
      "('[Ridge][3] Current fold test performance', 0.10735546472048592)\n"
     ]
    },
    {
     "data": {
      "text/html": [
       "<div>\n",
       "<style scoped>\n",
       "    .dataframe tbody tr th:only-of-type {\n",
       "        vertical-align: middle;\n",
       "    }\n",
       "\n",
       "    .dataframe tbody tr th {\n",
       "        vertical-align: top;\n",
       "    }\n",
       "\n",
       "    .dataframe thead th {\n",
       "        text-align: right;\n",
       "    }\n",
       "</style>\n",
       "<table border=\"1\" class=\"dataframe\">\n",
       "  <thead>\n",
       "    <tr style=\"text-align: right;\">\n",
       "      <th></th>\n",
       "      <th>cluster</th>\n",
       "      <th>model</th>\n",
       "      <th>params_cv</th>\n",
       "      <th>params_full</th>\n",
       "      <th>test_score</th>\n",
       "      <th>test_scores</th>\n",
       "      <th>train_score</th>\n",
       "      <th>train_scores</th>\n",
       "    </tr>\n",
       "  </thead>\n",
       "  <tbody>\n",
       "    <tr>\n",
       "      <th>0</th>\n",
       "      <td>0</td>\n",
       "      <td>Ridge</td>\n",
       "      <td>{u'alpha': 50.0, u'max_iter': 100, u'tol': 0.0...</td>\n",
       "      <td>{u'normalize': False, u'fit_intercept': True, ...</td>\n",
       "      <td>0.113907</td>\n",
       "      <td>[0.1104665083351422, 0.11734788011196891]</td>\n",
       "      <td>0.100112</td>\n",
       "      <td>[0.09630955732153397, 0.10391447624522389]</td>\n",
       "    </tr>\n",
       "    <tr>\n",
       "      <th>1</th>\n",
       "      <td>1</td>\n",
       "      <td>Ridge</td>\n",
       "      <td>{u'alpha': 50.0, u'max_iter': 100, u'tol': 0.0...</td>\n",
       "      <td>{u'normalize': False, u'fit_intercept': True, ...</td>\n",
       "      <td>0.170113</td>\n",
       "      <td>[0.17235219702059465, 0.1678731708876939]</td>\n",
       "      <td>0.165099</td>\n",
       "      <td>[0.1603635703073899, 0.16983443225404707]</td>\n",
       "    </tr>\n",
       "    <tr>\n",
       "      <th>2</th>\n",
       "      <td>2</td>\n",
       "      <td>Ridge</td>\n",
       "      <td>{u'alpha': 0.25, u'max_iter': 500, u'tol': 0.0...</td>\n",
       "      <td>{u'normalize': False, u'fit_intercept': True, ...</td>\n",
       "      <td>0.085253</td>\n",
       "      <td>[0.06285097961704977, 0.1076549845396439]</td>\n",
       "      <td>0.075448</td>\n",
       "      <td>[0.09692990835839285, 0.053965353317970664]</td>\n",
       "    </tr>\n",
       "    <tr>\n",
       "      <th>3</th>\n",
       "      <td>3</td>\n",
       "      <td>Ridge</td>\n",
       "      <td>{u'alpha': 0.25, u'max_iter': 100, u'tol': 0.0...</td>\n",
       "      <td>{u'normalize': False, u'fit_intercept': True, ...</td>\n",
       "      <td>0.114517</td>\n",
       "      <td>[0.12167775471265246, 0.10735546472048592]</td>\n",
       "      <td>0.111678</td>\n",
       "      <td>[0.1045300455321846, 0.11882507651753638]</td>\n",
       "    </tr>\n",
       "  </tbody>\n",
       "</table>\n",
       "</div>"
      ],
      "text/plain": [
       "   cluster  model                                          params_cv  \\\n",
       "0        0  Ridge  {u'alpha': 50.0, u'max_iter': 100, u'tol': 0.0...   \n",
       "1        1  Ridge  {u'alpha': 50.0, u'max_iter': 100, u'tol': 0.0...   \n",
       "2        2  Ridge  {u'alpha': 0.25, u'max_iter': 500, u'tol': 0.0...   \n",
       "3        3  Ridge  {u'alpha': 0.25, u'max_iter': 100, u'tol': 0.0...   \n",
       "\n",
       "                                         params_full  test_score  \\\n",
       "0  {u'normalize': False, u'fit_intercept': True, ...    0.113907   \n",
       "1  {u'normalize': False, u'fit_intercept': True, ...    0.170113   \n",
       "2  {u'normalize': False, u'fit_intercept': True, ...    0.085253   \n",
       "3  {u'normalize': False, u'fit_intercept': True, ...    0.114517   \n",
       "\n",
       "                                  test_scores  train_score  \\\n",
       "0   [0.1104665083351422, 0.11734788011196891]     0.100112   \n",
       "1   [0.17235219702059465, 0.1678731708876939]     0.165099   \n",
       "2   [0.06285097961704977, 0.1076549845396439]     0.075448   \n",
       "3  [0.12167775471265246, 0.10735546472048592]     0.111678   \n",
       "\n",
       "                                  train_scores  \n",
       "0   [0.09630955732153397, 0.10391447624522389]  \n",
       "1    [0.1603635703073899, 0.16983443225404707]  \n",
       "2  [0.09692990835839285, 0.053965353317970664]  \n",
       "3    [0.1045300455321846, 0.11882507651753638]  "
      ]
     },
     "execution_count": 24,
     "metadata": {},
     "output_type": "execute_result"
    }
   ],
   "source": [
    "from sklearn.linear_model import Ridge\n",
    "   \n",
    "ridge_df = tune_model(Ridge, 'Ridge', {\n",
    "    'random_state': 42,\n",
    "    'copy_X': True,\n",
    "    \n",
    "    'fit_intercept': True,\n",
    "    'normalize': False\n",
    "}, {\n",
    "    'alpha': [50.0, 25.0, 2.5, 0.25],\n",
    "    # 'fit_intercept': [False, True],\n",
    "    # 'normalize': [False, True],\n",
    "    'max_iter': [100, 500, 1000],\n",
    "    'tol': [0.001, 0.00075, 0.0005],\n",
    "    'solver': ['lsqr', 'sag'],\n",
    "})\n",
    "ridge_df"
   ]
  },
  {
   "cell_type": "markdown",
   "metadata": {},
   "source": [
    "### Multi-layer Perceptron Regressor"
   ]
  },
  {
   "cell_type": "code",
   "execution_count": 25,
   "metadata": {},
   "outputs": [
    {
     "name": "stdout",
     "output_type": "stream",
     "text": [
      "('[MLPR][0] Current fold train performance', 0.09498387091628098)\n",
      "('[MLPR][0] Current fold test performance', 0.10266168429104927)\n",
      "('[MLPR][0] Current fold train performance', 0.10350941334225243)\n",
      "('[MLPR][0] Current fold test performance', 0.11420186184440038)\n",
      "('[MLPR][1] Current fold train performance', 0.16461084379293592)\n",
      "('[MLPR][1] Current fold test performance', 0.17761898773086848)\n",
      "('[MLPR][1] Current fold train performance', 0.1790572180142363)\n",
      "('[MLPR][1] Current fold test performance', 0.17802757106687028)\n"
     ]
    },
    {
     "name": "stderr",
     "output_type": "stream",
     "text": [
      "/home/priadri/anaconda2/lib/python2.7/site-packages/sklearn/model_selection/_search.py:841: DeprecationWarning: The default of the `iid` parameter will change from True to False in version 0.22 and will be removed in 0.24. This will change numeric results when test-set sizes are unequal.\n",
      "  DeprecationWarning)\n"
     ]
    },
    {
     "name": "stdout",
     "output_type": "stream",
     "text": [
      "('[MLPR][2] Current fold train performance', 0.11075541992725423)\n",
      "('[MLPR][2] Current fold test performance', 0.07586225311841063)\n",
      "('[MLPR][2] Current fold train performance', 0.06580241081135016)\n",
      "('[MLPR][2] Current fold test performance', 0.09684747974305956)\n",
      "('[MLPR][3] Current fold train performance', 0.1094026867514226)\n",
      "('[MLPR][3] Current fold test performance', 0.13106589489580275)\n",
      "('[MLPR][3] Current fold train performance', 0.12695835808272493)\n",
      "('[MLPR][3] Current fold test performance', 0.11268651166232609)\n"
     ]
    },
    {
     "data": {
      "text/html": [
       "<div>\n",
       "<style scoped>\n",
       "    .dataframe tbody tr th:only-of-type {\n",
       "        vertical-align: middle;\n",
       "    }\n",
       "\n",
       "    .dataframe tbody tr th {\n",
       "        vertical-align: top;\n",
       "    }\n",
       "\n",
       "    .dataframe thead th {\n",
       "        text-align: right;\n",
       "    }\n",
       "</style>\n",
       "<table border=\"1\" class=\"dataframe\">\n",
       "  <thead>\n",
       "    <tr style=\"text-align: right;\">\n",
       "      <th></th>\n",
       "      <th>cluster</th>\n",
       "      <th>model</th>\n",
       "      <th>params_cv</th>\n",
       "      <th>params_full</th>\n",
       "      <th>test_score</th>\n",
       "      <th>test_scores</th>\n",
       "      <th>train_score</th>\n",
       "      <th>train_scores</th>\n",
       "    </tr>\n",
       "  </thead>\n",
       "  <tbody>\n",
       "    <tr>\n",
       "      <th>0</th>\n",
       "      <td>0</td>\n",
       "      <td>MLPR</td>\n",
       "      <td>{}</td>\n",
       "      <td>{u'alpha': 3e-05, u'activation': u'relu', u'ra...</td>\n",
       "      <td>0.108432</td>\n",
       "      <td>[0.10266168429104927, 0.11420186184440038]</td>\n",
       "      <td>0.099247</td>\n",
       "      <td>[0.09498387091628098, 0.10350941334225243]</td>\n",
       "    </tr>\n",
       "    <tr>\n",
       "      <th>1</th>\n",
       "      <td>1</td>\n",
       "      <td>MLPR</td>\n",
       "      <td>{}</td>\n",
       "      <td>{u'alpha': 3e-05, u'activation': u'relu', u'ra...</td>\n",
       "      <td>0.177823</td>\n",
       "      <td>[0.17761898773086848, 0.17802757106687028]</td>\n",
       "      <td>0.171834</td>\n",
       "      <td>[0.16461084379293592, 0.1790572180142363]</td>\n",
       "    </tr>\n",
       "    <tr>\n",
       "      <th>2</th>\n",
       "      <td>2</td>\n",
       "      <td>MLPR</td>\n",
       "      <td>{}</td>\n",
       "      <td>{u'alpha': 3e-05, u'activation': u'relu', u'ra...</td>\n",
       "      <td>0.086355</td>\n",
       "      <td>[0.07586225311841063, 0.09684747974305956]</td>\n",
       "      <td>0.088279</td>\n",
       "      <td>[0.11075541992725423, 0.06580241081135016]</td>\n",
       "    </tr>\n",
       "    <tr>\n",
       "      <th>3</th>\n",
       "      <td>3</td>\n",
       "      <td>MLPR</td>\n",
       "      <td>{}</td>\n",
       "      <td>{u'alpha': 3e-05, u'activation': u'relu', u'ra...</td>\n",
       "      <td>0.121876</td>\n",
       "      <td>[0.13106589489580275, 0.11268651166232609]</td>\n",
       "      <td>0.118181</td>\n",
       "      <td>[0.1094026867514226, 0.12695835808272493]</td>\n",
       "    </tr>\n",
       "  </tbody>\n",
       "</table>\n",
       "</div>"
      ],
      "text/plain": [
       "   cluster model params_cv                                        params_full  \\\n",
       "0        0  MLPR        {}  {u'alpha': 3e-05, u'activation': u'relu', u'ra...   \n",
       "1        1  MLPR        {}  {u'alpha': 3e-05, u'activation': u'relu', u'ra...   \n",
       "2        2  MLPR        {}  {u'alpha': 3e-05, u'activation': u'relu', u'ra...   \n",
       "3        3  MLPR        {}  {u'alpha': 3e-05, u'activation': u'relu', u'ra...   \n",
       "\n",
       "   test_score                                 test_scores  train_score  \\\n",
       "0    0.108432  [0.10266168429104927, 0.11420186184440038]     0.099247   \n",
       "1    0.177823  [0.17761898773086848, 0.17802757106687028]     0.171834   \n",
       "2    0.086355  [0.07586225311841063, 0.09684747974305956]     0.088279   \n",
       "3    0.121876  [0.13106589489580275, 0.11268651166232609]     0.118181   \n",
       "\n",
       "                                 train_scores  \n",
       "0  [0.09498387091628098, 0.10350941334225243]  \n",
       "1   [0.16461084379293592, 0.1790572180142363]  \n",
       "2  [0.11075541992725423, 0.06580241081135016]  \n",
       "3   [0.1094026867514226, 0.12695835808272493]  "
      ]
     },
     "execution_count": 25,
     "metadata": {},
     "output_type": "execute_result"
    }
   ],
   "source": [
    "from sklearn.neural_network import MLPRegressor\n",
    "\n",
    "mlpr_df = tune_model(MLPRegressor, 'MLPR', {\n",
    "    'random_state': 42,\n",
    "    \n",
    "    'activation': 'relu',\n",
    "    'learning_rate': 'constant',\n",
    "    'solver': 'lbfgs',\n",
    "    'alpha': 0.00003\n",
    "}, {\n",
    "    # 'activation': ['tanh', 'relu'],\n",
    "    # 'solver': ['lbfgs', 'adam'],\n",
    "    # 'alpha': [0.001, 0.00005, 0.00003, 0.00001],\n",
    "    # 'learning_rate': ['constant', 'invscaling', 'adaptive'],\n",
    "})\n",
    "mlpr_df"
   ]
  },
  {
   "cell_type": "code",
   "execution_count": 26,
   "metadata": {},
   "outputs": [
    {
     "data": {
      "text/html": [
       "<div>\n",
       "<style scoped>\n",
       "    .dataframe tbody tr th:only-of-type {\n",
       "        vertical-align: middle;\n",
       "    }\n",
       "\n",
       "    .dataframe tbody tr th {\n",
       "        vertical-align: top;\n",
       "    }\n",
       "\n",
       "    .dataframe thead th {\n",
       "        text-align: right;\n",
       "    }\n",
       "</style>\n",
       "<table border=\"1\" class=\"dataframe\">\n",
       "  <thead>\n",
       "    <tr style=\"text-align: right;\">\n",
       "      <th></th>\n",
       "      <th>cluster</th>\n",
       "      <th>model</th>\n",
       "      <th>params_full</th>\n",
       "      <th>test_score</th>\n",
       "    </tr>\n",
       "  </thead>\n",
       "  <tbody>\n",
       "    <tr>\n",
       "      <th>0</th>\n",
       "      <td>0</td>\n",
       "      <td>Lasso</td>\n",
       "      <td>{u'normalize': False, u'selection': u'random',...</td>\n",
       "      <td>0.107076</td>\n",
       "    </tr>\n",
       "  </tbody>\n",
       "</table>\n",
       "</div>"
      ],
      "text/plain": [
       "   cluster  model                                        params_full  \\\n",
       "0        0  Lasso  {u'normalize': False, u'selection': u'random',...   \n",
       "\n",
       "   test_score  \n",
       "0    0.107076  "
      ]
     },
     "metadata": {},
     "output_type": "display_data"
    },
    {
     "data": {
      "text/html": [
       "<div>\n",
       "<style scoped>\n",
       "    .dataframe tbody tr th:only-of-type {\n",
       "        vertical-align: middle;\n",
       "    }\n",
       "\n",
       "    .dataframe tbody tr th {\n",
       "        vertical-align: top;\n",
       "    }\n",
       "\n",
       "    .dataframe thead th {\n",
       "        text-align: right;\n",
       "    }\n",
       "</style>\n",
       "<table border=\"1\" class=\"dataframe\">\n",
       "  <thead>\n",
       "    <tr style=\"text-align: right;\">\n",
       "      <th></th>\n",
       "      <th>cluster</th>\n",
       "      <th>model</th>\n",
       "      <th>params_full</th>\n",
       "      <th>test_score</th>\n",
       "    </tr>\n",
       "  </thead>\n",
       "  <tbody>\n",
       "    <tr>\n",
       "      <th>1</th>\n",
       "      <td>1</td>\n",
       "      <td>Lasso</td>\n",
       "      <td>{u'normalize': True, u'selection': u'random', ...</td>\n",
       "      <td>0.169924</td>\n",
       "    </tr>\n",
       "  </tbody>\n",
       "</table>\n",
       "</div>"
      ],
      "text/plain": [
       "   cluster  model                                        params_full  \\\n",
       "1        1  Lasso  {u'normalize': True, u'selection': u'random', ...   \n",
       "\n",
       "   test_score  \n",
       "1    0.169924  "
      ]
     },
     "metadata": {},
     "output_type": "display_data"
    },
    {
     "data": {
      "text/html": [
       "<div>\n",
       "<style scoped>\n",
       "    .dataframe tbody tr th:only-of-type {\n",
       "        vertical-align: middle;\n",
       "    }\n",
       "\n",
       "    .dataframe tbody tr th {\n",
       "        vertical-align: top;\n",
       "    }\n",
       "\n",
       "    .dataframe thead th {\n",
       "        text-align: right;\n",
       "    }\n",
       "</style>\n",
       "<table border=\"1\" class=\"dataframe\">\n",
       "  <thead>\n",
       "    <tr style=\"text-align: right;\">\n",
       "      <th></th>\n",
       "      <th>cluster</th>\n",
       "      <th>model</th>\n",
       "      <th>params_full</th>\n",
       "      <th>test_score</th>\n",
       "    </tr>\n",
       "  </thead>\n",
       "  <tbody>\n",
       "    <tr>\n",
       "      <th>2</th>\n",
       "      <td>2</td>\n",
       "      <td>Ridge</td>\n",
       "      <td>{u'normalize': False, u'fit_intercept': True, ...</td>\n",
       "      <td>0.085253</td>\n",
       "    </tr>\n",
       "  </tbody>\n",
       "</table>\n",
       "</div>"
      ],
      "text/plain": [
       "   cluster  model                                        params_full  \\\n",
       "2        2  Ridge  {u'normalize': False, u'fit_intercept': True, ...   \n",
       "\n",
       "   test_score  \n",
       "2    0.085253  "
      ]
     },
     "metadata": {},
     "output_type": "display_data"
    },
    {
     "data": {
      "text/html": [
       "<div>\n",
       "<style scoped>\n",
       "    .dataframe tbody tr th:only-of-type {\n",
       "        vertical-align: middle;\n",
       "    }\n",
       "\n",
       "    .dataframe tbody tr th {\n",
       "        vertical-align: top;\n",
       "    }\n",
       "\n",
       "    .dataframe thead th {\n",
       "        text-align: right;\n",
       "    }\n",
       "</style>\n",
       "<table border=\"1\" class=\"dataframe\">\n",
       "  <thead>\n",
       "    <tr style=\"text-align: right;\">\n",
       "      <th></th>\n",
       "      <th>cluster</th>\n",
       "      <th>model</th>\n",
       "      <th>params_full</th>\n",
       "      <th>test_score</th>\n",
       "    </tr>\n",
       "  </thead>\n",
       "  <tbody>\n",
       "    <tr>\n",
       "      <th>3</th>\n",
       "      <td>3</td>\n",
       "      <td>Lasso</td>\n",
       "      <td>{u'normalize': True, u'selection': u'cyclic', ...</td>\n",
       "      <td>0.114486</td>\n",
       "    </tr>\n",
       "  </tbody>\n",
       "</table>\n",
       "</div>"
      ],
      "text/plain": [
       "   cluster  model                                        params_full  \\\n",
       "3        3  Lasso  {u'normalize': True, u'selection': u'cyclic', ...   \n",
       "\n",
       "   test_score  \n",
       "3    0.114486  "
      ]
     },
     "metadata": {},
     "output_type": "display_data"
    },
    {
     "data": {
      "text/html": [
       "<div>\n",
       "<style scoped>\n",
       "    .dataframe tbody tr th:only-of-type {\n",
       "        vertical-align: middle;\n",
       "    }\n",
       "\n",
       "    .dataframe tbody tr th {\n",
       "        vertical-align: top;\n",
       "    }\n",
       "\n",
       "    .dataframe thead th {\n",
       "        text-align: right;\n",
       "    }\n",
       "</style>\n",
       "<table border=\"1\" class=\"dataframe\">\n",
       "  <thead>\n",
       "    <tr style=\"text-align: right;\">\n",
       "      <th></th>\n",
       "      <th>cluster</th>\n",
       "      <th>model</th>\n",
       "      <th>params_full</th>\n",
       "      <th>test_score</th>\n",
       "    </tr>\n",
       "  </thead>\n",
       "  <tbody>\n",
       "    <tr>\n",
       "      <th>0</th>\n",
       "      <td>0</td>\n",
       "      <td>Lasso</td>\n",
       "      <td>{u'normalize': False, u'selection': u'random',...</td>\n",
       "      <td>0.107076</td>\n",
       "    </tr>\n",
       "    <tr>\n",
       "      <th>1</th>\n",
       "      <td>1</td>\n",
       "      <td>Lasso</td>\n",
       "      <td>{u'normalize': True, u'selection': u'random', ...</td>\n",
       "      <td>0.169924</td>\n",
       "    </tr>\n",
       "    <tr>\n",
       "      <th>2</th>\n",
       "      <td>2</td>\n",
       "      <td>Ridge</td>\n",
       "      <td>{u'normalize': False, u'fit_intercept': True, ...</td>\n",
       "      <td>0.085253</td>\n",
       "    </tr>\n",
       "    <tr>\n",
       "      <th>3</th>\n",
       "      <td>3</td>\n",
       "      <td>Lasso</td>\n",
       "      <td>{u'normalize': True, u'selection': u'cyclic', ...</td>\n",
       "      <td>0.114486</td>\n",
       "    </tr>\n",
       "  </tbody>\n",
       "</table>\n",
       "</div>"
      ],
      "text/plain": [
       "   cluster  model                                        params_full  \\\n",
       "0        0  Lasso  {u'normalize': False, u'selection': u'random',...   \n",
       "1        1  Lasso  {u'normalize': True, u'selection': u'random', ...   \n",
       "2        2  Ridge  {u'normalize': False, u'fit_intercept': True, ...   \n",
       "3        3  Lasso  {u'normalize': True, u'selection': u'cyclic', ...   \n",
       "\n",
       "   test_score  \n",
       "0    0.107076  \n",
       "1    0.169924  \n",
       "2    0.085253  \n",
       "3    0.114486  "
      ]
     },
     "execution_count": 26,
     "metadata": {},
     "output_type": "execute_result"
    }
   ],
   "source": [
    "all_df = lr_df.copy()\n",
    "# all_df = all_df.append(rfr_df.copy())\n",
    "# all_df = all_df.append(gbr_df.copy()) # overfit\n",
    "all_df = all_df.append(lasso_df.copy())\n",
    "all_df = all_df.append(ridge_df.copy())\n",
    "all_df = all_df.append(mlpr_df.copy())\n",
    "\n",
    "selected_models = pd.DataFrame({ 'cluster': [], 'model': [], 'params_full': [], 'test_score': [] })\n",
    "\n",
    "for cluster in range(n_clusters):\n",
    "    cluster_best_models = all_df[all_df['cluster'] == cluster].sort_values(by='test_score', ascending=True)\n",
    "    cluster_best_model = cluster_best_models.head(1)[['cluster', 'model', 'params_full', 'test_score']]\n",
    "    selected_models = selected_models.append(cluster_best_model)\n",
    "    display(cluster_best_model)\n",
    "\n",
    "selected_models['cluster'] = selected_models['cluster'].astype(int)\n",
    "selected_models"
   ]
  },
  {
   "cell_type": "markdown",
   "metadata": {},
   "source": [
    "## Results for submission"
   ]
  },
  {
   "cell_type": "code",
   "execution_count": 27,
   "metadata": {},
   "outputs": [],
   "source": [
    "def build_model(model, params):\n",
    "    if (model == 'Linear Regression'):\n",
    "        return LinearRegression(**params)\n",
    "    if (model == 'Lasso'):\n",
    "        return Lasso(**params)\n",
    "    if (model == 'Ridge'):\n",
    "        return Ridge(**params)    \n"
   ]
  },
  {
   "cell_type": "code",
   "execution_count": 28,
   "metadata": {},
   "outputs": [],
   "source": [
    "from sklearn.ensemble import AdaBoostRegressor\n",
    "   \n",
    "results = []\n",
    "ids = []\n",
    "\n",
    "for cluster in range(n_clusters):\n",
    "    current_cluster_filter = feature_selected_train_data['Cluster'] == cluster\n",
    "    \n",
    "    train_X = feature_selected_train_data[current_cluster_filter].drop(columns=['Id', 'SalePrice', 'Cluster'])\n",
    "    train_y = feature_selected_train_data[current_cluster_filter]['SalePrice']\n",
    "    \n",
    "    current_cluster_filter = feature_selected_test_data['Cluster'] == cluster\n",
    "    predicting_X = feature_selected_test_data[current_cluster_filter].drop(columns=['Id', 'Cluster'])\n",
    "    predicting_ids = feature_selected_test_data[current_cluster_filter]['Id']\n",
    "    \n",
    "    selected_model_df = selected_models[selected_models['cluster'] == cluster]\n",
    "    model = build_model(selected_model_df['model'].values[0], selected_model_df['params_full'].values[0])\n",
    "    \n",
    "    model = model.fit(train_X, train_y)\n",
    "    prediction = model.predict(predicting_X)\n",
    "    \n",
    "    results = np.concatenate((results, prediction))\n",
    "    ids = np.concatenate((ids, predicting_ids))\n",
    "\n",
    "kaggle_sb_df = pd.DataFrame({ 'SalePrice': results, 'Id': ids })\n",
    "\n",
    "kaggle_sb_df['Id'] = kaggle_sb_df['Id'].astype(int)\n",
    "kaggle_sb_df = kaggle_sb_df.sort_values(by='Id')\n",
    "\n",
    "kaggle_sb_df.to_csv('data/kaggle_submission_42.csv', index=False)"
   ]
  }
 ],
 "metadata": {
  "kernelspec": {
   "display_name": "Python 2",
   "language": "python",
   "name": "python2"
  },
  "language_info": {
   "codemirror_mode": {
    "name": "ipython",
    "version": 2
   },
   "file_extension": ".py",
   "mimetype": "text/x-python",
   "name": "python",
   "nbconvert_exporter": "python",
   "pygments_lexer": "ipython2",
   "version": "2.7.15"
  }
 },
 "nbformat": 4,
 "nbformat_minor": 2
}
