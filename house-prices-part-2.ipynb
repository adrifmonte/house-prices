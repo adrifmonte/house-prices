{
 "cells": [
  {
   "cell_type": "markdown",
   "metadata": {},
   "source": [
    "## Refetching transformed data"
   ]
  },
  {
   "cell_type": "code",
   "execution_count": 1,
   "metadata": {
    "scrolled": true
   },
   "outputs": [
    {
     "data": {
      "text/html": [
       "<div>\n",
       "<style scoped>\n",
       "    .dataframe tbody tr th:only-of-type {\n",
       "        vertical-align: middle;\n",
       "    }\n",
       "\n",
       "    .dataframe tbody tr th {\n",
       "        vertical-align: top;\n",
       "    }\n",
       "\n",
       "    .dataframe thead th {\n",
       "        text-align: right;\n",
       "    }\n",
       "</style>\n",
       "<table border=\"1\" class=\"dataframe\">\n",
       "  <thead>\n",
       "    <tr style=\"text-align: right;\">\n",
       "      <th></th>\n",
       "      <th>1stFlrSF</th>\n",
       "      <th>2ndFlrSF</th>\n",
       "      <th>3SsnPorch</th>\n",
       "      <th>BedroomAbvGr</th>\n",
       "      <th>BldgType_1Fam</th>\n",
       "      <th>BldgType_2fmCon</th>\n",
       "      <th>BldgType_Duplex</th>\n",
       "      <th>BldgType_Twnhs</th>\n",
       "      <th>BldgType_TwnhsE</th>\n",
       "      <th>BsmtCond</th>\n",
       "      <th>...</th>\n",
       "      <th>ScreenPorch</th>\n",
       "      <th>Street_Grvl</th>\n",
       "      <th>Street_Pave</th>\n",
       "      <th>TotRmsAbvGrd</th>\n",
       "      <th>TotalBsmtSF</th>\n",
       "      <th>Utilities</th>\n",
       "      <th>WoodDeckSF</th>\n",
       "      <th>YearBuilt</th>\n",
       "      <th>YearRemodAdd</th>\n",
       "      <th>YrSold</th>\n",
       "    </tr>\n",
       "  </thead>\n",
       "  <tbody>\n",
       "    <tr>\n",
       "      <th>0</th>\n",
       "      <td>856</td>\n",
       "      <td>854</td>\n",
       "      <td>0</td>\n",
       "      <td>3</td>\n",
       "      <td>1</td>\n",
       "      <td>0</td>\n",
       "      <td>0</td>\n",
       "      <td>0</td>\n",
       "      <td>0</td>\n",
       "      <td>3</td>\n",
       "      <td>...</td>\n",
       "      <td>0</td>\n",
       "      <td>0</td>\n",
       "      <td>1</td>\n",
       "      <td>8</td>\n",
       "      <td>856</td>\n",
       "      <td>4</td>\n",
       "      <td>0</td>\n",
       "      <td>2003</td>\n",
       "      <td>2003</td>\n",
       "      <td>2008</td>\n",
       "    </tr>\n",
       "    <tr>\n",
       "      <th>1</th>\n",
       "      <td>1262</td>\n",
       "      <td>0</td>\n",
       "      <td>0</td>\n",
       "      <td>3</td>\n",
       "      <td>1</td>\n",
       "      <td>0</td>\n",
       "      <td>0</td>\n",
       "      <td>0</td>\n",
       "      <td>0</td>\n",
       "      <td>3</td>\n",
       "      <td>...</td>\n",
       "      <td>0</td>\n",
       "      <td>0</td>\n",
       "      <td>1</td>\n",
       "      <td>6</td>\n",
       "      <td>1262</td>\n",
       "      <td>4</td>\n",
       "      <td>298</td>\n",
       "      <td>1976</td>\n",
       "      <td>1976</td>\n",
       "      <td>2007</td>\n",
       "    </tr>\n",
       "    <tr>\n",
       "      <th>2</th>\n",
       "      <td>920</td>\n",
       "      <td>866</td>\n",
       "      <td>0</td>\n",
       "      <td>3</td>\n",
       "      <td>1</td>\n",
       "      <td>0</td>\n",
       "      <td>0</td>\n",
       "      <td>0</td>\n",
       "      <td>0</td>\n",
       "      <td>3</td>\n",
       "      <td>...</td>\n",
       "      <td>0</td>\n",
       "      <td>0</td>\n",
       "      <td>1</td>\n",
       "      <td>6</td>\n",
       "      <td>920</td>\n",
       "      <td>4</td>\n",
       "      <td>0</td>\n",
       "      <td>2001</td>\n",
       "      <td>2002</td>\n",
       "      <td>2008</td>\n",
       "    </tr>\n",
       "    <tr>\n",
       "      <th>3</th>\n",
       "      <td>961</td>\n",
       "      <td>756</td>\n",
       "      <td>0</td>\n",
       "      <td>3</td>\n",
       "      <td>1</td>\n",
       "      <td>0</td>\n",
       "      <td>0</td>\n",
       "      <td>0</td>\n",
       "      <td>0</td>\n",
       "      <td>4</td>\n",
       "      <td>...</td>\n",
       "      <td>0</td>\n",
       "      <td>0</td>\n",
       "      <td>1</td>\n",
       "      <td>7</td>\n",
       "      <td>756</td>\n",
       "      <td>4</td>\n",
       "      <td>0</td>\n",
       "      <td>1915</td>\n",
       "      <td>1970</td>\n",
       "      <td>2006</td>\n",
       "    </tr>\n",
       "    <tr>\n",
       "      <th>4</th>\n",
       "      <td>1145</td>\n",
       "      <td>1053</td>\n",
       "      <td>0</td>\n",
       "      <td>4</td>\n",
       "      <td>1</td>\n",
       "      <td>0</td>\n",
       "      <td>0</td>\n",
       "      <td>0</td>\n",
       "      <td>0</td>\n",
       "      <td>3</td>\n",
       "      <td>...</td>\n",
       "      <td>0</td>\n",
       "      <td>0</td>\n",
       "      <td>1</td>\n",
       "      <td>9</td>\n",
       "      <td>1145</td>\n",
       "      <td>4</td>\n",
       "      <td>192</td>\n",
       "      <td>2000</td>\n",
       "      <td>2000</td>\n",
       "      <td>2008</td>\n",
       "    </tr>\n",
       "  </tbody>\n",
       "</table>\n",
       "<p>5 rows × 201 columns</p>\n",
       "</div>"
      ],
      "text/plain": [
       "   1stFlrSF  2ndFlrSF  3SsnPorch  BedroomAbvGr  BldgType_1Fam  \\\n",
       "0       856       854          0             3              1   \n",
       "1      1262         0          0             3              1   \n",
       "2       920       866          0             3              1   \n",
       "3       961       756          0             3              1   \n",
       "4      1145      1053          0             4              1   \n",
       "\n",
       "   BldgType_2fmCon  BldgType_Duplex  BldgType_Twnhs  BldgType_TwnhsE  \\\n",
       "0                0                0               0                0   \n",
       "1                0                0               0                0   \n",
       "2                0                0               0                0   \n",
       "3                0                0               0                0   \n",
       "4                0                0               0                0   \n",
       "\n",
       "   BsmtCond   ...    ScreenPorch  Street_Grvl  Street_Pave  TotRmsAbvGrd  \\\n",
       "0         3   ...              0            0            1             8   \n",
       "1         3   ...              0            0            1             6   \n",
       "2         3   ...              0            0            1             6   \n",
       "3         4   ...              0            0            1             7   \n",
       "4         3   ...              0            0            1             9   \n",
       "\n",
       "   TotalBsmtSF  Utilities  WoodDeckSF  YearBuilt  YearRemodAdd  YrSold  \n",
       "0          856          4           0       2003          2003    2008  \n",
       "1         1262          4         298       1976          1976    2007  \n",
       "2          920          4           0       2001          2002    2008  \n",
       "3          756          4           0       1915          1970    2006  \n",
       "4         1145          4         192       2000          2000    2008  \n",
       "\n",
       "[5 rows x 201 columns]"
      ]
     },
     "execution_count": 1,
     "metadata": {},
     "output_type": "execute_result"
    }
   ],
   "source": [
    "import pandas as pd\n",
    "\n",
    "train_data = pd.read_csv('./data/aligned_encoded_train_data.csv')\n",
    "test_data = pd.read_csv('./data/aligned_encoded_test_data.csv')\n",
    "\n",
    "test_data.drop(columns=['SalePrice'], inplace=True)\n",
    "\n",
    "train_data.head()"
   ]
  },
  {
   "cell_type": "markdown",
   "metadata": {},
   "source": [
    "## Removing outliers"
   ]
  },
  {
   "cell_type": "code",
   "execution_count": 2,
   "metadata": {},
   "outputs": [
    {
     "name": "stdout",
     "output_type": "stream",
     "text": [
      "Data points considered outliers for the feature 'SalePrice':\n"
     ]
    },
    {
     "data": {
      "text/plain": [
       "'SalePrice'"
      ]
     },
     "metadata": {},
     "output_type": "display_data"
    },
    {
     "data": {
      "text/plain": [
       "(61, 201)"
      ]
     },
     "metadata": {},
     "output_type": "display_data"
    },
    {
     "name": "stdout",
     "output_type": "stream",
     "text": [
      "Data points considered outliers for the feature 'MiscVal':\n"
     ]
    },
    {
     "data": {
      "text/plain": [
       "'MiscVal'"
      ]
     },
     "metadata": {},
     "output_type": "display_data"
    },
    {
     "data": {
      "text/plain": [
       "(52, 201)"
      ]
     },
     "metadata": {},
     "output_type": "display_data"
    },
    {
     "name": "stdout",
     "output_type": "stream",
     "text": [
      "Data points considered outliers for the feature 'NeighborhoodMeanPrice':\n"
     ]
    },
    {
     "data": {
      "text/plain": [
       "'NeighborhoodMeanPrice'"
      ]
     },
     "metadata": {},
     "output_type": "display_data"
    },
    {
     "data": {
      "text/plain": [
       "(143, 201)"
      ]
     },
     "metadata": {},
     "output_type": "display_data"
    },
    {
     "name": "stdout",
     "output_type": "stream",
     "text": [
      "Data points considered outliers for the feature 'GarageTypeMeanPrice':\n"
     ]
    },
    {
     "data": {
      "text/plain": [
       "'GarageTypeMeanPrice'"
      ]
     },
     "metadata": {},
     "output_type": "display_data"
    },
    {
     "data": {
      "text/plain": [
       "(0, 201)"
      ]
     },
     "metadata": {},
     "output_type": "display_data"
    },
    {
     "name": "stdout",
     "output_type": "stream",
     "text": [
      "Data points considered outliers for the feature 'LotArea':\n"
     ]
    },
    {
     "data": {
      "text/plain": [
       "'LotArea'"
      ]
     },
     "metadata": {},
     "output_type": "display_data"
    },
    {
     "data": {
      "text/plain": [
       "(69, 201)"
      ]
     },
     "metadata": {},
     "output_type": "display_data"
    },
    {
     "name": "stdout",
     "output_type": "stream",
     "text": [
      "Data points considered outliers for the feature 'BsmtFinSF1':\n"
     ]
    },
    {
     "data": {
      "text/plain": [
       "'BsmtFinSF1'"
      ]
     },
     "metadata": {},
     "output_type": "display_data"
    },
    {
     "data": {
      "text/plain": [
       "(7, 201)"
      ]
     },
     "metadata": {},
     "output_type": "display_data"
    },
    {
     "name": "stdout",
     "output_type": "stream",
     "text": [
      "Data points considered outliers for the feature 'BsmtFinSF2':\n"
     ]
    },
    {
     "data": {
      "text/plain": [
       "'BsmtFinSF2'"
      ]
     },
     "metadata": {},
     "output_type": "display_data"
    },
    {
     "data": {
      "text/plain": [
       "(167, 201)"
      ]
     },
     "metadata": {},
     "output_type": "display_data"
    },
    {
     "name": "stdout",
     "output_type": "stream",
     "text": [
      "Data points considered outliers for the feature 'BsmtUnfSF':\n"
     ]
    },
    {
     "data": {
      "text/plain": [
       "'BsmtUnfSF'"
      ]
     },
     "metadata": {},
     "output_type": "display_data"
    },
    {
     "data": {
      "text/plain": [
       "(29, 201)"
      ]
     },
     "metadata": {},
     "output_type": "display_data"
    },
    {
     "name": "stdout",
     "output_type": "stream",
     "text": [
      "Data points considered outliers for the feature 'TotalBsmtSF':\n"
     ]
    },
    {
     "data": {
      "text/plain": [
       "'TotalBsmtSF'"
      ]
     },
     "metadata": {},
     "output_type": "display_data"
    },
    {
     "data": {
      "text/plain": [
       "(61, 201)"
      ]
     },
     "metadata": {},
     "output_type": "display_data"
    },
    {
     "name": "stdout",
     "output_type": "stream",
     "text": [
      "Data points considered outliers for the feature '1stFlrSF':\n"
     ]
    },
    {
     "data": {
      "text/plain": [
       "'1stFlrSF'"
      ]
     },
     "metadata": {},
     "output_type": "display_data"
    },
    {
     "data": {
      "text/plain": [
       "(20, 201)"
      ]
     },
     "metadata": {},
     "output_type": "display_data"
    },
    {
     "name": "stdout",
     "output_type": "stream",
     "text": [
      "Data points considered outliers for the feature '2ndFlrSF':\n"
     ]
    },
    {
     "data": {
      "text/plain": [
       "'2ndFlrSF'"
      ]
     },
     "metadata": {},
     "output_type": "display_data"
    },
    {
     "data": {
      "text/plain": [
       "(2, 201)"
      ]
     },
     "metadata": {},
     "output_type": "display_data"
    },
    {
     "name": "stdout",
     "output_type": "stream",
     "text": [
      "Data points considered outliers for the feature 'GrLivArea':\n"
     ]
    },
    {
     "data": {
      "text/plain": [
       "'GrLivArea'"
      ]
     },
     "metadata": {},
     "output_type": "display_data"
    },
    {
     "data": {
      "text/plain": [
       "(31, 201)"
      ]
     },
     "metadata": {},
     "output_type": "display_data"
    },
    {
     "name": "stdout",
     "output_type": "stream",
     "text": [
      "Data points considered outliers for the feature 'GarageArea':\n"
     ]
    },
    {
     "data": {
      "text/plain": [
       "'GarageArea'"
      ]
     },
     "metadata": {},
     "output_type": "display_data"
    },
    {
     "data": {
      "text/plain": [
       "(21, 201)"
      ]
     },
     "metadata": {},
     "output_type": "display_data"
    },
    {
     "name": "stdout",
     "output_type": "stream",
     "text": [
      "Data points considered outliers for the feature 'WoodDeckSF':\n"
     ]
    },
    {
     "data": {
      "text/plain": [
       "'WoodDeckSF'"
      ]
     },
     "metadata": {},
     "output_type": "display_data"
    },
    {
     "data": {
      "text/plain": [
       "(32, 201)"
      ]
     },
     "metadata": {},
     "output_type": "display_data"
    },
    {
     "name": "stdout",
     "output_type": "stream",
     "text": [
      "Data points considered outliers for the feature 'OpenPorchSF':\n"
     ]
    },
    {
     "data": {
      "text/plain": [
       "'OpenPorchSF'"
      ]
     },
     "metadata": {},
     "output_type": "display_data"
    },
    {
     "data": {
      "text/plain": [
       "(77, 201)"
      ]
     },
     "metadata": {},
     "output_type": "display_data"
    },
    {
     "name": "stdout",
     "output_type": "stream",
     "text": [
      "Data points considered outliers for the feature 'EnclosedPorch':\n"
     ]
    },
    {
     "data": {
      "text/plain": [
       "'EnclosedPorch'"
      ]
     },
     "metadata": {},
     "output_type": "display_data"
    },
    {
     "data": {
      "text/plain": [
       "(208, 201)"
      ]
     },
     "metadata": {},
     "output_type": "display_data"
    },
    {
     "name": "stdout",
     "output_type": "stream",
     "text": [
      "Data points considered outliers for the feature '3SsnPorch':\n"
     ]
    },
    {
     "data": {
      "text/plain": [
       "'3SsnPorch'"
      ]
     },
     "metadata": {},
     "output_type": "display_data"
    },
    {
     "data": {
      "text/plain": [
       "(24, 201)"
      ]
     },
     "metadata": {},
     "output_type": "display_data"
    },
    {
     "name": "stdout",
     "output_type": "stream",
     "text": [
      "Data points considered outliers for the feature 'ScreenPorch':\n"
     ]
    },
    {
     "data": {
      "text/plain": [
       "'ScreenPorch'"
      ]
     },
     "metadata": {},
     "output_type": "display_data"
    },
    {
     "data": {
      "text/plain": [
       "(116, 201)"
      ]
     },
     "metadata": {},
     "output_type": "display_data"
    },
    {
     "name": "stdout",
     "output_type": "stream",
     "text": [
      "Data points considered outliers for the feature 'PoolArea':\n"
     ]
    },
    {
     "data": {
      "text/plain": [
       "'PoolArea'"
      ]
     },
     "metadata": {},
     "output_type": "display_data"
    },
    {
     "data": {
      "text/plain": [
       "(7, 201)"
      ]
     },
     "metadata": {},
     "output_type": "display_data"
    },
    {
     "name": "stdout",
     "output_type": "stream",
     "text": [
      "Data points considered outliers for the feature 'BedroomAbvGr':\n"
     ]
    },
    {
     "data": {
      "text/plain": [
       "'BedroomAbvGr'"
      ]
     },
     "metadata": {},
     "output_type": "display_data"
    },
    {
     "data": {
      "text/plain": [
       "(35, 201)"
      ]
     },
     "metadata": {},
     "output_type": "display_data"
    },
    {
     "name": "stdout",
     "output_type": "stream",
     "text": [
      "Data points considered outliers for the feature 'KitchenAbvGr':\n"
     ]
    },
    {
     "data": {
      "text/plain": [
       "'KitchenAbvGr'"
      ]
     },
     "metadata": {},
     "output_type": "display_data"
    },
    {
     "data": {
      "text/plain": [
       "(68, 201)"
      ]
     },
     "metadata": {},
     "output_type": "display_data"
    },
    {
     "name": "stdout",
     "output_type": "stream",
     "text": [
      "Data points considered outliers for the feature 'LotFrontage':\n"
     ]
    },
    {
     "data": {
      "text/plain": [
       "'LotFrontage'"
      ]
     },
     "metadata": {},
     "output_type": "display_data"
    },
    {
     "data": {
      "text/plain": [
       "(121, 201)"
      ]
     },
     "metadata": {},
     "output_type": "display_data"
    },
    {
     "name": "stdout",
     "output_type": "stream",
     "text": [
      "Data points considered outliers for the feature 'LotDepth':\n"
     ]
    },
    {
     "data": {
      "text/plain": [
       "'LotDepth'"
      ]
     },
     "metadata": {},
     "output_type": "display_data"
    },
    {
     "data": {
      "text/plain": [
       "(228, 201)"
      ]
     },
     "metadata": {},
     "output_type": "display_data"
    },
    {
     "name": "stdout",
     "output_type": "stream",
     "text": [
      "Data points considered outliers for the feature 'MasVnrArea':\n"
     ]
    },
    {
     "data": {
      "text/plain": [
       "'MasVnrArea'"
      ]
     },
     "metadata": {},
     "output_type": "display_data"
    },
    {
     "data": {
      "text/plain": [
       "(98, 201)"
      ]
     },
     "metadata": {},
     "output_type": "display_data"
    },
    {
     "name": "stdout",
     "output_type": "stream",
     "text": [
      "Data points considered outliers for more than one feature:\n"
     ]
    },
    {
     "data": {
      "text/plain": [
       "Int64Index([   5,    7,    8,   11,   14,   17,   25,   28,   39,   45,\n",
       "            ...\n",
       "            1426, 1430, 1437, 1438, 1439, 1445, 1446, 1449, 1458, 1459],\n",
       "           dtype='int64', length=432)"
      ]
     },
     "metadata": {},
     "output_type": "display_data"
    },
    {
     "data": {
      "text/plain": [
       "(1028, 201)"
      ]
     },
     "metadata": {},
     "output_type": "display_data"
    }
   ],
   "source": [
    "import numpy as np\n",
    "\n",
    "outliers_data = train_data.copy(deep=True).drop(train_data.index)\n",
    "outlier_column = 'Is outlier in more than one feature?'\n",
    "\n",
    "features_to_check_for_outliers = [\n",
    "    'SalePrice',\n",
    "    'MiscVal',\n",
    "    'NeighborhoodMeanPrice',\n",
    "    'GarageTypeMeanPrice',\n",
    "    'LotArea',\n",
    "    'BsmtFinSF1',\n",
    "    'BsmtFinSF2',\n",
    "    'BsmtUnfSF',\n",
    "    'TotalBsmtSF',\n",
    "    '1stFlrSF',\n",
    "    '2ndFlrSF',\n",
    "    'GrLivArea',\n",
    "    'GarageArea',\n",
    "    'WoodDeckSF',\n",
    "    'OpenPorchSF',\n",
    "    'EnclosedPorch',\n",
    "    '3SsnPorch',\n",
    "    'ScreenPorch',\n",
    "    'PoolArea',\n",
    "    'BedroomAbvGr',\n",
    "    'KitchenAbvGr',\n",
    "    'LotFrontage',\n",
    "    'LotDepth',\n",
    "    'MasVnrArea'\n",
    "]\n",
    "\n",
    "# For each feature find the data points with extreme high or low values\n",
    "for feature in features_to_check_for_outliers:\n",
    "    \n",
    "    # TODO: Calculate Q1 (25th percentile of the data) for the given feature\n",
    "    Q1 = np.percentile(train_data[feature], 25)\n",
    "    \n",
    "    # TODO: Calculate Q3 (75th percentile of the data) for the given feature\n",
    "    Q3 = np.percentile(train_data[feature], 75)\n",
    "    \n",
    "    # TODO: Use the interquartile range to calculate an outlier step (1.5 times the interquartile range)\n",
    "    step = (Q3 - Q1) * 1.5\n",
    "    \n",
    "    # Display the outliers\n",
    "    print(\"Data points considered outliers for the feature '{}':\".format(feature))\n",
    "    feature_outliers = train_data[~((train_data[feature] >= Q1 - step) & (train_data[feature] <= Q3 + step))]\n",
    "    # display(feature_outliers)\n",
    "    display(feature)\n",
    "    display(feature_outliers.shape)\n",
    "    \n",
    "    outliers_data = outliers_data.append(feature_outliers)\n",
    "\n",
    "# OPTIONAL: Create Duplicated feature column\n",
    "outliers_data[outlier_column] = outliers_data.duplicated(keep=False)\n",
    "# OPTIONAL: Drop duplicated rows\n",
    "outliers_data_deduplicated = outliers_data.sort_index().drop_duplicates()\n",
    "# OPTIONAL: Filter rows with Duplicated == True\n",
    "outliers_in_more_than_one_feature = outliers_data_deduplicated[outliers_data_deduplicated[outlier_column]]\n",
    "\n",
    "# Display rows with more than one feature considered outlier\n",
    "print(\"Data points considered outliers for more than one feature:\")\n",
    "# display(outliers_in_more_than_one_feature)\n",
    "\n",
    "# OPTIONAL: Select the indices for data points you wish to remove\n",
    "# Remove data points where more than one feature is considered outlier\n",
    "outliers  = outliers_in_more_than_one_feature.index\n",
    "\n",
    "# Remove the outliers, if any were specified\n",
    "good_data = train_data.drop(train_data.index[outliers]).reset_index(drop = True)\n",
    "\n",
    "display(outliers)\n",
    "display(good_data.shape)"
   ]
  },
  {
   "cell_type": "markdown",
   "metadata": {},
   "source": [
    "## Feature scaling and normalization\n",
    "\n",
    "References:\n",
    "\n",
    "- https://towardsdatascience.com/the-ultimate-guide-to-data-cleaning-3969843991d4#d078\n",
    "- https://www.codecademy.com/articles/normalization\n",
    "- https://machinelearningmastery.com/feature-selection-machine-learning-python/\n",
    "- https://towardsdatascience.com/feature-selection-techniques-in-machine-learning-with-python-f24e7da3f36e"
   ]
  },
  {
   "cell_type": "code",
   "execution_count": 3,
   "metadata": {},
   "outputs": [],
   "source": [
    "# space (normalize and scale):\n",
    "#     LotArea, BsmtFinSF1, BsmtFinSF2, BsmtUnfSF, TotalBsmtSF, 1stFlrSF, 2ndFlrSF, \n",
    "#     GrLivArea, GarageArea, WoodDeckSF, OpenPorchSF, EnclosedPorch, 3SsnPorch, ScreenPorch, PoolArea,\n",
    "#     BedroomAbvGr, KitchenAbvGr, LotFrontage (*), LotDepth (*), MasVnrArea, \n",
    "#\n",
    "# quantity (scale):\n",
    "#     BsmtFullBath, BsmtHalfBath, FullBath, HalfBath, TotRmsAbvGrd, Fireplaces, GarageCars\n",
    "#\n",
    "# grade (scale):\n",
    "#     LotShape, LandSlope, Utilities, ExterQual, ExterCond, BsmtQual, BsmtCond, BsmtExposure,\n",
    "#     HeatingQC, CentralAir, KitchenQual, Functional, FireplaceQu, GarageFinish, GarageQual, GarageCond\n",
    "#     BsmtFinType1, BsmtFinType2, OverallQual, OverallCond, \n",
    "#\n",
    "# time (scale):\n",
    "#     YearBuilt, YearRemodAdd, YrSold, GarageYrBlt,\n",
    "#\n",
    "# currency (normalize and scale):\n",
    "#     MiscVal, NeighborhoodMeanPrice, GarageTypeMeanPrice\n",
    "#\n",
    "# one-hot-encoded-binary (keep):\n",
    "#     MSSubClass, MSZoning, LandContour, Street, LotConfig, BldgType, HouseStyle, RoofStyle, RoofMatl, MoSold,\n",
    "#     MasVnrType, Foundation, Heating, Electrical, PavedDrive, Condition1, Condition2, Exterior1st, Exterior2nd\n",
    "\n",
    "columns_to_normalize = [\n",
    "#     'MiscVal',\n",
    "#     'NeighborhoodMeanPrice',\n",
    "#     'GarageTypeMeanPrice',\n",
    "#     'LotArea',\n",
    "#     'BsmtFinSF1',\n",
    "#     'BsmtFinSF2',\n",
    "    'BsmtUnfSF',\n",
    "#     'TotalBsmtSF',\n",
    "#     '1stFlrSF',\n",
    "#     '2ndFlrSF',\n",
    "#     'GrLivArea',\n",
    "#     'GarageArea',\n",
    "    'WoodDeckSF',\n",
    "    'OpenPorchSF',\n",
    "    'EnclosedPorch',\n",
    "    '3SsnPorch',\n",
    "    'ScreenPorch',\n",
    "    'PoolArea',\n",
    "    'BedroomAbvGr',\n",
    "    'KitchenAbvGr',\n",
    "#     'LotFrontage',\n",
    "#     'LotDepth',\n",
    "    'MasVnrArea'\n",
    "]\n",
    "\n",
    "columns_to_scale = [\n",
    "#     'MiscVal',\n",
    "#     'NeighborhoodMeanPrice',\n",
    "#     'GarageTypeMeanPrice',\n",
    "#     'LotArea',\n",
    "#     'BsmtFinSF1',\n",
    "#     'BsmtFinSF2',\n",
    "    'BsmtUnfSF',\n",
    "#     'TotalBsmtSF',\n",
    "#     '1stFlrSF',\n",
    "#     '2ndFlrSF',\n",
    "#     'GrLivArea',\n",
    "#     'GarageArea',\n",
    "    'WoodDeckSF',\n",
    "    'OpenPorchSF',\n",
    "    'EnclosedPorch',\n",
    "    '3SsnPorch',\n",
    "    'ScreenPorch',\n",
    "    'PoolArea',\n",
    "    'BedroomAbvGr',\n",
    "    'KitchenAbvGr',\n",
    "#     'LotFrontage',\n",
    "#     'LotDepth',\n",
    "    'MasVnrArea',\n",
    "    'BsmtFullBath',\n",
    "    'BsmtHalfBath',\n",
    "    'FullBath',\n",
    "    'HalfBath',\n",
    "    'TotRmsAbvGrd',\n",
    "    'Fireplaces',\n",
    "    'GarageCars',\n",
    "    'LotShape',\n",
    "    'LandSlope',\n",
    "    'Utilities',\n",
    "    'ExterQual',\n",
    "    'ExterCond',\n",
    "    'BsmtQual',\n",
    "    'BsmtCond',\n",
    "    'BsmtExposure',\n",
    "    'HeatingQC',\n",
    "    'CentralAir',\n",
    "    'KitchenQual',\n",
    "    'Functional',\n",
    "    'FireplaceQu',\n",
    "    'GarageFinish',\n",
    "    'GarageQual',\n",
    "    'GarageCond',\n",
    "    'BsmtFinType1',\n",
    "    'BsmtFinType2',\n",
    "    'OverallQual',\n",
    "    'OverallCond',\n",
    "    'YearBuilt',\n",
    "    'YearRemodAdd',\n",
    "    'YrSold',\n",
    "    'GarageYrBlt'\n",
    "]"
   ]
  },
  {
   "cell_type": "code",
   "execution_count": 4,
   "metadata": {},
   "outputs": [
    {
     "data": {
      "text/html": [
       "<div>\n",
       "<style scoped>\n",
       "    .dataframe tbody tr th:only-of-type {\n",
       "        vertical-align: middle;\n",
       "    }\n",
       "\n",
       "    .dataframe tbody tr th {\n",
       "        vertical-align: top;\n",
       "    }\n",
       "\n",
       "    .dataframe thead th {\n",
       "        text-align: right;\n",
       "    }\n",
       "</style>\n",
       "<table border=\"1\" class=\"dataframe\">\n",
       "  <thead>\n",
       "    <tr style=\"text-align: right;\">\n",
       "      <th></th>\n",
       "      <th>1stFlrSF</th>\n",
       "      <th>2ndFlrSF</th>\n",
       "      <th>3SsnPorch</th>\n",
       "      <th>BedroomAbvGr</th>\n",
       "      <th>BldgType_1Fam</th>\n",
       "      <th>BldgType_2fmCon</th>\n",
       "      <th>BldgType_Duplex</th>\n",
       "      <th>BldgType_Twnhs</th>\n",
       "      <th>BldgType_TwnhsE</th>\n",
       "      <th>BsmtCond</th>\n",
       "      <th>...</th>\n",
       "      <th>ScreenPorch</th>\n",
       "      <th>Street_Grvl</th>\n",
       "      <th>Street_Pave</th>\n",
       "      <th>TotRmsAbvGrd</th>\n",
       "      <th>TotalBsmtSF</th>\n",
       "      <th>Utilities</th>\n",
       "      <th>WoodDeckSF</th>\n",
       "      <th>YearBuilt</th>\n",
       "      <th>YearRemodAdd</th>\n",
       "      <th>YrSold</th>\n",
       "    </tr>\n",
       "  </thead>\n",
       "  <tbody>\n",
       "    <tr>\n",
       "      <th>0</th>\n",
       "      <td>856</td>\n",
       "      <td>854</td>\n",
       "      <td>-0.097769</td>\n",
       "      <td>0.281436</td>\n",
       "      <td>1</td>\n",
       "      <td>0</td>\n",
       "      <td>0</td>\n",
       "      <td>0</td>\n",
       "      <td>0</td>\n",
       "      <td>3</td>\n",
       "      <td>...</td>\n",
       "      <td>-0.208611</td>\n",
       "      <td>0</td>\n",
       "      <td>1</td>\n",
       "      <td>8</td>\n",
       "      <td>856</td>\n",
       "      <td>4</td>\n",
       "      <td>-0.784357</td>\n",
       "      <td>2003</td>\n",
       "      <td>2003</td>\n",
       "      <td>2008</td>\n",
       "    </tr>\n",
       "    <tr>\n",
       "      <th>1</th>\n",
       "      <td>1262</td>\n",
       "      <td>0</td>\n",
       "      <td>-0.097769</td>\n",
       "      <td>0.281436</td>\n",
       "      <td>1</td>\n",
       "      <td>0</td>\n",
       "      <td>0</td>\n",
       "      <td>0</td>\n",
       "      <td>0</td>\n",
       "      <td>3</td>\n",
       "      <td>...</td>\n",
       "      <td>-0.208611</td>\n",
       "      <td>0</td>\n",
       "      <td>1</td>\n",
       "      <td>6</td>\n",
       "      <td>1262</td>\n",
       "      <td>4</td>\n",
       "      <td>1.968847</td>\n",
       "      <td>1976</td>\n",
       "      <td>1976</td>\n",
       "      <td>2007</td>\n",
       "    </tr>\n",
       "    <tr>\n",
       "      <th>2</th>\n",
       "      <td>920</td>\n",
       "      <td>866</td>\n",
       "      <td>-0.097769</td>\n",
       "      <td>0.281436</td>\n",
       "      <td>1</td>\n",
       "      <td>0</td>\n",
       "      <td>0</td>\n",
       "      <td>0</td>\n",
       "      <td>0</td>\n",
       "      <td>3</td>\n",
       "      <td>...</td>\n",
       "      <td>-0.208611</td>\n",
       "      <td>0</td>\n",
       "      <td>1</td>\n",
       "      <td>6</td>\n",
       "      <td>920</td>\n",
       "      <td>4</td>\n",
       "      <td>-0.784357</td>\n",
       "      <td>2001</td>\n",
       "      <td>2002</td>\n",
       "      <td>2008</td>\n",
       "    </tr>\n",
       "    <tr>\n",
       "      <th>3</th>\n",
       "      <td>961</td>\n",
       "      <td>756</td>\n",
       "      <td>-0.097769</td>\n",
       "      <td>0.281436</td>\n",
       "      <td>1</td>\n",
       "      <td>0</td>\n",
       "      <td>0</td>\n",
       "      <td>0</td>\n",
       "      <td>0</td>\n",
       "      <td>4</td>\n",
       "      <td>...</td>\n",
       "      <td>-0.208611</td>\n",
       "      <td>0</td>\n",
       "      <td>1</td>\n",
       "      <td>7</td>\n",
       "      <td>756</td>\n",
       "      <td>4</td>\n",
       "      <td>-0.784357</td>\n",
       "      <td>1915</td>\n",
       "      <td>1970</td>\n",
       "      <td>2006</td>\n",
       "    </tr>\n",
       "    <tr>\n",
       "      <th>4</th>\n",
       "      <td>1145</td>\n",
       "      <td>1053</td>\n",
       "      <td>-0.097769</td>\n",
       "      <td>1.720817</td>\n",
       "      <td>1</td>\n",
       "      <td>0</td>\n",
       "      <td>0</td>\n",
       "      <td>0</td>\n",
       "      <td>0</td>\n",
       "      <td>3</td>\n",
       "      <td>...</td>\n",
       "      <td>-0.208611</td>\n",
       "      <td>0</td>\n",
       "      <td>1</td>\n",
       "      <td>9</td>\n",
       "      <td>1145</td>\n",
       "      <td>4</td>\n",
       "      <td>0.989519</td>\n",
       "      <td>2000</td>\n",
       "      <td>2000</td>\n",
       "      <td>2008</td>\n",
       "    </tr>\n",
       "  </tbody>\n",
       "</table>\n",
       "<p>5 rows × 201 columns</p>\n",
       "</div>"
      ],
      "text/plain": [
       "   1stFlrSF  2ndFlrSF  3SsnPorch  BedroomAbvGr  BldgType_1Fam  \\\n",
       "0       856       854  -0.097769      0.281436              1   \n",
       "1      1262         0  -0.097769      0.281436              1   \n",
       "2       920       866  -0.097769      0.281436              1   \n",
       "3       961       756  -0.097769      0.281436              1   \n",
       "4      1145      1053  -0.097769      1.720817              1   \n",
       "\n",
       "   BldgType_2fmCon  BldgType_Duplex  BldgType_Twnhs  BldgType_TwnhsE  \\\n",
       "0                0                0               0                0   \n",
       "1                0                0               0                0   \n",
       "2                0                0               0                0   \n",
       "3                0                0               0                0   \n",
       "4                0                0               0                0   \n",
       "\n",
       "   BsmtCond   ...    ScreenPorch  Street_Grvl  Street_Pave  TotRmsAbvGrd  \\\n",
       "0         3   ...      -0.208611            0            1             8   \n",
       "1         3   ...      -0.208611            0            1             6   \n",
       "2         3   ...      -0.208611            0            1             6   \n",
       "3         4   ...      -0.208611            0            1             7   \n",
       "4         3   ...      -0.208611            0            1             9   \n",
       "\n",
       "   TotalBsmtSF  Utilities  WoodDeckSF  YearBuilt  YearRemodAdd  YrSold  \n",
       "0          856          4   -0.784357       2003          2003    2008  \n",
       "1         1262          4    1.968847       1976          1976    2007  \n",
       "2          920          4   -0.784357       2001          2002    2008  \n",
       "3          756          4   -0.784357       1915          1970    2006  \n",
       "4         1145          4    0.989519       2000          2000    2008  \n",
       "\n",
       "[5 rows x 201 columns]"
      ]
     },
     "execution_count": 4,
     "metadata": {},
     "output_type": "execute_result"
    }
   ],
   "source": [
    "# mean normalization\n",
    "normalized_train_data = good_data.copy()\n",
    "normalized_test_data = test_data.copy()\n",
    "\n",
    "normalized_train_data[columns_to_normalize] = (normalized_train_data[columns_to_normalize] - normalized_train_data[columns_to_normalize].mean()) / normalized_train_data[columns_to_normalize].std()\n",
    "normalized_test_data[columns_to_normalize] = (normalized_test_data[columns_to_normalize] - normalized_test_data[columns_to_normalize].mean()) / normalized_test_data[columns_to_normalize].std()\n",
    "\n",
    "normalized_train_data.head()"
   ]
  },
  {
   "cell_type": "code",
   "execution_count": 5,
   "metadata": {
    "scrolled": true
   },
   "outputs": [
    {
     "data": {
      "text/html": [
       "<div>\n",
       "<style scoped>\n",
       "    .dataframe tbody tr th:only-of-type {\n",
       "        vertical-align: middle;\n",
       "    }\n",
       "\n",
       "    .dataframe tbody tr th {\n",
       "        vertical-align: top;\n",
       "    }\n",
       "\n",
       "    .dataframe thead th {\n",
       "        text-align: right;\n",
       "    }\n",
       "</style>\n",
       "<table border=\"1\" class=\"dataframe\">\n",
       "  <thead>\n",
       "    <tr style=\"text-align: right;\">\n",
       "      <th></th>\n",
       "      <th>1stFlrSF</th>\n",
       "      <th>2ndFlrSF</th>\n",
       "      <th>3SsnPorch</th>\n",
       "      <th>BedroomAbvGr</th>\n",
       "      <th>BldgType_1Fam</th>\n",
       "      <th>BldgType_2fmCon</th>\n",
       "      <th>BldgType_Duplex</th>\n",
       "      <th>BldgType_Twnhs</th>\n",
       "      <th>BldgType_TwnhsE</th>\n",
       "      <th>BsmtCond</th>\n",
       "      <th>...</th>\n",
       "      <th>ScreenPorch</th>\n",
       "      <th>Street_Grvl</th>\n",
       "      <th>Street_Pave</th>\n",
       "      <th>TotRmsAbvGrd</th>\n",
       "      <th>TotalBsmtSF</th>\n",
       "      <th>Utilities</th>\n",
       "      <th>WoodDeckSF</th>\n",
       "      <th>YearBuilt</th>\n",
       "      <th>YearRemodAdd</th>\n",
       "      <th>YrSold</th>\n",
       "    </tr>\n",
       "  </thead>\n",
       "  <tbody>\n",
       "    <tr>\n",
       "      <th>0</th>\n",
       "      <td>856</td>\n",
       "      <td>854</td>\n",
       "      <td>0.0</td>\n",
       "      <td>0.6</td>\n",
       "      <td>1</td>\n",
       "      <td>0</td>\n",
       "      <td>0</td>\n",
       "      <td>0</td>\n",
       "      <td>0</td>\n",
       "      <td>0.75</td>\n",
       "      <td>...</td>\n",
       "      <td>0.0</td>\n",
       "      <td>0</td>\n",
       "      <td>1</td>\n",
       "      <td>0.666667</td>\n",
       "      <td>856</td>\n",
       "      <td>NaN</td>\n",
       "      <td>0.000000</td>\n",
       "      <td>0.956204</td>\n",
       "      <td>0.883333</td>\n",
       "      <td>0.50</td>\n",
       "    </tr>\n",
       "    <tr>\n",
       "      <th>1</th>\n",
       "      <td>1262</td>\n",
       "      <td>0</td>\n",
       "      <td>0.0</td>\n",
       "      <td>0.6</td>\n",
       "      <td>1</td>\n",
       "      <td>0</td>\n",
       "      <td>0</td>\n",
       "      <td>0</td>\n",
       "      <td>0</td>\n",
       "      <td>0.75</td>\n",
       "      <td>...</td>\n",
       "      <td>0.0</td>\n",
       "      <td>0</td>\n",
       "      <td>1</td>\n",
       "      <td>0.444444</td>\n",
       "      <td>1262</td>\n",
       "      <td>NaN</td>\n",
       "      <td>0.555970</td>\n",
       "      <td>0.759124</td>\n",
       "      <td>0.433333</td>\n",
       "      <td>0.25</td>\n",
       "    </tr>\n",
       "    <tr>\n",
       "      <th>2</th>\n",
       "      <td>920</td>\n",
       "      <td>866</td>\n",
       "      <td>0.0</td>\n",
       "      <td>0.6</td>\n",
       "      <td>1</td>\n",
       "      <td>0</td>\n",
       "      <td>0</td>\n",
       "      <td>0</td>\n",
       "      <td>0</td>\n",
       "      <td>0.75</td>\n",
       "      <td>...</td>\n",
       "      <td>0.0</td>\n",
       "      <td>0</td>\n",
       "      <td>1</td>\n",
       "      <td>0.444444</td>\n",
       "      <td>920</td>\n",
       "      <td>NaN</td>\n",
       "      <td>0.000000</td>\n",
       "      <td>0.941606</td>\n",
       "      <td>0.866667</td>\n",
       "      <td>0.50</td>\n",
       "    </tr>\n",
       "    <tr>\n",
       "      <th>3</th>\n",
       "      <td>961</td>\n",
       "      <td>756</td>\n",
       "      <td>0.0</td>\n",
       "      <td>0.6</td>\n",
       "      <td>1</td>\n",
       "      <td>0</td>\n",
       "      <td>0</td>\n",
       "      <td>0</td>\n",
       "      <td>0</td>\n",
       "      <td>1.00</td>\n",
       "      <td>...</td>\n",
       "      <td>0.0</td>\n",
       "      <td>0</td>\n",
       "      <td>1</td>\n",
       "      <td>0.555556</td>\n",
       "      <td>756</td>\n",
       "      <td>NaN</td>\n",
       "      <td>0.000000</td>\n",
       "      <td>0.313869</td>\n",
       "      <td>0.333333</td>\n",
       "      <td>0.00</td>\n",
       "    </tr>\n",
       "    <tr>\n",
       "      <th>4</th>\n",
       "      <td>1145</td>\n",
       "      <td>1053</td>\n",
       "      <td>0.0</td>\n",
       "      <td>0.8</td>\n",
       "      <td>1</td>\n",
       "      <td>0</td>\n",
       "      <td>0</td>\n",
       "      <td>0</td>\n",
       "      <td>0</td>\n",
       "      <td>0.75</td>\n",
       "      <td>...</td>\n",
       "      <td>0.0</td>\n",
       "      <td>0</td>\n",
       "      <td>1</td>\n",
       "      <td>0.777778</td>\n",
       "      <td>1145</td>\n",
       "      <td>NaN</td>\n",
       "      <td>0.358209</td>\n",
       "      <td>0.934307</td>\n",
       "      <td>0.833333</td>\n",
       "      <td>0.50</td>\n",
       "    </tr>\n",
       "  </tbody>\n",
       "</table>\n",
       "<p>5 rows × 201 columns</p>\n",
       "</div>"
      ],
      "text/plain": [
       "   1stFlrSF  2ndFlrSF  3SsnPorch  BedroomAbvGr  BldgType_1Fam  \\\n",
       "0       856       854        0.0           0.6              1   \n",
       "1      1262         0        0.0           0.6              1   \n",
       "2       920       866        0.0           0.6              1   \n",
       "3       961       756        0.0           0.6              1   \n",
       "4      1145      1053        0.0           0.8              1   \n",
       "\n",
       "   BldgType_2fmCon  BldgType_Duplex  BldgType_Twnhs  BldgType_TwnhsE  \\\n",
       "0                0                0               0                0   \n",
       "1                0                0               0                0   \n",
       "2                0                0               0                0   \n",
       "3                0                0               0                0   \n",
       "4                0                0               0                0   \n",
       "\n",
       "   BsmtCond   ...    ScreenPorch  Street_Grvl  Street_Pave  TotRmsAbvGrd  \\\n",
       "0      0.75   ...            0.0            0            1      0.666667   \n",
       "1      0.75   ...            0.0            0            1      0.444444   \n",
       "2      0.75   ...            0.0            0            1      0.444444   \n",
       "3      1.00   ...            0.0            0            1      0.555556   \n",
       "4      0.75   ...            0.0            0            1      0.777778   \n",
       "\n",
       "   TotalBsmtSF  Utilities  WoodDeckSF  YearBuilt  YearRemodAdd  YrSold  \n",
       "0          856        NaN    0.000000   0.956204      0.883333    0.50  \n",
       "1         1262        NaN    0.555970   0.759124      0.433333    0.25  \n",
       "2          920        NaN    0.000000   0.941606      0.866667    0.50  \n",
       "3          756        NaN    0.000000   0.313869      0.333333    0.00  \n",
       "4         1145        NaN    0.358209   0.934307      0.833333    0.50  \n",
       "\n",
       "[5 rows x 201 columns]"
      ]
     },
     "execution_count": 5,
     "metadata": {},
     "output_type": "execute_result"
    }
   ],
   "source": [
    "# min max scaling\n",
    "# normalized_df=(df-df.min())/(df.max()-df.min())\n",
    "scaled_train_data = normalized_train_data.copy()\n",
    "scaled_test_data = normalized_test_data.copy()\n",
    "\n",
    "scaled_train_data[columns_to_scale] = (scaled_train_data[columns_to_scale] - scaled_train_data[columns_to_scale].min()) / (scaled_train_data[columns_to_scale].max() - scaled_train_data[columns_to_scale].min())\n",
    "scaled_test_data[columns_to_scale] = (scaled_test_data[columns_to_scale] - scaled_train_data[columns_to_scale].min()) / (scaled_train_data[columns_to_scale].max() - scaled_train_data[columns_to_scale].min())\n",
    "\n",
    "scaled_train_data.head()"
   ]
  },
  {
   "cell_type": "markdown",
   "metadata": {},
   "source": [
    "## Feature Selection\n",
    "\n",
    "References:\n",
    "\n",
    "- https://towardsdatascience.com/feature-selection-techniques-in-machine-learning-with-python-f24e7da3f36e\n",
    "- https://seaborn.pydata.org/generated/seaborn.pairplot.html"
   ]
  },
  {
   "cell_type": "markdown",
   "metadata": {},
   "source": [
    "### Feature variance\n",
    "\n",
    "- Drop features with no variance"
   ]
  },
  {
   "cell_type": "code",
   "execution_count": 6,
   "metadata": {},
   "outputs": [
    {
     "data": {
      "text/plain": [
       "(1028, 201)"
      ]
     },
     "metadata": {},
     "output_type": "display_data"
    },
    {
     "data": {
      "text/plain": [
       "RoofMatl_Metal         0.000000\n",
       "Condition2_RRAe        0.000000\n",
       "Condition2_PosN        0.000000\n",
       "Condition2_PosA        0.000000\n",
       "Exterior1st_Stone      0.000000\n",
       "Exterior1st_AsphShn    0.000000\n",
       "MSSubClass_150         0.000000\n",
       "Exterior1st_CBlock     0.000000\n",
       "Heating_Wall           0.000000\n",
       "RoofMatl_Membran       0.000000\n",
       "RoofStyle_Shed         0.000000\n",
       "Exterior2nd_CBlock     0.000000\n",
       "Exterior1st_ImStucc    0.000000\n",
       "RoofMatl_Roll          0.000000\n",
       "Exterior1st_Other      0.000000\n",
       "Exterior2nd_Other      0.000000\n",
       "RoofMatl_ClyTile       0.000000\n",
       "Heating_Floor          0.000973\n",
       "Exterior2nd_Stone      0.000973\n",
       "Foundation_Wood        0.000973\n",
       "PoolArea               0.000973\n",
       "Condition2_RRAn        0.000973\n",
       "RoofMatl_WdShngl       0.000973\n",
       "RoofMatl_WdShake       0.000973\n",
       "Electrical_Mix         0.000973\n",
       "Electrical_FuseP       0.000973\n",
       "Heating_OthW           0.001944\n",
       "Street_Pave            0.001944\n",
       "Street_Grvl            0.001944\n",
       "Exterior1st_BrkComm    0.001944\n",
       "                         ...   \n",
       "YearBuilt              0.046108\n",
       "MoSold_11              0.046318\n",
       "CentralAir             0.047196\n",
       "BsmtUnfSF              0.049646\n",
       "PavedDrive_N           0.049818\n",
       "MSSubClass_30          0.050689\n",
       "Condition1_Feedr       0.050689\n",
       "LotConfig_CulDSac      0.053289\n",
       "MSZoning_FV            0.055013\n",
       "HeatingQC              0.056630\n",
       "Electrical_FuseA       0.058438\n",
       "MoSold_10              0.058438\n",
       "MSSubClass_120         0.059289\n",
       "BsmtExposure           0.060585\n",
       "Exterior1st_Plywood    0.061832\n",
       "HalfBath               0.062627\n",
       "MoSold_3               0.064359\n",
       "GarageYrBlt            0.067712\n",
       "PavedDrive_Y           0.068531\n",
       "BldgType_TwnhsE        0.071012\n",
       "LandContour_Lvl        0.071012\n",
       "MoSold_8               0.073475\n",
       "MasVnrType_Stone       0.074293\n",
       "Electrical_SBrkr       0.074293\n",
       "Exterior2nd_Plywood    0.079962\n",
       "GarageFinish           0.083838\n",
       "Foundation_BrkTil      0.087114\n",
       "MoSold_4               0.087114\n",
       "MSSubClass_50          0.088682\n",
       "HouseStyle_1.5Fin      0.091797\n",
       "Length: 153, dtype: float64"
      ]
     },
     "metadata": {},
     "output_type": "display_data"
    },
    {
     "data": {
      "text/plain": [
       "Series([], dtype: float64)"
      ]
     },
     "metadata": {},
     "output_type": "display_data"
    },
    {
     "data": {
      "text/plain": [
       "(1028, 48)"
      ]
     },
     "metadata": {},
     "output_type": "display_data"
    }
   ],
   "source": [
    "reduced_var_train_data = scaled_train_data.copy()\n",
    "reduced_var_test_data = scaled_test_data.copy()\n",
    "\n",
    "def run_var_analysis():\n",
    "    features = reduced_var_train_data.drop(columns=['Id', 'SalePrice'])\n",
    "\n",
    "    var_feats = features.var()\n",
    "    var_feats_ordered = var_feats.sort_values(ascending=True)\n",
    "    return var_feats_ordered[var_feats_ordered < 0.1]\n",
    "\n",
    "low_variance_feats = run_var_analysis()\n",
    "display(reduced_var_train_data.shape)\n",
    "display(low_variance_feats)\n",
    "\n",
    "reduced_var_train_data.drop(columns=low_variance_feats.index, inplace=True)\n",
    "reduced_var_test_data.drop(columns=low_variance_feats.index, inplace=True)\n",
    "\n",
    "display(run_var_analysis())\n",
    "display(reduced_var_train_data.shape)"
   ]
  },
  {
   "cell_type": "markdown",
   "metadata": {},
   "source": [
    "### Feature correlation\n",
    "\n",
    "- Drop highly correlated features"
   ]
  },
  {
   "cell_type": "code",
   "execution_count": 37,
   "metadata": {
    "scrolled": true
   },
   "outputs": [
    {
     "data": {
      "text/plain": [
       "Exterior1st_VinylSd    0.993844\n",
       "Exterior2nd_VinylSd    0.993844\n",
       "Exterior1st_MetalSd    0.970795\n",
       "Exterior2nd_MetalSd    0.970795\n",
       "RoofStyle_Hip          0.952917\n",
       "RoofStyle_Gable        0.952917\n",
       "Exterior1st_HdBoard    0.875784\n",
       "Exterior2nd_HdBoard    0.875784\n",
       "Exterior2nd_Wd Sdng    0.875184\n",
       "Exterior1st_Wd Sdng    0.875184\n",
       "HouseStyle_2Story      0.858880\n",
       "2ndFlrSF               0.858880\n",
       "1stFlrSF               0.842037\n",
       "TotalBsmtSF            0.842037\n",
       "MasVnrType_None        0.816230\n",
       "MasVnrType_BrkFace     0.816230\n",
       "MSSubClass_60          0.808596\n",
       "Foundation_CBlock      0.804909\n",
       "Foundation_PConc       0.804909\n",
       "dtype: float64"
      ]
     },
     "execution_count": 37,
     "metadata": {},
     "output_type": "execute_result"
    }
   ],
   "source": [
    "reduced_train_data = reduced_var_train_data.copy()\n",
    "reduced_test_data = reduced_var_test_data.copy()\n",
    "\n",
    "def run_corr_analysis():\n",
    "    features = reduced_train_data.drop(columns=['Id', 'SalePrice'])\n",
    "\n",
    "    corr = features.corr().abs()\n",
    "    corr[corr == 1] = 0\n",
    "    corr_cols = corr.max().sort_values(ascending=False)\n",
    "    return corr_cols[corr_cols > 0.8]\n",
    "\n",
    "corr_results = run_corr_analysis()\n",
    "corr_result_index = 0\n",
    "for corr_result in corr_results.index:\n",
    "    # display(corr_result)\n",
    "    \n",
    "    if (corr_result_index % 2 == 1):\n",
    "        # display(corr_result)\n",
    "        reduced_train_data.drop(columns=[corr_result], inplace=True)\n",
    "        reduced_test_data.drop(columns=[corr_result], inplace=True)\n",
    "\n",
    "run_corr_analysis()"
   ]
  },
  {
   "cell_type": "markdown",
   "metadata": {},
   "source": [
    "### Target correlation\n",
    "\n",
    "- Drop lowly target-correlated features"
   ]
  },
  {
   "cell_type": "code",
   "execution_count": null,
   "metadata": {
    "scrolled": true
   },
   "outputs": [],
   "source": [
    "def run_target_corr_analysis():\n",
    "    features = reduced_train_data.drop(columns=['Id'])\n",
    "\n",
    "    corr = features.corr().abs()\n",
    "    target_corr = corr['SalePrice'].sort_values(ascending=True)\n",
    "    return target_corr[target_corr < 0.2]\n",
    "\n",
    "lowly_correlated_feats = run_target_corr_analysis()\n",
    "display(reduced_train_data.shape)\n",
    "display(lowly_correlated_feats)\n",
    "\n",
    "reduced_train_data.drop(columns=lowly_correlated_feats.index, inplace=True)\n",
    "reduced_test_data.drop(columns=lowly_correlated_feats.index, inplace=True)\n",
    "\n",
    "display(run_target_corr_analysis())\n",
    "display(reduced_train_data.shape)"
   ]
  },
  {
   "cell_type": "markdown",
   "metadata": {},
   "source": [
    "### Feature aggregation"
   ]
  },
  {
   "cell_type": "code",
   "execution_count": null,
   "metadata": {},
   "outputs": [],
   "source": [
    "reduced_train_data['FireplaceRating'] = reduced_train_data['Fireplaces'] * reduced_train_data['FireplaceQu']\n",
    "reduced_test_data['FireplaceRating'] = reduced_test_data['Fireplaces'] * reduced_test_data['FireplaceQu']"
   ]
  },
  {
   "cell_type": "markdown",
   "metadata": {},
   "source": [
    "### Feature importance\n",
    "\n",
    "- Drop lowly important features"
   ]
  },
  {
   "cell_type": "code",
   "execution_count": null,
   "metadata": {
    "scrolled": false
   },
   "outputs": [],
   "source": [
    "from sklearn.ensemble import RandomForestRegressor\n",
    "\n",
    "rfr = RandomForestRegressor(n_jobs=-1, random_state=42, n_estimators=50)\n",
    "\n",
    "feature_selected_train_data = reduced_train_data.copy()\n",
    "feature_selected_test_data = reduced_test_data.copy()\n",
    "\n",
    "def run_importance_analysis():\n",
    "    features = feature_selected_train_data.drop(columns=['Id', 'SalePrice'])\n",
    "    \n",
    "    rfr_importance_analyser = rfr.fit(features, feature_selected_train_data['SalePrice'])\n",
    "    return features.columns[rfr_importance_analyser.feature_importances_ < 0.1]\n",
    "\n",
    "low_importance_feats = run_importance_analysis()\n",
    "display(feature_selected_train_data.shape)\n",
    "display(low_importance_feats)\n",
    "\n",
    "feature_selected_train_data.drop(columns=low_importance_feats, inplace=True)\n",
    "feature_selected_test_data.drop(columns=low_importance_feats, inplace=True)\n",
    "\n",
    "display(run_importance_analysis())\n",
    "display(feature_selected_train_data.shape)"
   ]
  },
  {
   "cell_type": "code",
   "execution_count": null,
   "metadata": {
    "scrolled": true
   },
   "outputs": [],
   "source": [
    "feature_selected_train_data.describe()"
   ]
  },
  {
   "cell_type": "markdown",
   "metadata": {},
   "source": [
    "## Regression Model Selection"
   ]
  },
  {
   "cell_type": "markdown",
   "metadata": {},
   "source": [
    "### Random Forest Regressor\n",
    "\n",
    "- It did pretty well! Wow!\n",
    "- It overfitted the training data, which is not a good sign"
   ]
  },
  {
   "cell_type": "code",
   "execution_count": null,
   "metadata": {},
   "outputs": [],
   "source": [
    "from sklearn.ensemble import RandomForestRegressor\n",
    "from sklearn.metrics import mean_squared_log_error\n",
    "from sklearn.model_selection import KFold\n",
    "\n",
    "rfr_train_X = feature_selected_train_data.drop(columns=['Id', 'SalePrice'])\n",
    "rfr_train_y = feature_selected_train_data['SalePrice']\n",
    "\n",
    "rfr = RandomForestRegressor(n_jobs=-1, random_state=42)\n",
    "\n",
    "kf = KFold(n_splits=2, random_state=42, shuffle=False)\n",
    "\n",
    "for kf_chunks in kf.split(rfr_train_X):\n",
    "    train_index = kf_chunks[0]\n",
    "    test_index = kf_chunks[1]\n",
    "    \n",
    "    X_train = rfr_train_X.iloc[train_index]\n",
    "    X_test = rfr_train_X.iloc[test_index]\n",
    "    y_train = rfr_train_y.iloc[train_index]\n",
    "    y_test = rfr_train_y.iloc[test_index]\n",
    "    \n",
    "    rfr_predictor = rfr.fit(X_train, y_train)\n",
    "    y_train_predicted = rfr_predictor.predict(X_train)\n",
    "    y_test_predicted = rfr_predictor.predict(X_test)\n",
    "    \n",
    "    y_train_predicted[y_train_predicted < 0] = 0\n",
    "    y_test_predicted[y_test_predicted < 0] = 0\n",
    "    \n",
    "    print('[Random Forest] Current fold train performance', mean_squared_log_error(y_train, y_train_predicted))\n",
    "    print('[Random Forest] Current fold test performance', mean_squared_log_error(y_test, y_test_predicted))"
   ]
  },
  {
   "cell_type": "markdown",
   "metadata": {},
   "source": [
    "### Linear Regression\n",
    "\n",
    "- It performed much better than the Naive Linear Regression Predictor\n",
    "- Feature engineering made that improvement happen\n",
    "- It still haven't generalized well"
   ]
  },
  {
   "cell_type": "code",
   "execution_count": null,
   "metadata": {},
   "outputs": [],
   "source": [
    "from sklearn.linear_model import LinearRegression\n",
    "from sklearn.metrics import mean_squared_log_error\n",
    "from sklearn.model_selection import KFold\n",
    "\n",
    "lr_train_X = feature_selected_train_data.drop(columns=['Id', 'SalePrice'])\n",
    "lr_train_y = feature_selected_train_data['SalePrice']\n",
    "\n",
    "linear_regression = LinearRegression(n_jobs=-1)\n",
    "\n",
    "kf = KFold(n_splits=2, random_state=42, shuffle=False)\n",
    "\n",
    "for kf_chunks in kf.split(lr_train_X):\n",
    "    train_index = kf_chunks[0]\n",
    "    test_index = kf_chunks[1]\n",
    "    \n",
    "    X_train = lr_train_X.iloc[train_index]\n",
    "    X_test = lr_train_X.iloc[test_index]\n",
    "    y_train = lr_train_y.iloc[train_index]\n",
    "    y_test = lr_train_y.iloc[test_index]\n",
    "    \n",
    "    lr_predictor = linear_regression.fit(X_train, y_train)\n",
    "    y_train_predicted = lr_predictor.predict(X_train)\n",
    "    y_test_predicted = lr_predictor.predict(X_test)\n",
    "    \n",
    "    y_train_predicted[y_train_predicted < 0] = 0\n",
    "    y_test_predicted[y_test_predicted < 0] = 0\n",
    "    \n",
    "    print('[Linear Regression] Current fold train performance', mean_squared_log_error(y_train, y_train_predicted))\n",
    "    print('[Linear Regression] Current fold test performance', mean_squared_log_error(y_test, y_test_predicted))"
   ]
  },
  {
   "cell_type": "markdown",
   "metadata": {},
   "source": [
    "### Stochastic Gradient Descent Regressor\n",
    "\n",
    "- It has performed pretty good!\n",
    "- Also, it have generalized well!\n",
    "- RandomForest have performed better.\n",
    "- RandomForest have generalized better with the submission test_data."
   ]
  },
  {
   "cell_type": "code",
   "execution_count": null,
   "metadata": {},
   "outputs": [],
   "source": [
    "from sklearn.linear_model import SGDRegressor\n",
    "from sklearn.metrics import mean_squared_log_error\n",
    "from sklearn.model_selection import KFold\n",
    "\n",
    "sgdr_train_X = feature_selected_train_data.drop(columns=['Id', 'SalePrice'])\n",
    "sgdr_train_y = feature_selected_train_data['SalePrice']\n",
    "\n",
    "sgdr = SGDRegressor(random_state=42, max_iter=100)\n",
    "\n",
    "kf = KFold(n_splits=2, random_state=42, shuffle=False)\n",
    "\n",
    "for kf_chunks in kf.split(sgdr_train_X):\n",
    "    train_index = kf_chunks[0]\n",
    "    test_index = kf_chunks[1]\n",
    "    \n",
    "    X_train = sgdr_train_X.iloc[train_index]\n",
    "    X_test = sgdr_train_X.iloc[test_index]\n",
    "    y_train = sgdr_train_y.iloc[train_index]\n",
    "    y_test = sgdr_train_y.iloc[test_index]\n",
    "    \n",
    "    sgdr_predictor = sgdr.fit(X_train, y_train)\n",
    "    y_train_predicted = sgdr_predictor.predict(X_train)\n",
    "    y_test_predicted = sgdr_predictor.predict(X_test)\n",
    "    \n",
    "    y_train_predicted[y_train_predicted < 0] = 0\n",
    "    y_test_predicted[y_test_predicted < 0] = 0\n",
    "    \n",
    "    print('[SGD Regressor] Current fold train performance', mean_squared_log_error(y_train, y_train_predicted))\n",
    "    print('[SGD Regressor] Current fold test performance', mean_squared_log_error(y_test, y_test_predicted))"
   ]
  },
  {
   "cell_type": "markdown",
   "metadata": {},
   "source": [
    "### Tuning Random Forest"
   ]
  },
  {
   "cell_type": "code",
   "execution_count": null,
   "metadata": {},
   "outputs": [],
   "source": [
    "from sklearn.ensemble import RandomForestRegressor\n",
    "from sklearn.metrics import mean_squared_log_error, make_scorer\n",
    "from sklearn.model_selection import KFold, GridSearchCV\n",
    "\n",
    "def custom_scorer(y, y_pred):\n",
    "    y_pred[y_pred < 0] = 0\n",
    "    return mean_squared_log_error(y, y_pred)\n",
    "\n",
    "gs_scorer = make_scorer(custom_scorer, greater_is_better=False)\n",
    "\n",
    "gs_train_X = feature_selected_train_data.drop(columns=['Id', 'SalePrice'])\n",
    "gs_train_y = feature_selected_train_data['SalePrice']\n",
    "\n",
    "rfr = RandomForestRegressor(n_jobs=-1, random_state=42)\n",
    "\n",
    "rfr_gs_params = {\n",
    "    'n_estimators': [5, 50, 100],\n",
    "    'max_depth': [2, 5, 10],\n",
    "    'min_samples_split': [2, 3, 5],\n",
    "    'min_samples_leaf': [1, 2, 3, 5],\n",
    "    'max_leaf_nodes': [None]\n",
    "}\n",
    "\n",
    "gs = GridSearchCV(rfr, rfr_gs_params, n_jobs=-1, cv=3, scoring=gs_scorer)\n",
    "\n",
    "rfr_gs_predictor = gs.fit(gs_train_X, gs_train_y)\n",
    "\n",
    "rfr_gs_predictor.best_params_"
   ]
  },
  {
   "cell_type": "code",
   "execution_count": null,
   "metadata": {},
   "outputs": [],
   "source": [
    "from sklearn.ensemble import RandomForestRegressor\n",
    "from sklearn.metrics import mean_squared_log_error\n",
    "from sklearn.model_selection import KFold\n",
    "\n",
    "rfr_train_X = feature_selected_train_data.drop(columns=['Id', 'SalePrice'])\n",
    "rfr_train_y = feature_selected_train_data['SalePrice']\n",
    "\n",
    "# max_depth=10, n_estimators=10\n",
    "# max_depth=2, n_estimators=100\n",
    "# max_depth=2, n_estimators=100, min_samples_leaf= 3, min_samples_split=3\n",
    "\n",
    "rfr = RandomForestRegressor(n_jobs=-1, random_state=42, max_depth=10, n_estimators=100, min_samples_leaf=3, min_samples_split=2)\n",
    "\n",
    "kf = KFold(n_splits=2, random_state=42, shuffle=False)\n",
    "\n",
    "for kf_chunks in kf.split(rfr_train_X):\n",
    "    train_index = kf_chunks[0]\n",
    "    test_index = kf_chunks[1]\n",
    "    \n",
    "    X_train = rfr_train_X.iloc[train_index]\n",
    "    X_test = rfr_train_X.iloc[test_index]\n",
    "    y_train = rfr_train_y.iloc[train_index]\n",
    "    y_test = rfr_train_y.iloc[test_index]\n",
    "    \n",
    "    rfr_predictor = rfr.fit(X_train, y_train)\n",
    "    y_train_predicted = rfr_predictor.predict(X_train)\n",
    "    y_test_predicted = rfr_predictor.predict(X_test)\n",
    "    \n",
    "    y_train_predicted[y_train_predicted < 0] = 0\n",
    "    y_test_predicted[y_test_predicted < 0] = 0\n",
    "    \n",
    "    print('[Random Forest] Current fold train performance', mean_squared_log_error(y_train, y_train_predicted))\n",
    "    print('[Random Forest] Current fold test performance', mean_squared_log_error(y_test, y_test_predicted))"
   ]
  },
  {
   "cell_type": "markdown",
   "metadata": {},
   "source": [
    "### Tuning SGD Regressor"
   ]
  },
  {
   "cell_type": "code",
   "execution_count": null,
   "metadata": {},
   "outputs": [],
   "source": [
    "from sklearn.linear_model import SGDRegressor\n",
    "from sklearn.metrics import mean_squared_log_error, make_scorer\n",
    "from sklearn.model_selection import KFold, GridSearchCV\n",
    "\n",
    "def custom_scorer(y, y_pred):\n",
    "    y_pred[y_pred < 0] = 0\n",
    "    return mean_squared_log_error(y, y_pred)\n",
    "\n",
    "gs_scorer = make_scorer(custom_scorer, greater_is_better=False)\n",
    "\n",
    "gs_train_X = feature_selected_train_data.drop(columns=['Id', 'SalePrice'])\n",
    "gs_train_y = feature_selected_train_data['SalePrice']\n",
    "\n",
    "sgd = SGDRegressor(random_state=42)\n",
    "\n",
    "sgd_gs_params = {\n",
    "    'max_iter': [1000, 500, 2000],\n",
    "    'alpha': [0.0001, 0.00001, 0.001],\n",
    "    'tol': [0.001, 0.01, 0.0001],\n",
    "    'learning_rate': ['constant', 'optimal', 'invscaling', 'adaptive'],\n",
    "    'eta0': [0.01, 0.1, 0.001]\n",
    "}\n",
    "\n",
    "gs = GridSearchCV(sgd, sgd_gs_params, n_jobs=-1, cv=2, scoring=gs_scorer)\n",
    "\n",
    "sgd_gs_predictor = gs.fit(gs_train_X, gs_train_y)\n",
    "\n",
    "sgd_gs_predictor.best_params_"
   ]
  },
  {
   "cell_type": "code",
   "execution_count": null,
   "metadata": {},
   "outputs": [],
   "source": [
    "from sklearn.linear_model import SGDRegressor\n",
    "from sklearn.metrics import mean_squared_log_error\n",
    "from sklearn.model_selection import KFold\n",
    "\n",
    "sgdr_train_X = feature_selected_train_data.drop(columns=['Id', 'SalePrice'])\n",
    "sgdr_train_y = feature_selected_train_data['SalePrice']\n",
    "\n",
    "sgdr = SGDRegressor(random_state=42, max_iter=1000, alpha=0.0001, eta0=0.1, tol=0.001, learning_rate='constant')\n",
    "\n",
    "kf = KFold(n_splits=2, random_state=42, shuffle=False)\n",
    "\n",
    "for kf_chunks in kf.split(sgdr_train_X):\n",
    "    train_index = kf_chunks[0]\n",
    "    test_index = kf_chunks[1]\n",
    "    \n",
    "    X_train = sgdr_train_X.iloc[train_index]\n",
    "    X_test = sgdr_train_X.iloc[test_index]\n",
    "    y_train = sgdr_train_y.iloc[train_index]\n",
    "    y_test = sgdr_train_y.iloc[test_index]\n",
    "    \n",
    "    sgdr_predictor = sgdr.fit(X_train, y_train)\n",
    "    y_train_predicted = sgdr_predictor.predict(X_train)\n",
    "    y_test_predicted = sgdr_predictor.predict(X_test)\n",
    "    \n",
    "    y_train_predicted[y_train_predicted < 0] = 0\n",
    "    y_test_predicted[y_test_predicted < 0] = 0\n",
    "    \n",
    "    print('[SGD Regressor] Current fold train performance', mean_squared_log_error(y_train, y_train_predicted))\n",
    "    print('[SGD Regressor] Current fold test performance', mean_squared_log_error(y_test, y_test_predicted))"
   ]
  },
  {
   "cell_type": "markdown",
   "metadata": {},
   "source": [
    "## Results for submission"
   ]
  },
  {
   "cell_type": "code",
   "execution_count": null,
   "metadata": {},
   "outputs": [],
   "source": [
    "submit_test_X = feature_selected_test_data.drop(columns=['Id'])\n",
    "\n",
    "# sgdr_predictor.fit(sgdr_train_X, sgdr_train_y)\n",
    "# results = sgdr_predictor.predict(submit_test_X)\n",
    "rfr_predictor.fit(rfr_train_X, rfr_train_y)\n",
    "results = rfr_predictor.predict(submit_test_X)\n",
    "\n",
    "kaggle_sb_df = pd.DataFrame({ 'SalePrice': results, 'Id': feature_selected_test_data['Id'] })\n",
    "\n",
    "kaggle_sb_df.to_csv('data/kaggle_submission_08.csv', index=False)"
   ]
  }
 ],
 "metadata": {
  "kernelspec": {
   "display_name": "Python 2",
   "language": "python",
   "name": "python2"
  },
  "language_info": {
   "codemirror_mode": {
    "name": "ipython",
    "version": 2
   },
   "file_extension": ".py",
   "mimetype": "text/x-python",
   "name": "python",
   "nbconvert_exporter": "python",
   "pygments_lexer": "ipython2",
   "version": "2.7.15"
  }
 },
 "nbformat": 4,
 "nbformat_minor": 2
}
